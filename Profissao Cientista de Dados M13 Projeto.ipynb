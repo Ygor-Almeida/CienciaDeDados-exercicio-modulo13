{
 "cells": [
  {
   "cell_type": "markdown",
   "metadata": {
    "id": "VOTu7U3Mvxzq"
   },
   "source": [
    "# **MÓDULO 13**\n",
    "# Projeto - Fundamentos da Descoberta de Dados"
   ]
  },
  {
   "cell_type": "markdown",
   "metadata": {
    "id": "-HYgkdAywLd0"
   },
   "source": [
    "Nesse projeto trabalharemos com a base de dados de produtos de um supermercado do Chile.\n",
    "A ideia é que vocês apliquem os conceitos estatísticos vistos no último módulo, mais os conceitos de visualizações de dados através de gráficos e finalizem publicando no seu github!"
   ]
  },
  {
   "cell_type": "code",
   "execution_count": 1,
   "metadata": {
    "id": "OTdTnbzUwE2X"
   },
   "outputs": [],
   "source": [
    "import pandas as pd\n",
    "import seaborn as sns\n",
    "import matplotlib.pyplot as plt\n",
    "import plotly.express as px\n",
    "import numpy as np"
   ]
  },
  {
   "cell_type": "markdown",
   "metadata": {
    "id": "ky1Dk_KWywEa"
   },
   "source": [
    "Faça a leitura dos dados do arquivo CSV:\n",
    "\n",
    "\n",
    "Altere o código abaixo de acordo com seu diretório."
   ]
  },
  {
   "cell_type": "code",
   "execution_count": 33,
   "metadata": {
    "colab": {
     "base_uri": "https://localhost:8080/",
     "height": 363
    },
    "id": "bRBFyVB5wlny",
    "outputId": "cde5190b-fecf-48f8-e98c-5ec7e469bcfb"
   },
   "outputs": [
    {
     "data": {
      "text/html": [
       "<div>\n",
       "<style scoped>\n",
       "    .dataframe tbody tr th:only-of-type {\n",
       "        vertical-align: middle;\n",
       "    }\n",
       "\n",
       "    .dataframe tbody tr th {\n",
       "        vertical-align: top;\n",
       "    }\n",
       "\n",
       "    .dataframe thead th {\n",
       "        text-align: right;\n",
       "    }\n",
       "</style>\n",
       "<table border=\"1\" class=\"dataframe\">\n",
       "  <thead>\n",
       "    <tr style=\"text-align: right;\">\n",
       "      <th></th>\n",
       "      <th>title</th>\n",
       "      <th>Marca</th>\n",
       "      <th>Preco_Normal</th>\n",
       "      <th>Preco_Desconto</th>\n",
       "      <th>Preco_Anterior</th>\n",
       "      <th>Desconto</th>\n",
       "      <th>Categoria</th>\n",
       "    </tr>\n",
       "  </thead>\n",
       "  <tbody>\n",
       "    <tr>\n",
       "      <th>0</th>\n",
       "      <td>Pack 12 un, Leche extra proteína 1 L</td>\n",
       "      <td>Loncoleche</td>\n",
       "      <td>19788</td>\n",
       "      <td>0</td>\n",
       "      <td>0</td>\n",
       "      <td>0</td>\n",
       "      <td>laticinios</td>\n",
       "    </tr>\n",
       "    <tr>\n",
       "      <th>1</th>\n",
       "      <td>Pack 12 un, Leche chocolate receta original 1 L</td>\n",
       "      <td>Soprole</td>\n",
       "      <td>18228</td>\n",
       "      <td>0</td>\n",
       "      <td>0</td>\n",
       "      <td>0</td>\n",
       "      <td>laticinios</td>\n",
       "    </tr>\n",
       "    <tr>\n",
       "      <th>2</th>\n",
       "      <td>Pack 12 un, Leche semidescremada chocolate 1 L</td>\n",
       "      <td>Soprole</td>\n",
       "      <td>18228</td>\n",
       "      <td>0</td>\n",
       "      <td>0</td>\n",
       "      <td>0</td>\n",
       "      <td>laticinios</td>\n",
       "    </tr>\n",
       "    <tr>\n",
       "      <th>3</th>\n",
       "      <td>Pack 12 un, Leche semidescremada frutilla 1 L</td>\n",
       "      <td>Soprole</td>\n",
       "      <td>18228</td>\n",
       "      <td>0</td>\n",
       "      <td>0</td>\n",
       "      <td>0</td>\n",
       "      <td>laticinios</td>\n",
       "    </tr>\n",
       "    <tr>\n",
       "      <th>4</th>\n",
       "      <td>Pack 12 un, Leche sin lactosa chocolate 1 L</td>\n",
       "      <td>Loncoleche</td>\n",
       "      <td>17988</td>\n",
       "      <td>0</td>\n",
       "      <td>0</td>\n",
       "      <td>0</td>\n",
       "      <td>laticinios</td>\n",
       "    </tr>\n",
       "    <tr>\n",
       "      <th>5</th>\n",
       "      <td>Pack 12 un, Leche sin lactosa frutilla 1 L</td>\n",
       "      <td>Loncoleche</td>\n",
       "      <td>17988</td>\n",
       "      <td>0</td>\n",
       "      <td>0</td>\n",
       "      <td>0</td>\n",
       "      <td>laticinios</td>\n",
       "    </tr>\n",
       "    <tr>\n",
       "      <th>6</th>\n",
       "      <td>Pack 12 un, Leche saborizada light chocolate 1 L</td>\n",
       "      <td>Loncoleche</td>\n",
       "      <td>17988</td>\n",
       "      <td>0</td>\n",
       "      <td>0</td>\n",
       "      <td>0</td>\n",
       "      <td>laticinios</td>\n",
       "    </tr>\n",
       "    <tr>\n",
       "      <th>7</th>\n",
       "      <td>Pack 12 un, Leche saborizada frutilla 1 L</td>\n",
       "      <td>Colun</td>\n",
       "      <td>17388</td>\n",
       "      <td>0</td>\n",
       "      <td>0</td>\n",
       "      <td>0</td>\n",
       "      <td>laticinios</td>\n",
       "    </tr>\n",
       "    <tr>\n",
       "      <th>8</th>\n",
       "      <td>Pack 12 un, Leche saborizada vainilla 1 L</td>\n",
       "      <td>Colun</td>\n",
       "      <td>17388</td>\n",
       "      <td>0</td>\n",
       "      <td>0</td>\n",
       "      <td>0</td>\n",
       "      <td>laticinios</td>\n",
       "    </tr>\n",
       "    <tr>\n",
       "      <th>9</th>\n",
       "      <td>Pack 12 un, Leche saborizada manjar 1 L</td>\n",
       "      <td>Colun</td>\n",
       "      <td>17388</td>\n",
       "      <td>0</td>\n",
       "      <td>0</td>\n",
       "      <td>0</td>\n",
       "      <td>laticinios</td>\n",
       "    </tr>\n",
       "    <tr>\n",
       "      <th>10</th>\n",
       "      <td>Pack 12 un, Leche saborizada plátano 1 L</td>\n",
       "      <td>Loncoleche</td>\n",
       "      <td>17388</td>\n",
       "      <td>0</td>\n",
       "      <td>0</td>\n",
       "      <td>0</td>\n",
       "      <td>laticinios</td>\n",
       "    </tr>\n",
       "  </tbody>\n",
       "</table>\n",
       "</div>"
      ],
      "text/plain": [
       "                                               title       Marca  \\\n",
       "0               Pack 12 un, Leche extra proteína 1 L  Loncoleche   \n",
       "1    Pack 12 un, Leche chocolate receta original 1 L     Soprole   \n",
       "2     Pack 12 un, Leche semidescremada chocolate 1 L     Soprole   \n",
       "3      Pack 12 un, Leche semidescremada frutilla 1 L     Soprole   \n",
       "4        Pack 12 un, Leche sin lactosa chocolate 1 L  Loncoleche   \n",
       "5         Pack 12 un, Leche sin lactosa frutilla 1 L  Loncoleche   \n",
       "6   Pack 12 un, Leche saborizada light chocolate 1 L  Loncoleche   \n",
       "7          Pack 12 un, Leche saborizada frutilla 1 L       Colun   \n",
       "8          Pack 12 un, Leche saborizada vainilla 1 L       Colun   \n",
       "9            Pack 12 un, Leche saborizada manjar 1 L       Colun   \n",
       "10          Pack 12 un, Leche saborizada plátano 1 L  Loncoleche   \n",
       "\n",
       "    Preco_Normal  Preco_Desconto  Preco_Anterior  Desconto   Categoria  \n",
       "0          19788               0               0         0  laticinios  \n",
       "1          18228               0               0         0  laticinios  \n",
       "2          18228               0               0         0  laticinios  \n",
       "3          18228               0               0         0  laticinios  \n",
       "4          17988               0               0         0  laticinios  \n",
       "5          17988               0               0         0  laticinios  \n",
       "6          17988               0               0         0  laticinios  \n",
       "7          17388               0               0         0  laticinios  \n",
       "8          17388               0               0         0  laticinios  \n",
       "9          17388               0               0         0  laticinios  \n",
       "10         17388               0               0         0  laticinios  "
      ]
     },
     "execution_count": 33,
     "metadata": {},
     "output_type": "execute_result"
    }
   ],
   "source": [
    "df = pd.read_csv(\"MODULO7_PROJETOFINAL_BASE_SUPERMERCADO.csv\")\n",
    "\n",
    "df['Categoria'] = df['Categoria'].str.replace('lacteos', 'laticinios', regex=False)\n",
    "df['Categoria'] = df['Categoria'].str.replace('belleza-y-cuidado-personal', 'beleza-e-cuidado-pessoal', regex=False)\n",
    "df['Categoria'] = df['Categoria'].str.replace('instantaneos-y-sopas', 'instantaneo-e-sopas', regex=False)\n",
    "\n",
    "df.head(11)"
   ]
  },
  {
   "cell_type": "markdown",
   "metadata": {
    "id": "YJgKJ7Nxwtw2"
   },
   "source": [
    "Os campos do nosso dataframe são:\n",
    "\n",
    "**Title:** Nome do produto.\n",
    "\n",
    "\n",
    "**Marca:** A marca do produto.\n",
    "\n",
    "\n",
    "**Preco_Normal:** O preço em que o produto costuma ser vendido quando não há desconto.\n",
    "\n",
    "\n",
    "**Preco_Desconto:** O preço vendido após o desconto ser aplicado.\n",
    "\n",
    "\n",
    "**Preco_Anterior:** Preço em que era comercializado o produto antes do desconto aplicado.\n",
    "\n",
    "\n",
    "**Desconto:** Total de desconto aplicado.\n",
    "\n",
    "\n",
    "\n",
    "\n",
    "\n",
    "\n",
    "As colunas que aparecem com valores 0 são para os produtos onde não tivemos descontos aplicados.\n",
    "\n",
    "\n",
    "As categorias estão em espanhol!"
   ]
  },
  {
   "cell_type": "markdown",
   "metadata": {
    "id": "4u6WBeyyy6ri"
   },
   "source": [
    "# 1 - Traga a média e a mediana dos preços - coluna Preco_Normal - por categoria de produto.\n",
    "# Identifique as categorias que parecem ter um valor de média abaixo ou acima da mediana."
   ]
  },
  {
   "cell_type": "code",
   "execution_count": 35,
   "metadata": {
    "id": "E7B7FolOzVcJ"
   },
   "outputs": [
    {
     "data": {
      "text/html": [
       "<div>\n",
       "<style scoped>\n",
       "    .dataframe tbody tr th:only-of-type {\n",
       "        vertical-align: middle;\n",
       "    }\n",
       "\n",
       "    .dataframe tbody tr th {\n",
       "        vertical-align: top;\n",
       "    }\n",
       "\n",
       "    .dataframe thead th {\n",
       "        text-align: right;\n",
       "    }\n",
       "</style>\n",
       "<table border=\"1\" class=\"dataframe\">\n",
       "  <thead>\n",
       "    <tr style=\"text-align: right;\">\n",
       "      <th></th>\n",
       "      <th>Categoria</th>\n",
       "      <th>Preco_Normal</th>\n",
       "    </tr>\n",
       "  </thead>\n",
       "  <tbody>\n",
       "    <tr>\n",
       "      <th>1</th>\n",
       "      <td>comidas-preparadas</td>\n",
       "      <td>3095.043478</td>\n",
       "    </tr>\n",
       "    <tr>\n",
       "      <th>5</th>\n",
       "      <td>laticinios</td>\n",
       "      <td>2385.219239</td>\n",
       "    </tr>\n",
       "    <tr>\n",
       "      <th>2</th>\n",
       "      <td>congelados</td>\n",
       "      <td>2108.042553</td>\n",
       "    </tr>\n",
       "    <tr>\n",
       "      <th>0</th>\n",
       "      <td>beleza-e-cuidado-pessoal</td>\n",
       "      <td>1783.556485</td>\n",
       "    </tr>\n",
       "    <tr>\n",
       "      <th>3</th>\n",
       "      <td>frutas</td>\n",
       "      <td>1724.473684</td>\n",
       "    </tr>\n",
       "    <tr>\n",
       "      <th>6</th>\n",
       "      <td>verduras</td>\n",
       "      <td>1343.296875</td>\n",
       "    </tr>\n",
       "    <tr>\n",
       "      <th>4</th>\n",
       "      <td>instantaneo-e-sopas</td>\n",
       "      <td>765.491228</td>\n",
       "    </tr>\n",
       "  </tbody>\n",
       "</table>\n",
       "</div>"
      ],
      "text/plain": [
       "                  Categoria  Preco_Normal\n",
       "1        comidas-preparadas   3095.043478\n",
       "5                laticinios   2385.219239\n",
       "2                congelados   2108.042553\n",
       "0  beleza-e-cuidado-pessoal   1783.556485\n",
       "3                    frutas   1724.473684\n",
       "6                  verduras   1343.296875\n",
       "4       instantaneo-e-sopas    765.491228"
      ]
     },
     "execution_count": 35,
     "metadata": {},
     "output_type": "execute_result"
    }
   ],
   "source": [
    "#Seu código aqui para a média\n",
    "df.groupby('Categoria')['Preco_Normal'].mean().reset_index().sort_values(by='Preco_Normal', ascending=False)"
   ]
  },
  {
   "cell_type": "code",
   "execution_count": 37,
   "metadata": {
    "id": "Rwf4V3hnzZwh"
   },
   "outputs": [
    {
     "data": {
      "text/html": [
       "<div>\n",
       "<style scoped>\n",
       "    .dataframe tbody tr th:only-of-type {\n",
       "        vertical-align: middle;\n",
       "    }\n",
       "\n",
       "    .dataframe tbody tr th {\n",
       "        vertical-align: top;\n",
       "    }\n",
       "\n",
       "    .dataframe thead th {\n",
       "        text-align: right;\n",
       "    }\n",
       "</style>\n",
       "<table border=\"1\" class=\"dataframe\">\n",
       "  <thead>\n",
       "    <tr style=\"text-align: right;\">\n",
       "      <th></th>\n",
       "      <th>Categoria</th>\n",
       "      <th>Preco_Normal</th>\n",
       "    </tr>\n",
       "  </thead>\n",
       "  <tbody>\n",
       "    <tr>\n",
       "      <th>1</th>\n",
       "      <td>comidas-preparadas</td>\n",
       "      <td>3290.0</td>\n",
       "    </tr>\n",
       "    <tr>\n",
       "      <th>0</th>\n",
       "      <td>beleza-e-cuidado-pessoal</td>\n",
       "      <td>1569.0</td>\n",
       "    </tr>\n",
       "    <tr>\n",
       "      <th>2</th>\n",
       "      <td>congelados</td>\n",
       "      <td>1519.0</td>\n",
       "    </tr>\n",
       "    <tr>\n",
       "      <th>3</th>\n",
       "      <td>frutas</td>\n",
       "      <td>1195.0</td>\n",
       "    </tr>\n",
       "    <tr>\n",
       "      <th>6</th>\n",
       "      <td>verduras</td>\n",
       "      <td>1180.0</td>\n",
       "    </tr>\n",
       "    <tr>\n",
       "      <th>5</th>\n",
       "      <td>laticinios</td>\n",
       "      <td>989.0</td>\n",
       "    </tr>\n",
       "    <tr>\n",
       "      <th>4</th>\n",
       "      <td>instantaneo-e-sopas</td>\n",
       "      <td>439.0</td>\n",
       "    </tr>\n",
       "  </tbody>\n",
       "</table>\n",
       "</div>"
      ],
      "text/plain": [
       "                  Categoria  Preco_Normal\n",
       "1        comidas-preparadas        3290.0\n",
       "0  beleza-e-cuidado-pessoal        1569.0\n",
       "2                congelados        1519.0\n",
       "3                    frutas        1195.0\n",
       "6                  verduras        1180.0\n",
       "5                laticinios         989.0\n",
       "4       instantaneo-e-sopas         439.0"
      ]
     },
     "execution_count": 37,
     "metadata": {},
     "output_type": "execute_result"
    }
   ],
   "source": [
    "#Seu código aqui para a mediana\n",
    "df.groupby('Categoria')['Preco_Normal'].median().reset_index().sort_values(by='Preco_Normal', ascending=False)"
   ]
  },
  {
   "cell_type": "markdown",
   "metadata": {
    "id": "nKBFOh-mzyWX"
   },
   "source": [
    "Digite aqui as categorias: laticinios, congelados e frutas"
   ]
  },
  {
   "cell_type": "markdown",
   "metadata": {
    "id": "jdHZurzDzca0"
   },
   "source": [
    "# 2 - Traga o desvio padrão por categoria de produto.\n",
    "# Qual o comportamento da média e mediana nas categorias com maior desvio?"
   ]
  },
  {
   "cell_type": "code",
   "execution_count": 39,
   "metadata": {
    "id": "xEXT1gtoz135"
   },
   "outputs": [
    {
     "data": {
      "text/html": [
       "<div>\n",
       "<style scoped>\n",
       "    .dataframe tbody tr th:only-of-type {\n",
       "        vertical-align: middle;\n",
       "    }\n",
       "\n",
       "    .dataframe tbody tr th {\n",
       "        vertical-align: top;\n",
       "    }\n",
       "\n",
       "    .dataframe thead th {\n",
       "        text-align: right;\n",
       "    }\n",
       "</style>\n",
       "<table border=\"1\" class=\"dataframe\">\n",
       "  <thead>\n",
       "    <tr style=\"text-align: right;\">\n",
       "      <th></th>\n",
       "      <th>Categoria</th>\n",
       "      <th>Preco_Normal</th>\n",
       "    </tr>\n",
       "  </thead>\n",
       "  <tbody>\n",
       "    <tr>\n",
       "      <th>5</th>\n",
       "      <td>laticinios</td>\n",
       "      <td>3925.816164</td>\n",
       "    </tr>\n",
       "    <tr>\n",
       "      <th>0</th>\n",
       "      <td>beleza-e-cuidado-pessoal</td>\n",
       "      <td>2210.041719</td>\n",
       "    </tr>\n",
       "    <tr>\n",
       "      <th>2</th>\n",
       "      <td>congelados</td>\n",
       "      <td>2111.539896</td>\n",
       "    </tr>\n",
       "    <tr>\n",
       "      <th>1</th>\n",
       "      <td>comidas-preparadas</td>\n",
       "      <td>2019.911428</td>\n",
       "    </tr>\n",
       "    <tr>\n",
       "      <th>3</th>\n",
       "      <td>frutas</td>\n",
       "      <td>1639.151114</td>\n",
       "    </tr>\n",
       "    <tr>\n",
       "      <th>4</th>\n",
       "      <td>instantaneo-e-sopas</td>\n",
       "      <td>1170.232869</td>\n",
       "    </tr>\n",
       "    <tr>\n",
       "      <th>6</th>\n",
       "      <td>verduras</td>\n",
       "      <td>1012.699625</td>\n",
       "    </tr>\n",
       "  </tbody>\n",
       "</table>\n",
       "</div>"
      ],
      "text/plain": [
       "                  Categoria  Preco_Normal\n",
       "5                laticinios   3925.816164\n",
       "0  beleza-e-cuidado-pessoal   2210.041719\n",
       "2                congelados   2111.539896\n",
       "1        comidas-preparadas   2019.911428\n",
       "3                    frutas   1639.151114\n",
       "4       instantaneo-e-sopas   1170.232869\n",
       "6                  verduras   1012.699625"
      ]
     },
     "execution_count": 39,
     "metadata": {},
     "output_type": "execute_result"
    }
   ],
   "source": [
    "#Seu código aqui\n",
    "df.groupby('Categoria')['Preco_Normal'].std().reset_index().sort_values(by='Preco_Normal', ascending=False)"
   ]
  },
  {
   "cell_type": "markdown",
   "metadata": {
    "id": "HzsLO4nOz3yJ"
   },
   "source": [
    "Digite nesse campo o comportamento que você identificou: O desvio padrão está muito alto para as categorias lacteos, belleza-y-cuidado-personal e comidas-preparadas"
   ]
  },
  {
   "cell_type": "markdown",
   "metadata": {
    "id": "4aW51rCHBr2w"
   },
   "source": [
    "# 3 - Plot um boxplot da distribuição do Preco_Normal para a categoria que você identificou que tem o maior desvio padrão. Como é a distribuição desses dados segundo o boxplot? Você identifica muitos outliers?"
   ]
  },
  {
   "cell_type": "markdown",
   "metadata": {
    "id": "kwPKkUZnEUSb"
   },
   "source": [
    "Dica: Para trazer apenas os dados da categoria que você deseja você pode usar o df.loc[df['Categoria'] == 'CATEGORIA ESCOLHIDA'"
   ]
  },
  {
   "cell_type": "code",
   "execution_count": 41,
   "metadata": {
    "id": "_02thblTCKEF"
   },
   "outputs": [
    {
     "data": {
      "image/png": "[encoded data removed]",
      "text/plain": [
       "<Figure size 500x800 with 1 Axes>"
      ]
     },
     "metadata": {},
     "output_type": "display_data"
    }
   ],
   "source": [
    "#Seu código aqui\n",
    "#No grafico do boxplot é possivel ver uma grande quantidade de outliers no preço normal da categoria 'lacteos'.\n",
    "filtro_laticinios = df[df['Categoria'] == 'laticinios']\n",
    "\n",
    "plt.figure(figsize=(5,8))\n",
    "plt.boxplot(filtro_laticinios['Preco_Normal'])\n",
    "plt.title('BoxPlot da Categoria Laticinios')\n",
    "plt.ylabel('filtro_laticinios')\n",
    "plt.grid(True, linestyle='-', alpha=0.7)\n",
    "plt.show()"
   ]
  },
  {
   "cell_type": "markdown",
   "metadata": {
    "id": "w5xgQBC_0Hg-"
   },
   "source": [
    "# 4 - Plote um gráfico de barras onde temos a média de descontos por categoria."
   ]
  },
  {
   "cell_type": "code",
   "execution_count": 43,
   "metadata": {
    "id": "DBj5zAdI0QfI"
   },
   "outputs": [
    {
     "data": {
      "image/png": "[encoded data removed]",
      "text/plain": [
       "<Figure size 1700x400 with 1 Axes>"
      ]
     },
     "metadata": {},
     "output_type": "display_data"
    }
   ],
   "source": [
    "# Seu código aqui\n",
    "\n",
    "plt.figure(figsize=(17,4))\n",
    "desconto_por_categoria = df.groupby('Categoria')['Desconto'].mean()\n",
    "plt.bar(desconto_por_categoria.index, desconto_por_categoria, color='red')\n",
    "plt.title('Média de Descontos por Categorias de Produtos', fontsize=15)\n",
    "plt.xlabel('Categorias de Produtos', fontsize=15)\n",
    "plt.ylabel('Média de Descontos', fontsize=15)\n",
    "plt.xticks(rotation=0)\n",
    "plt.show()"
   ]
  },
  {
   "cell_type": "markdown",
   "metadata": {
    "id": "vqlx0w7E07uC"
   },
   "source": [
    "# 5 - Plote um gráfico de mapa interativo agrupando os dados por categoria, marca e trazendo a média de desconto."
   ]
  },
  {
   "cell_type": "code",
   "execution_count": 45,
   "metadata": {
    "id": "D-JWM64Q1NzB"
   },
   "outputs": [
    {
     "data": {
      "application/vnd.plotly.v1+json": {
       "config": {
        "plotlyServerURL": "https://plot.ly"
       },
       "data": [
        {
         "fillpattern": {
          "shape": ""
         },
         "hovertemplate": "Marca=Loncoleche<br>Categoria=%{x}<br>Desconto=%{y}<extra></extra>",
         "legendgroup": "Loncoleche",
         "line": {
          "color": "#636efa"
         },
         "marker": {
          "symbol": "circle"
         },
         "mode": "lines",
         "name": "Loncoleche",
         "orientation": "v",
         "showlegend": true,
         "stackgroup": "1",
         "type": "scatter",
         "x": [
          "laticinios",
          "laticinios",
          "laticinios",
          "laticinios",
          "laticinios",
          "laticinios",
          "laticinios",
          "laticinios",
          "laticinios",
          "laticinios",
          "laticinios",
          "laticinios",
          "laticinios",
          "laticinios",
          "laticinios",
          "laticinios",
          "laticinios",
          "laticinios",
          "laticinios",
          "laticinios",
          "laticinios",
          "laticinios",
          "laticinios",
          "laticinios",
          "laticinios",
          "laticinios",
          "laticinios",
          "laticinios",
          "laticinios",
          "laticinios",
          "laticinios",
          "laticinios",
          "laticinios",
          "laticinios",
          "laticinios",
          "laticinios",
          "laticinios",
          "laticinios",
          "laticinios",
          "laticinios",
          "laticinios",
          "laticinios",
          "laticinios",
          "laticinios",
          "laticinios",
          "laticinios",
          "laticinios",
          "laticinios",
          "laticinios",
          "laticinios"
         ],
         "xaxis": "x",
         "y": [
          0,
          0,
          0,
          0,
          0,
          0,
          0,
          0,
          0,
          0,
          0,
          0,
          0,
          0,
          0,
          0,
          0,
          0,
          0,
          0,
          0,
          0,
          0,
          0,
          0,
          0,
          0,
          0,
          0,
          0,
          0,
          0,
          0,
          0,
          0,
          0,
          0,
          0,
          0,
          0,
          0,
          0,
          0,
          0,
          0,
          0,
          0,
          0,
          0,
          0
         ],
         "yaxis": "y"
        },
        {
         "fillpattern": {
          "shape": ""
         },
         "hovertemplate": "Marca=Soprole<br>Categoria=%{x}<br>Desconto=%{y}<extra></extra>",
         "legendgroup": "Soprole",
         "line": {
          "color": "#EF553B"
         },
         "marker": {
          "symbol": "circle"
         },
         "mode": "lines",
         "name": "Soprole",
         "orientation": "v",
         "showlegend": true,
         "stackgroup": "1",
         "type": "scatter",
         "x": [
          "laticinios",
          "laticinios",
          "laticinios",
          "laticinios",
          "laticinios",
          "laticinios",
          "laticinios",
          "laticinios",
          "laticinios",
          "laticinios",
          "laticinios",
          "laticinios",
          "laticinios",
          "laticinios",
          "laticinios",
          "laticinios",
          "laticinios",
          "laticinios",
          "laticinios",
          "laticinios",
          "laticinios",
          "laticinios",
          "laticinios",
          "laticinios",
          "laticinios",
          "laticinios",
          "laticinios",
          "laticinios",
          "laticinios",
          "laticinios",
          "laticinios",
          "laticinios",
          "laticinios",
          "laticinios",
          "laticinios",
          "laticinios",
          "laticinios",
          "laticinios",
          "laticinios",
          "laticinios",
          "laticinios",
          "laticinios",
          "laticinios",
          "laticinios",
          "laticinios",
          "laticinios",
          "laticinios",
          "laticinios",
          "laticinios",
          "laticinios",
          "laticinios",
          "laticinios",
          "laticinios",
          "laticinios",
          "laticinios",
          "laticinios",
          "laticinios",
          "laticinios",
          "laticinios",
          "laticinios",
          "laticinios",
          "laticinios",
          "laticinios",
          "laticinios",
          "laticinios",
          "laticinios",
          "laticinios",
          "laticinios",
          "laticinios",
          "laticinios",
          "laticinios",
          "laticinios",
          "laticinios",
          "laticinios",
          "laticinios",
          "laticinios",
          "laticinios",
          "laticinios",
          "laticinios",
          "laticinios",
          "laticinios",
          "laticinios",
          "laticinios",
          "laticinios",
          "laticinios",
          "laticinios",
          "laticinios",
          "laticinios",
          "laticinios",
          "laticinios",
          "laticinios",
          "laticinios",
          "laticinios",
          "laticinios",
          "laticinios",
          "laticinios",
          "laticinios",
          "laticinios",
          "laticinios",
          "laticinios",
          "laticinios",
          "laticinios"
         ],
         "xaxis": "x",
         "y": [
          0,
          0,
          0,
          0,
          0,
          0,
          0,
          0,
          0,
          0,
          0,
          0,
          0,
          0,
          0,
          0,
          0,
          0,
          0,
          0,
          0,
          0,
          0,
          0,
          0,
          0,
          0,
          0,
          0,
          0,
          0,
          0,
          0,
          0,
          0,
          0,
          0,
          0,
          0,
          0,
          0,
          0,
          0,
          0,
          0,
          0,
          0,
          0,
          0,
          0,
          0,
          0,
          0,
          0,
          0,
          0,
          0,
          0,
          0,
          0,
          0,
          0,
          0,
          0,
          0,
          0,
          0,
          0,
          0,
          0,
          0,
          0,
          0,
          0,
          0,
          0,
          0,
          0,
          0,
          0,
          0,
          0,
          0,
          0,
          0,
          0,
          0,
          0,
          0,
          0,
          0,
          0,
          0,
          0,
          0,
          0,
          0,
          0,
          0,
          349,
          379,
          379
         ],
         "yaxis": "y"
        },
        {
         "fillpattern": {
          "shape": ""
         },
         "hovertemplate": "Marca=Colun<br>Categoria=%{x}<br>Desconto=%{y}<extra></extra>",
         "legendgroup": "Colun",
         "line": {
          "color": "#00cc96"
         },
         "marker": {
          "symbol": "circle"
         },
         "mode": "lines",
         "name": "Colun",
         "orientation": "v",
         "showlegend": true,
         "stackgroup": "1",
         "type": "scatter",
         "x": [
          "laticinios",
          "laticinios",
          "laticinios",
          "laticinios",
          "laticinios",
          "laticinios",
          "laticinios",
          "laticinios",
          "laticinios",
          "laticinios",
          "laticinios",
          "laticinios",
          "laticinios",
          "laticinios",
          "laticinios",
          "laticinios",
          "laticinios",
          "laticinios",
          "laticinios",
          "laticinios",
          "laticinios",
          "laticinios",
          "laticinios",
          "laticinios",
          "laticinios",
          "laticinios",
          "laticinios",
          "laticinios",
          "laticinios",
          "laticinios",
          "laticinios",
          "laticinios",
          "laticinios",
          "laticinios",
          "laticinios",
          "laticinios",
          "laticinios",
          "laticinios",
          "laticinios",
          "laticinios",
          "laticinios",
          "laticinios",
          "laticinios",
          "laticinios",
          "laticinios",
          "laticinios",
          "laticinios",
          "laticinios",
          "laticinios",
          "laticinios",
          "laticinios",
          "laticinios",
          "laticinios",
          "laticinios",
          "laticinios",
          "laticinios",
          "laticinios",
          "laticinios",
          "laticinios",
          "laticinios",
          "laticinios",
          "laticinios",
          "laticinios",
          "laticinios",
          "laticinios",
          "laticinios",
          "laticinios",
          "laticinios",
          "laticinios",
          "laticinios",
          "laticinios",
          "laticinios",
          "laticinios",
          "laticinios",
          "laticinios",
          "laticinios",
          "laticinios",
          "laticinios",
          "laticinios",
          "laticinios",
          "laticinios",
          "laticinios",
          "laticinios",
          "laticinios",
          "laticinios",
          "laticinios",
          "laticinios"
         ],
         "xaxis": "x",
         "y": [
          0,
          0,
          0,
          0,
          0,
          0,
          0,
          0,
          0,
          0,
          0,
          0,
          0,
          0,
          0,
          0,
          0,
          0,
          0,
          0,
          0,
          0,
          0,
          0,
          0,
          0,
          0,
          0,
          0,
          0,
          0,
          0,
          0,
          0,
          0,
          0,
          0,
          0,
          0,
          0,
          0,
          0,
          0,
          0,
          0,
          0,
          0,
          0,
          0,
          0,
          0,
          0,
          0,
          0,
          0,
          0,
          0,
          0,
          0,
          0,
          0,
          0,
          0,
          0,
          0,
          0,
          0,
          0,
          0,
          0,
          0,
          0,
          0,
          0,
          0,
          0,
          0,
          0,
          0,
          0,
          0,
          0,
          0,
          0,
          0,
          0,
          389
         ],
         "yaxis": "y"
        },
        {
         "fillpattern": {
          "shape": ""
         },
         "hovertemplate": "Marca=Plenitud<br>Categoria=%{x}<br>Desconto=%{y}<extra></extra>",
         "legendgroup": "Plenitud",
         "line": {
          "color": "#ab63fa"
         },
         "marker": {
          "symbol": "circle"
         },
         "mode": "lines",
         "name": "Plenitud",
         "orientation": "v",
         "showlegend": true,
         "stackgroup": "1",
         "type": "scatter",
         "x": [
          "beleza-e-cuidado-pessoal"
         ],
         "xaxis": "x",
         "y": [
          0
         ],
         "yaxis": "y"
        },
        {
         "fillpattern": {
          "shape": ""
         },
         "hovertemplate": "Marca=Nido<br>Categoria=%{x}<br>Desconto=%{y}<extra></extra>",
         "legendgroup": "Nido",
         "line": {
          "color": "#FFA15A"
         },
         "marker": {
          "symbol": "circle"
         },
         "mode": "lines",
         "name": "Nido",
         "orientation": "v",
         "showlegend": true,
         "stackgroup": "1",
         "type": "scatter",
         "x": [
          "laticinios",
          "laticinios",
          "laticinios",
          "laticinios",
          "laticinios"
         ],
         "xaxis": "x",
         "y": [
          0,
          0,
          0,
          0,
          4349
         ],
         "yaxis": "y"
        },
        {
         "fillpattern": {
          "shape": ""
         },
         "hovertemplate": "Marca=Tena<br>Categoria=%{x}<br>Desconto=%{y}<extra></extra>",
         "legendgroup": "Tena",
         "line": {
          "color": "#19d3f3"
         },
         "marker": {
          "symbol": "circle"
         },
         "mode": "lines",
         "name": "Tena",
         "orientation": "v",
         "showlegend": true,
         "stackgroup": "1",
         "type": "scatter",
         "x": [
          "beleza-e-cuidado-pessoal",
          "beleza-e-cuidado-pessoal",
          "beleza-e-cuidado-pessoal",
          "beleza-e-cuidado-pessoal"
         ],
         "xaxis": "x",
         "y": [
          0,
          0,
          0,
          0
         ],
         "yaxis": "y"
        },
        {
         "fillpattern": {
          "shape": ""
         },
         "hovertemplate": "Marca=Cuisine & Co<br>Categoria=%{x}<br>Desconto=%{y}<extra></extra>",
         "legendgroup": "Cuisine & Co",
         "line": {
          "color": "#FF6692"
         },
         "marker": {
          "symbol": "circle"
         },
         "mode": "lines",
         "name": "Cuisine & Co",
         "orientation": "v",
         "showlegend": true,
         "stackgroup": "1",
         "type": "scatter",
         "x": [
          "laticinios",
          "laticinios",
          "laticinios",
          "laticinios",
          "congelados",
          "congelados",
          "laticinios",
          "comidas-preparadas",
          "comidas-preparadas",
          "laticinios",
          "laticinios",
          "congelados",
          "congelados",
          "comidas-preparadas",
          "comidas-preparadas",
          "instantaneo-e-sopas",
          "laticinios",
          "comidas-preparadas",
          "comidas-preparadas",
          "comidas-preparadas",
          "comidas-preparadas",
          "laticinios",
          "congelados",
          "congelados",
          "congelados",
          "comidas-preparadas",
          "comidas-preparadas",
          "comidas-preparadas",
          "comidas-preparadas",
          "congelados",
          "comidas-preparadas",
          "comidas-preparadas",
          "congelados",
          "laticinios",
          "congelados",
          "laticinios",
          "congelados",
          "laticinios",
          "laticinios",
          "laticinios",
          "congelados",
          "laticinios",
          "congelados",
          "congelados",
          "congelados",
          "congelados",
          "congelados",
          "congelados",
          "congelados",
          "congelados",
          "instantaneo-e-sopas",
          "congelados",
          "congelados",
          "laticinios",
          "congelados",
          "laticinios",
          "congelados",
          "laticinios",
          "laticinios",
          "laticinios",
          "congelados",
          "instantaneo-e-sopas",
          "instantaneo-e-sopas",
          "instantaneo-e-sopas",
          "laticinios",
          "comidas-preparadas",
          "comidas-preparadas",
          "comidas-preparadas",
          "congelados",
          "comidas-preparadas",
          "comidas-preparadas",
          "congelados",
          "congelados",
          "congelados",
          "laticinios",
          "congelados",
          "congelados",
          "congelados",
          "congelados",
          "congelados",
          "congelados"
         ],
         "xaxis": "x",
         "y": [
          0,
          0,
          0,
          0,
          0,
          0,
          0,
          0,
          0,
          0,
          0,
          0,
          0,
          0,
          0,
          0,
          0,
          0,
          0,
          0,
          0,
          0,
          0,
          0,
          0,
          0,
          0,
          0,
          0,
          0,
          0,
          0,
          0,
          0,
          0,
          0,
          0,
          0,
          0,
          0,
          0,
          0,
          0,
          0,
          0,
          0,
          0,
          0,
          0,
          0,
          0,
          0,
          0,
          0,
          0,
          0,
          0,
          0,
          0,
          0,
          0,
          0,
          0,
          0,
          0,
          0,
          0,
          0,
          0,
          0,
          0,
          169,
          169,
          300,
          359,
          759,
          759,
          759,
          759,
          759,
          759
         ],
         "yaxis": "y"
        },
        {
         "fillpattern": {
          "shape": ""
         },
         "hovertemplate": "Marca=La Crianza<br>Categoria=%{x}<br>Desconto=%{y}<extra></extra>",
         "legendgroup": "La Crianza",
         "line": {
          "color": "#B6E880"
         },
         "marker": {
          "symbol": "circle"
         },
         "mode": "lines",
         "name": "La Crianza",
         "orientation": "v",
         "showlegend": true,
         "stackgroup": "1",
         "type": "scatter",
         "x": [
          "congelados",
          "congelados",
          "comidas-preparadas",
          "congelados",
          "congelados",
          "congelados",
          "congelados",
          "congelados",
          "congelados",
          "congelados",
          "congelados",
          "congelados",
          "congelados",
          "congelados",
          "congelados",
          "congelados",
          "congelados",
          "congelados",
          "congelados",
          "congelados",
          "congelados",
          "congelados",
          "congelados",
          "congelados",
          "congelados"
         ],
         "xaxis": "x",
         "y": [
          0,
          0,
          0,
          0,
          0,
          0,
          0,
          0,
          0,
          0,
          0,
          0,
          0,
          0,
          0,
          0,
          0,
          0,
          0,
          0,
          0,
          0,
          0,
          0,
          0
         ],
         "yaxis": "y"
        },
        {
         "fillpattern": {
          "shape": ""
         },
         "hovertemplate": "Marca=Svelty<br>Categoria=%{x}<br>Desconto=%{y}<extra></extra>",
         "legendgroup": "Svelty",
         "line": {
          "color": "#FF97FF"
         },
         "marker": {
          "symbol": "circle"
         },
         "mode": "lines",
         "name": "Svelty",
         "orientation": "v",
         "showlegend": true,
         "stackgroup": "1",
         "type": "scatter",
         "x": [
          "laticinios",
          "laticinios",
          "laticinios"
         ],
         "xaxis": "x",
         "y": [
          0,
          0,
          0
         ],
         "yaxis": "y"
        },
        {
         "fillpattern": {
          "shape": ""
         },
         "hovertemplate": "Marca=Head & Shoulders<br>Categoria=%{x}<br>Desconto=%{y}<extra></extra>",
         "legendgroup": "Head & Shoulders",
         "line": {
          "color": "#FECB52"
         },
         "marker": {
          "symbol": "circle"
         },
         "mode": "lines",
         "name": "Head & Shoulders",
         "orientation": "v",
         "showlegend": true,
         "stackgroup": "1",
         "type": "scatter",
         "x": [
          "beleza-e-cuidado-pessoal",
          "beleza-e-cuidado-pessoal",
          "beleza-e-cuidado-pessoal",
          "beleza-e-cuidado-pessoal",
          "beleza-e-cuidado-pessoal",
          "beleza-e-cuidado-pessoal"
         ],
         "xaxis": "x",
         "y": [
          0,
          0,
          0,
          0,
          0,
          0
         ],
         "yaxis": "y"
        },
        {
         "fillpattern": {
          "shape": ""
         },
         "hovertemplate": "Marca=Sofruco<br>Categoria=%{x}<br>Desconto=%{y}<extra></extra>",
         "legendgroup": "Sofruco",
         "line": {
          "color": "#636efa"
         },
         "marker": {
          "symbol": "circle"
         },
         "mode": "lines",
         "name": "Sofruco",
         "orientation": "v",
         "showlegend": true,
         "stackgroup": "1",
         "type": "scatter",
         "x": [
          "frutas"
         ],
         "xaxis": "x",
         "y": [
          0
         ],
         "yaxis": "y"
        },
        {
         "fillpattern": {
          "shape": ""
         },
         "hovertemplate": "Marca=Listerine<br>Categoria=%{x}<br>Desconto=%{y}<extra></extra>",
         "legendgroup": "Listerine",
         "line": {
          "color": "#EF553B"
         },
         "marker": {
          "symbol": "circle"
         },
         "mode": "lines",
         "name": "Listerine",
         "orientation": "v",
         "showlegend": true,
         "stackgroup": "1",
         "type": "scatter",
         "x": [
          "beleza-e-cuidado-pessoal",
          "beleza-e-cuidado-pessoal"
         ],
         "xaxis": "x",
         "y": [
          0,
          0
         ],
         "yaxis": "y"
        },
        {
         "fillpattern": {
          "shape": ""
         },
         "hovertemplate": "Marca=Receta Del Abuelo<br>Categoria=%{x}<br>Desconto=%{y}<extra></extra>",
         "legendgroup": "Receta Del Abuelo",
         "line": {
          "color": "#00cc96"
         },
         "marker": {
          "symbol": "circle"
         },
         "mode": "lines",
         "name": "Receta Del Abuelo",
         "orientation": "v",
         "showlegend": true,
         "stackgroup": "1",
         "type": "scatter",
         "x": [
          "congelados",
          "congelados",
          "congelados",
          "congelados",
          "congelados",
          "congelados",
          "congelados",
          "congelados",
          "congelados",
          "congelados",
          "congelados",
          "congelados"
         ],
         "xaxis": "x",
         "y": [
          0,
          0,
          0,
          0,
          0,
          0,
          0,
          0,
          0,
          0,
          0,
          0
         ],
         "yaxis": "y"
        },
        {
         "fillpattern": {
          "shape": ""
         },
         "hovertemplate": "Marca=Colgate<br>Categoria=%{x}<br>Desconto=%{y}<extra></extra>",
         "legendgroup": "Colgate",
         "line": {
          "color": "#ab63fa"
         },
         "marker": {
          "symbol": "circle"
         },
         "mode": "lines",
         "name": "Colgate",
         "orientation": "v",
         "showlegend": true,
         "stackgroup": "1",
         "type": "scatter",
         "x": [
          "beleza-e-cuidado-pessoal",
          "beleza-e-cuidado-pessoal",
          "beleza-e-cuidado-pessoal",
          "beleza-e-cuidado-pessoal",
          "beleza-e-cuidado-pessoal",
          "beleza-e-cuidado-pessoal",
          "beleza-e-cuidado-pessoal",
          "beleza-e-cuidado-pessoal",
          "beleza-e-cuidado-pessoal",
          "beleza-e-cuidado-pessoal",
          "beleza-e-cuidado-pessoal",
          "beleza-e-cuidado-pessoal",
          "beleza-e-cuidado-pessoal",
          "beleza-e-cuidado-pessoal",
          "beleza-e-cuidado-pessoal",
          "beleza-e-cuidado-pessoal",
          "beleza-e-cuidado-pessoal",
          "beleza-e-cuidado-pessoal",
          "beleza-e-cuidado-pessoal",
          "beleza-e-cuidado-pessoal",
          "beleza-e-cuidado-pessoal"
         ],
         "xaxis": "x",
         "y": [
          0,
          0,
          0,
          0,
          0,
          0,
          0,
          0,
          0,
          0,
          0,
          0,
          0,
          0,
          0,
          0,
          200,
          200,
          659,
          700,
          700
         ],
         "yaxis": "y"
        },
        {
         "fillpattern": {
          "shape": ""
         },
         "hovertemplate": "Marca=Calo<br>Categoria=%{x}<br>Desconto=%{y}<extra></extra>",
         "legendgroup": "Calo",
         "line": {
          "color": "#FFA15A"
         },
         "marker": {
          "symbol": "circle"
         },
         "mode": "lines",
         "name": "Calo",
         "orientation": "v",
         "showlegend": true,
         "stackgroup": "1",
         "type": "scatter",
         "x": [
          "laticinios",
          "laticinios",
          "laticinios",
          "laticinios",
          "laticinios",
          "laticinios",
          "laticinios",
          "laticinios"
         ],
         "xaxis": "x",
         "y": [
          0,
          0,
          0,
          0,
          0,
          0,
          0,
          0
         ],
         "yaxis": "y"
        },
        {
         "fillpattern": {
          "shape": ""
         },
         "hovertemplate": "Marca=Surlat<br>Categoria=%{x}<br>Desconto=%{y}<extra></extra>",
         "legendgroup": "Surlat",
         "line": {
          "color": "#19d3f3"
         },
         "marker": {
          "symbol": "circle"
         },
         "mode": "lines",
         "name": "Surlat",
         "orientation": "v",
         "showlegend": true,
         "stackgroup": "1",
         "type": "scatter",
         "x": [
          "laticinios",
          "laticinios",
          "laticinios",
          "laticinios",
          "laticinios",
          "laticinios",
          "laticinios",
          "laticinios",
          "laticinios",
          "laticinios",
          "laticinios",
          "laticinios",
          "laticinios"
         ],
         "xaxis": "x",
         "y": [
          0,
          0,
          0,
          0,
          0,
          0,
          0,
          0,
          0,
          0,
          0,
          0,
          0
         ],
         "yaxis": "y"
        },
        {
         "fillpattern": {
          "shape": ""
         },
         "hovertemplate": "Marca=San Jorge<br>Categoria=%{x}<br>Desconto=%{y}<extra></extra>",
         "legendgroup": "San Jorge",
         "line": {
          "color": "#FF6692"
         },
         "marker": {
          "symbol": "circle"
         },
         "mode": "lines",
         "name": "San Jorge",
         "orientation": "v",
         "showlegend": true,
         "stackgroup": "1",
         "type": "scatter",
         "x": [
          "congelados",
          "congelados"
         ],
         "xaxis": "x",
         "y": [
          0,
          140
         ],
         "yaxis": "y"
        },
        {
         "fillpattern": {
          "shape": ""
         },
         "hovertemplate": "Marca=Jumbo<br>Categoria=%{x}<br>Desconto=%{y}<extra></extra>",
         "legendgroup": "Jumbo",
         "line": {
          "color": "#B6E880"
         },
         "marker": {
          "symbol": "circle"
         },
         "mode": "lines",
         "name": "Jumbo",
         "orientation": "v",
         "showlegend": true,
         "stackgroup": "1",
         "type": "scatter",
         "x": [
          "verduras",
          "verduras",
          "verduras"
         ],
         "xaxis": "x",
         "y": [
          0,
          0,
          0
         ],
         "yaxis": "y"
        },
        {
         "fillpattern": {
          "shape": ""
         },
         "hovertemplate": "Marca=Elvive<br>Categoria=%{x}<br>Desconto=%{y}<extra></extra>",
         "legendgroup": "Elvive",
         "line": {
          "color": "#FF97FF"
         },
         "marker": {
          "symbol": "circle"
         },
         "mode": "lines",
         "name": "Elvive",
         "orientation": "v",
         "showlegend": true,
         "stackgroup": "1",
         "type": "scatter",
         "x": [
          "beleza-e-cuidado-pessoal",
          "beleza-e-cuidado-pessoal",
          "beleza-e-cuidado-pessoal",
          "beleza-e-cuidado-pessoal",
          "beleza-e-cuidado-pessoal",
          "beleza-e-cuidado-pessoal",
          "beleza-e-cuidado-pessoal",
          "beleza-e-cuidado-pessoal",
          "beleza-e-cuidado-pessoal"
         ],
         "xaxis": "x",
         "y": [
          0,
          0,
          0,
          0,
          0,
          0,
          0,
          0,
          0
         ],
         "yaxis": "y"
        },
        {
         "fillpattern": {
          "shape": ""
         },
         "hovertemplate": "Marca=San Francisco De Loncomilla<br>Categoria=%{x}<br>Desconto=%{y}<extra></extra>",
         "legendgroup": "San Francisco De Loncomilla",
         "line": {
          "color": "#FECB52"
         },
         "marker": {
          "symbol": "circle"
         },
         "mode": "lines",
         "name": "San Francisco De Loncomilla",
         "orientation": "v",
         "showlegend": true,
         "stackgroup": "1",
         "type": "scatter",
         "x": [
          "congelados",
          "congelados",
          "congelados",
          "congelados",
          "congelados",
          "congelados",
          "congelados",
          "congelados",
          "congelados",
          "congelados",
          "congelados",
          "congelados",
          "congelados",
          "congelados",
          "congelados",
          "congelados",
          "congelados",
          "congelados",
          "congelados",
          "congelados",
          "congelados",
          "congelados"
         ],
         "xaxis": "x",
         "y": [
          0,
          0,
          0,
          0,
          0,
          0,
          0,
          0,
          0,
          0,
          0,
          0,
          0,
          0,
          0,
          0,
          0,
          0,
          0,
          0,
          0,
          0
         ],
         "yaxis": "y"
        },
        {
         "fillpattern": {
          "shape": ""
         },
         "hovertemplate": "Marca=Turkey Hill<br>Categoria=%{x}<br>Desconto=%{y}<extra></extra>",
         "legendgroup": "Turkey Hill",
         "line": {
          "color": "#636efa"
         },
         "marker": {
          "symbol": "circle"
         },
         "mode": "lines",
         "name": "Turkey Hill",
         "orientation": "v",
         "showlegend": true,
         "stackgroup": "1",
         "type": "scatter",
         "x": [
          "congelados",
          "congelados",
          "congelados"
         ],
         "xaxis": "x",
         "y": [
          0,
          0,
          0
         ],
         "yaxis": "y"
        },
        {
         "fillpattern": {
          "shape": ""
         },
         "hovertemplate": "Marca=Maggi<br>Categoria=%{x}<br>Desconto=%{y}<extra></extra>",
         "legendgroup": "Maggi",
         "line": {
          "color": "#EF553B"
         },
         "marker": {
          "symbol": "circle"
         },
         "mode": "lines",
         "name": "Maggi",
         "orientation": "v",
         "showlegend": true,
         "stackgroup": "1",
         "type": "scatter",
         "x": [
          "instantaneo-e-sopas",
          "instantaneo-e-sopas",
          "instantaneo-e-sopas",
          "instantaneo-e-sopas",
          "instantaneo-e-sopas",
          "instantaneo-e-sopas",
          "instantaneo-e-sopas",
          "instantaneo-e-sopas",
          "instantaneo-e-sopas",
          "instantaneo-e-sopas",
          "instantaneo-e-sopas",
          "instantaneo-e-sopas",
          "instantaneo-e-sopas",
          "instantaneo-e-sopas",
          "instantaneo-e-sopas",
          "instantaneo-e-sopas",
          "instantaneo-e-sopas",
          "instantaneo-e-sopas",
          "instantaneo-e-sopas",
          "instantaneo-e-sopas",
          "instantaneo-e-sopas",
          "instantaneo-e-sopas",
          "instantaneo-e-sopas",
          "instantaneo-e-sopas",
          "instantaneo-e-sopas",
          "instantaneo-e-sopas",
          "instantaneo-e-sopas",
          "instantaneo-e-sopas"
         ],
         "xaxis": "x",
         "y": [
          0,
          0,
          0,
          0,
          0,
          0,
          0,
          0,
          0,
          0,
          0,
          0,
          0,
          0,
          0,
          0,
          0,
          0,
          0,
          0,
          0,
          0,
          0,
          0,
          0,
          0,
          0,
          0
         ],
         "yaxis": "y"
        },
        {
         "fillpattern": {
          "shape": ""
         },
         "hovertemplate": "Marca=Bredenmaster<br>Categoria=%{x}<br>Desconto=%{y}<extra></extra>",
         "legendgroup": "Bredenmaster",
         "line": {
          "color": "#00cc96"
         },
         "marker": {
          "symbol": "circle"
         },
         "mode": "lines",
         "name": "Bredenmaster",
         "orientation": "v",
         "showlegend": true,
         "stackgroup": "1",
         "type": "scatter",
         "x": [
          "comidas-preparadas",
          "comidas-preparadas",
          "comidas-preparadas",
          "comidas-preparadas",
          "comidas-preparadas",
          "comidas-preparadas"
         ],
         "xaxis": "x",
         "y": [
          0,
          0,
          0,
          0,
          0,
          0
         ],
         "yaxis": "y"
        },
        {
         "fillpattern": {
          "shape": ""
         },
         "hovertemplate": "Marca=Bravissimo<br>Categoria=%{x}<br>Desconto=%{y}<extra></extra>",
         "legendgroup": "Bravissimo",
         "line": {
          "color": "#ab63fa"
         },
         "marker": {
          "symbol": "circle"
         },
         "mode": "lines",
         "name": "Bravissimo",
         "orientation": "v",
         "showlegend": true,
         "stackgroup": "1",
         "type": "scatter",
         "x": [
          "congelados"
         ],
         "xaxis": "x",
         "y": [
          0
         ],
         "yaxis": "y"
        },
        {
         "fillpattern": {
          "shape": ""
         },
         "hovertemplate": "Marca=Super Pollo<br>Categoria=%{x}<br>Desconto=%{y}<extra></extra>",
         "legendgroup": "Super Pollo",
         "line": {
          "color": "#FFA15A"
         },
         "marker": {
          "symbol": "circle"
         },
         "mode": "lines",
         "name": "Super Pollo",
         "orientation": "v",
         "showlegend": true,
         "stackgroup": "1",
         "type": "scatter",
         "x": [
          "congelados",
          "congelados",
          "congelados",
          "congelados",
          "congelados",
          "congelados"
         ],
         "xaxis": "x",
         "y": [
          0,
          0,
          0,
          0,
          0,
          0
         ],
         "yaxis": "y"
        },
        {
         "fillpattern": {
          "shape": ""
         },
         "hovertemplate": "Marca=Ideal<br>Categoria=%{x}<br>Desconto=%{y}<extra></extra>",
         "legendgroup": "Ideal",
         "line": {
          "color": "#19d3f3"
         },
         "marker": {
          "symbol": "circle"
         },
         "mode": "lines",
         "name": "Ideal",
         "orientation": "v",
         "showlegend": true,
         "stackgroup": "1",
         "type": "scatter",
         "x": [
          "laticinios"
         ],
         "xaxis": "x",
         "y": [
          0
         ],
         "yaxis": "y"
        },
        {
         "fillpattern": {
          "shape": ""
         },
         "hovertemplate": "Marca=Pantene<br>Categoria=%{x}<br>Desconto=%{y}<extra></extra>",
         "legendgroup": "Pantene",
         "line": {
          "color": "#FF6692"
         },
         "marker": {
          "symbol": "circle"
         },
         "mode": "lines",
         "name": "Pantene",
         "orientation": "v",
         "showlegend": true,
         "stackgroup": "1",
         "type": "scatter",
         "x": [
          "beleza-e-cuidado-pessoal",
          "beleza-e-cuidado-pessoal",
          "beleza-e-cuidado-pessoal",
          "beleza-e-cuidado-pessoal",
          "beleza-e-cuidado-pessoal",
          "beleza-e-cuidado-pessoal",
          "beleza-e-cuidado-pessoal"
         ],
         "xaxis": "x",
         "y": [
          0,
          749,
          749,
          749,
          749,
          899,
          899
         ],
         "yaxis": "y"
        },
        {
         "fillpattern": {
          "shape": ""
         },
         "hovertemplate": "Marca=Solo Italia<br>Categoria=%{x}<br>Desconto=%{y}<extra></extra>",
         "legendgroup": "Solo Italia",
         "line": {
          "color": "#B6E880"
         },
         "marker": {
          "symbol": "circle"
         },
         "mode": "lines",
         "name": "Solo Italia",
         "orientation": "v",
         "showlegend": true,
         "stackgroup": "1",
         "type": "scatter",
         "x": [
          "comidas-preparadas",
          "comidas-preparadas",
          "comidas-preparadas"
         ],
         "xaxis": "x",
         "y": [
          0,
          0,
          0
         ],
         "yaxis": "y"
        },
        {
         "fillpattern": {
          "shape": ""
         },
         "hovertemplate": "Marca=Garnier<br>Categoria=%{x}<br>Desconto=%{y}<extra></extra>",
         "legendgroup": "Garnier",
         "line": {
          "color": "#FF97FF"
         },
         "marker": {
          "symbol": "circle"
         },
         "mode": "lines",
         "name": "Garnier",
         "orientation": "v",
         "showlegend": true,
         "stackgroup": "1",
         "type": "scatter",
         "x": [
          "beleza-e-cuidado-pessoal"
         ],
         "xaxis": "x",
         "y": [
          0
         ],
         "yaxis": "y"
        },
        {
         "fillpattern": {
          "shape": ""
         },
         "hovertemplate": "Marca=Nivea<br>Categoria=%{x}<br>Desconto=%{y}<extra></extra>",
         "legendgroup": "Nivea",
         "line": {
          "color": "#FECB52"
         },
         "marker": {
          "symbol": "circle"
         },
         "mode": "lines",
         "name": "Nivea",
         "orientation": "v",
         "showlegend": true,
         "stackgroup": "1",
         "type": "scatter",
         "x": [
          "beleza-e-cuidado-pessoal",
          "beleza-e-cuidado-pessoal",
          "beleza-e-cuidado-pessoal",
          "beleza-e-cuidado-pessoal",
          "beleza-e-cuidado-pessoal",
          "beleza-e-cuidado-pessoal",
          "beleza-e-cuidado-pessoal",
          "beleza-e-cuidado-pessoal",
          "beleza-e-cuidado-pessoal",
          "beleza-e-cuidado-pessoal",
          "beleza-e-cuidado-pessoal",
          "beleza-e-cuidado-pessoal"
         ],
         "xaxis": "x",
         "y": [
          0,
          0,
          0,
          0,
          0,
          0,
          0,
          0,
          0,
          0,
          0,
          0
         ],
         "yaxis": "y"
        },
        {
         "fillpattern": {
          "shape": ""
         },
         "hovertemplate": "Marca=Sureña<br>Categoria=%{x}<br>Desconto=%{y}<extra></extra>",
         "legendgroup": "Sureña",
         "line": {
          "color": "#636efa"
         },
         "marker": {
          "symbol": "circle"
         },
         "mode": "lines",
         "name": "Sureña",
         "orientation": "v",
         "showlegend": true,
         "stackgroup": "1",
         "type": "scatter",
         "x": [
          "laticinios",
          "laticinios",
          "laticinios",
          "laticinios"
         ],
         "xaxis": "x",
         "y": [
          0,
          0,
          518,
          526
         ],
         "yaxis": "y"
        },
        {
         "fillpattern": {
          "shape": ""
         },
         "hovertemplate": "Marca=Savory<br>Categoria=%{x}<br>Desconto=%{y}<extra></extra>",
         "legendgroup": "Savory",
         "line": {
          "color": "#EF553B"
         },
         "marker": {
          "symbol": "circle"
         },
         "mode": "lines",
         "name": "Savory",
         "orientation": "v",
         "showlegend": true,
         "stackgroup": "1",
         "type": "scatter",
         "x": [
          "congelados",
          "congelados",
          "congelados",
          "congelados",
          "congelados",
          "congelados",
          "congelados",
          "congelados",
          "congelados",
          "congelados",
          "congelados",
          "congelados",
          "congelados",
          "congelados",
          "congelados",
          "congelados",
          "congelados",
          "congelados",
          "congelados",
          "congelados",
          "congelados",
          "congelados",
          "congelados",
          "congelados",
          "congelados",
          "congelados",
          "congelados",
          "congelados",
          "congelados",
          "congelados",
          "congelados",
          "congelados"
         ],
         "xaxis": "x",
         "y": [
          0,
          0,
          0,
          0,
          0,
          0,
          0,
          0,
          0,
          0,
          0,
          550,
          555,
          559,
          562,
          600,
          622,
          630,
          657,
          657,
          657,
          658,
          789,
          789,
          789,
          789,
          789,
          789,
          789,
          789,
          789,
          789
         ],
         "yaxis": "y"
        },
        {
         "fillpattern": {
          "shape": ""
         },
         "hovertemplate": "Marca=Sahne Nuss<br>Categoria=%{x}<br>Desconto=%{y}<extra></extra>",
         "legendgroup": "Sahne Nuss",
         "line": {
          "color": "#00cc96"
         },
         "marker": {
          "symbol": "circle"
         },
         "mode": "lines",
         "name": "Sahne Nuss",
         "orientation": "v",
         "showlegend": true,
         "stackgroup": "1",
         "type": "scatter",
         "x": [
          "congelados",
          "congelados",
          "congelados",
          "laticinios",
          "congelados"
         ],
         "xaxis": "x",
         "y": [
          0,
          0,
          0,
          0,
          657
         ],
         "yaxis": "y"
        },
        {
         "fillpattern": {
          "shape": ""
         },
         "hovertemplate": "Marca=Minuto Verde<br>Categoria=%{x}<br>Desconto=%{y}<extra></extra>",
         "legendgroup": "Minuto Verde",
         "line": {
          "color": "#ab63fa"
         },
         "marker": {
          "symbol": "circle"
         },
         "mode": "lines",
         "name": "Minuto Verde",
         "orientation": "v",
         "showlegend": true,
         "stackgroup": "1",
         "type": "scatter",
         "x": [
          "congelados",
          "congelados",
          "congelados",
          "congelados",
          "congelados",
          "congelados",
          "congelados",
          "congelados",
          "congelados",
          "congelados",
          "congelados",
          "congelados",
          "congelados",
          "congelados",
          "congelados",
          "congelados",
          "congelados",
          "congelados",
          "congelados",
          "congelados"
         ],
         "xaxis": "x",
         "y": [
          0,
          0,
          0,
          0,
          0,
          0,
          0,
          0,
          0,
          0,
          0,
          0,
          0,
          0,
          0,
          0,
          0,
          130,
          130,
          130
         ],
         "yaxis": "y"
        },
        {
         "fillpattern": {
          "shape": ""
         },
         "hovertemplate": "Marca=Rana<br>Categoria=%{x}<br>Desconto=%{y}<extra></extra>",
         "legendgroup": "Rana",
         "line": {
          "color": "#FFA15A"
         },
         "marker": {
          "symbol": "circle"
         },
         "mode": "lines",
         "name": "Rana",
         "orientation": "v",
         "showlegend": true,
         "stackgroup": "1",
         "type": "scatter",
         "x": [
          "comidas-preparadas",
          "comidas-preparadas",
          "comidas-preparadas"
         ],
         "xaxis": "x",
         "y": [
          0,
          0,
          0
         ],
         "yaxis": "y"
        },
        {
         "fillpattern": {
          "shape": ""
         },
         "hovertemplate": "Marca=Brooks<br>Categoria=%{x}<br>Desconto=%{y}<extra></extra>",
         "legendgroup": "Brooks",
         "line": {
          "color": "#19d3f3"
         },
         "marker": {
          "symbol": "circle"
         },
         "mode": "lines",
         "name": "Brooks",
         "orientation": "v",
         "showlegend": true,
         "stackgroup": "1",
         "type": "scatter",
         "x": [
          "beleza-e-cuidado-pessoal"
         ],
         "xaxis": "x",
         "y": [
          0
         ],
         "yaxis": "y"
        },
        {
         "fillpattern": {
          "shape": ""
         },
         "hovertemplate": "Marca=Alcafood<br>Categoria=%{x}<br>Desconto=%{y}<extra></extra>",
         "legendgroup": "Alcafood",
         "line": {
          "color": "#FF6692"
         },
         "marker": {
          "symbol": "circle"
         },
         "mode": "lines",
         "name": "Alcafood",
         "orientation": "v",
         "showlegend": true,
         "stackgroup": "1",
         "type": "scatter",
         "x": [
          "instantaneo-e-sopas",
          "instantaneo-e-sopas"
         ],
         "xaxis": "x",
         "y": [
          0,
          0
         ],
         "yaxis": "y"
        },
        {
         "fillpattern": {
          "shape": ""
         },
         "hovertemplate": "Marca=Frutas Y Verduras Propias<br>Categoria=%{x}<br>Desconto=%{y}<extra></extra>",
         "legendgroup": "Frutas Y Verduras Propias",
         "line": {
          "color": "#B6E880"
         },
         "marker": {
          "symbol": "circle"
         },
         "mode": "lines",
         "name": "Frutas Y Verduras Propias",
         "orientation": "v",
         "showlegend": true,
         "stackgroup": "1",
         "type": "scatter",
         "x": [
          "verduras",
          "verduras",
          "frutas",
          "verduras",
          "verduras",
          "frutas",
          "verduras",
          "frutas",
          "verduras",
          "verduras",
          "verduras",
          "verduras",
          "frutas",
          "verduras",
          "frutas",
          "verduras",
          "verduras",
          "verduras",
          "frutas",
          "verduras",
          "verduras",
          "verduras",
          "verduras",
          "verduras",
          "verduras",
          "frutas",
          "frutas",
          "verduras",
          "verduras",
          "verduras",
          "verduras",
          "verduras",
          "verduras",
          "verduras",
          "verduras",
          "verduras",
          "frutas",
          "verduras",
          "verduras",
          "verduras",
          "frutas",
          "frutas",
          "frutas",
          "verduras",
          "verduras",
          "verduras",
          "verduras",
          "verduras",
          "verduras",
          "verduras",
          "verduras",
          "frutas",
          "verduras",
          "verduras",
          "frutas",
          "verduras",
          "verduras",
          "frutas",
          "verduras",
          "verduras",
          "verduras",
          "verduras",
          "verduras",
          "verduras",
          "frutas",
          "frutas",
          "verduras",
          "verduras",
          "verduras",
          "verduras",
          "verduras",
          "verduras",
          "verduras"
         ],
         "xaxis": "x",
         "y": [
          0,
          0,
          0,
          0,
          0,
          0,
          0,
          0,
          0,
          0,
          0,
          0,
          0,
          0,
          0,
          0,
          0,
          0,
          0,
          0,
          0,
          0,
          0,
          0,
          0,
          0,
          0,
          0,
          0,
          0,
          0,
          0,
          0,
          0,
          0,
          0,
          0,
          0,
          0,
          0,
          0,
          0,
          0,
          0,
          0,
          0,
          0,
          0,
          0,
          0,
          0,
          0,
          0,
          0,
          0,
          0,
          0,
          0,
          0,
          0,
          0,
          0,
          0,
          0,
          0,
          0,
          0,
          0,
          0,
          0,
          0,
          0,
          0
         ],
         "yaxis": "y"
        },
        {
         "fillpattern": {
          "shape": ""
         },
         "hovertemplate": "Marca=Sadia<br>Categoria=%{x}<br>Desconto=%{y}<extra></extra>",
         "legendgroup": "Sadia",
         "line": {
          "color": "#FF97FF"
         },
         "marker": {
          "symbol": "circle"
         },
         "mode": "lines",
         "name": "Sadia",
         "orientation": "v",
         "showlegend": true,
         "stackgroup": "1",
         "type": "scatter",
         "x": [
          "comidas-preparadas",
          "congelados",
          "congelados",
          "congelados"
         ],
         "xaxis": "x",
         "y": [
          0,
          0,
          0,
          0
         ],
         "yaxis": "y"
        },
        {
         "fillpattern": {
          "shape": ""
         },
         "hovertemplate": "Marca=Guallarauco<br>Categoria=%{x}<br>Desconto=%{y}<extra></extra>",
         "legendgroup": "Guallarauco",
         "line": {
          "color": "#FECB52"
         },
         "marker": {
          "symbol": "circle"
         },
         "mode": "lines",
         "name": "Guallarauco",
         "orientation": "v",
         "showlegend": true,
         "stackgroup": "1",
         "type": "scatter",
         "x": [
          "congelados",
          "congelados",
          "congelados",
          "congelados",
          "congelados",
          "congelados",
          "congelados"
         ],
         "xaxis": "x",
         "y": [
          0,
          0,
          0,
          0,
          0,
          0,
          0
         ],
         "yaxis": "y"
        },
        {
         "fillpattern": {
          "shape": ""
         },
         "hovertemplate": "Marca=Bresler<br>Categoria=%{x}<br>Desconto=%{y}<extra></extra>",
         "legendgroup": "Bresler",
         "line": {
          "color": "#636efa"
         },
         "marker": {
          "symbol": "circle"
         },
         "mode": "lines",
         "name": "Bresler",
         "orientation": "v",
         "showlegend": true,
         "stackgroup": "1",
         "type": "scatter",
         "x": [
          "congelados",
          "congelados",
          "congelados",
          "congelados",
          "congelados",
          "congelados",
          "congelados",
          "congelados",
          "congelados",
          "congelados",
          "congelados",
          "congelados",
          "congelados",
          "congelados"
         ],
         "xaxis": "x",
         "y": [
          0,
          0,
          0,
          0,
          0,
          0,
          373,
          373,
          693,
          699,
          709,
          990,
          1090,
          1090
         ],
         "yaxis": "y"
        },
        {
         "fillpattern": {
          "shape": ""
         },
         "hovertemplate": "Marca=Old Spice<br>Categoria=%{x}<br>Desconto=%{y}<extra></extra>",
         "legendgroup": "Old Spice",
         "line": {
          "color": "#EF553B"
         },
         "marker": {
          "symbol": "circle"
         },
         "mode": "lines",
         "name": "Old Spice",
         "orientation": "v",
         "showlegend": true,
         "stackgroup": "1",
         "type": "scatter",
         "x": [
          "beleza-e-cuidado-pessoal"
         ],
         "xaxis": "x",
         "y": [
          0
         ],
         "yaxis": "y"
        },
        {
         "fillpattern": {
          "shape": ""
         },
         "hovertemplate": "Marca=Tivoni<br>Categoria=%{x}<br>Desconto=%{y}<extra></extra>",
         "legendgroup": "Tivoni",
         "line": {
          "color": "#00cc96"
         },
         "marker": {
          "symbol": "circle"
         },
         "mode": "lines",
         "name": "Tivoni",
         "orientation": "v",
         "showlegend": true,
         "stackgroup": "1",
         "type": "scatter",
         "x": [
          "congelados"
         ],
         "xaxis": "x",
         "y": [
          0
         ],
         "yaxis": "y"
        },
        {
         "fillpattern": {
          "shape": ""
         },
         "hovertemplate": "Marca=Bellekiss<br>Categoria=%{x}<br>Desconto=%{y}<extra></extra>",
         "legendgroup": "Bellekiss",
         "line": {
          "color": "#ab63fa"
         },
         "marker": {
          "symbol": "circle"
         },
         "mode": "lines",
         "name": "Bellekiss",
         "orientation": "v",
         "showlegend": true,
         "stackgroup": "1",
         "type": "scatter",
         "x": [
          "beleza-e-cuidado-pessoal",
          "beleza-e-cuidado-pessoal",
          "beleza-e-cuidado-pessoal",
          "beleza-e-cuidado-pessoal"
         ],
         "xaxis": "x",
         "y": [
          0,
          0,
          0,
          0
         ],
         "yaxis": "y"
        },
        {
         "fillpattern": {
          "shape": ""
         },
         "hovertemplate": "Marca=Frutos Del Maipo<br>Categoria=%{x}<br>Desconto=%{y}<extra></extra>",
         "legendgroup": "Frutos Del Maipo",
         "line": {
          "color": "#FFA15A"
         },
         "marker": {
          "symbol": "circle"
         },
         "mode": "lines",
         "name": "Frutos Del Maipo",
         "orientation": "v",
         "showlegend": true,
         "stackgroup": "1",
         "type": "scatter",
         "x": [
          "congelados",
          "congelados",
          "congelados",
          "congelados",
          "congelados",
          "congelados",
          "congelados",
          "congelados",
          "congelados",
          "congelados",
          "congelados",
          "congelados",
          "congelados",
          "congelados",
          "congelados"
         ],
         "xaxis": "x",
         "y": [
          0,
          0,
          0,
          0,
          0,
          0,
          0,
          0,
          0,
          279,
          329,
          329,
          369,
          369,
          369
         ],
         "yaxis": "y"
        },
        {
         "fillpattern": {
          "shape": ""
         },
         "hovertemplate": "Marca=Linic<br>Categoria=%{x}<br>Desconto=%{y}<extra></extra>",
         "legendgroup": "Linic",
         "line": {
          "color": "#19d3f3"
         },
         "marker": {
          "symbol": "circle"
         },
         "mode": "lines",
         "name": "Linic",
         "orientation": "v",
         "showlegend": true,
         "stackgroup": "1",
         "type": "scatter",
         "x": [
          "beleza-e-cuidado-pessoal"
         ],
         "xaxis": "x",
         "y": [
          0
         ],
         "yaxis": "y"
        },
        {
         "fillpattern": {
          "shape": ""
         },
         "hovertemplate": "Marca=Fructis<br>Categoria=%{x}<br>Desconto=%{y}<extra></extra>",
         "legendgroup": "Fructis",
         "line": {
          "color": "#FF6692"
         },
         "marker": {
          "symbol": "circle"
         },
         "mode": "lines",
         "name": "Fructis",
         "orientation": "v",
         "showlegend": true,
         "stackgroup": "1",
         "type": "scatter",
         "x": [
          "beleza-e-cuidado-pessoal",
          "beleza-e-cuidado-pessoal",
          "beleza-e-cuidado-pessoal",
          "beleza-e-cuidado-pessoal",
          "beleza-e-cuidado-pessoal",
          "beleza-e-cuidado-pessoal",
          "beleza-e-cuidado-pessoal",
          "beleza-e-cuidado-pessoal",
          "beleza-e-cuidado-pessoal"
         ],
         "xaxis": "x",
         "y": [
          0,
          0,
          0,
          0,
          0,
          0,
          0,
          0,
          0
         ],
         "yaxis": "y"
        },
        {
         "fillpattern": {
          "shape": ""
         },
         "hovertemplate": "Marca=Oral-B<br>Categoria=%{x}<br>Desconto=%{y}<extra></extra>",
         "legendgroup": "Oral-B",
         "line": {
          "color": "#B6E880"
         },
         "marker": {
          "symbol": "circle"
         },
         "mode": "lines",
         "name": "Oral-B",
         "orientation": "v",
         "showlegend": true,
         "stackgroup": "1",
         "type": "scatter",
         "x": [
          "beleza-e-cuidado-pessoal",
          "beleza-e-cuidado-pessoal",
          "beleza-e-cuidado-pessoal",
          "beleza-e-cuidado-pessoal",
          "beleza-e-cuidado-pessoal",
          "beleza-e-cuidado-pessoal",
          "beleza-e-cuidado-pessoal",
          "beleza-e-cuidado-pessoal",
          "beleza-e-cuidado-pessoal"
         ],
         "xaxis": "x",
         "y": [
          0,
          0,
          0,
          0,
          0,
          0,
          0,
          0,
          797
         ],
         "yaxis": "y"
        },
        {
         "fillpattern": {
          "shape": ""
         },
         "hovertemplate": "Marca=Base Culinar<br>Categoria=%{x}<br>Desconto=%{y}<extra></extra>",
         "legendgroup": "Base Culinar",
         "line": {
          "color": "#FF97FF"
         },
         "marker": {
          "symbol": "circle"
         },
         "mode": "lines",
         "name": "Base Culinar",
         "orientation": "v",
         "showlegend": true,
         "stackgroup": "1",
         "type": "scatter",
         "x": [
          "laticinios"
         ],
         "xaxis": "x",
         "y": [
          0
         ],
         "yaxis": "y"
        },
        {
         "fillpattern": {
          "shape": ""
         },
         "hovertemplate": "Marca=PF<br>Categoria=%{x}<br>Desconto=%{y}<extra></extra>",
         "legendgroup": "PF",
         "line": {
          "color": "#FECB52"
         },
         "marker": {
          "symbol": "circle"
         },
         "mode": "lines",
         "name": "PF",
         "orientation": "v",
         "showlegend": true,
         "stackgroup": "1",
         "type": "scatter",
         "x": [
          "comidas-preparadas",
          "comidas-preparadas",
          "comidas-preparadas",
          "comidas-preparadas",
          "comidas-preparadas",
          "comidas-preparadas",
          "congelados",
          "comidas-preparadas",
          "comidas-preparadas",
          "comidas-preparadas",
          "comidas-preparadas"
         ],
         "xaxis": "x",
         "y": [
          0,
          0,
          0,
          0,
          0,
          0,
          0,
          500,
          500,
          500,
          500
         ],
         "yaxis": "y"
        },
        {
         "fillpattern": {
          "shape": ""
         },
         "hovertemplate": "Marca=Nestlé<br>Categoria=%{x}<br>Desconto=%{y}<extra></extra>",
         "legendgroup": "Nestlé",
         "line": {
          "color": "#636efa"
         },
         "marker": {
          "symbol": "circle"
         },
         "mode": "lines",
         "name": "Nestlé",
         "orientation": "v",
         "showlegend": true,
         "stackgroup": "1",
         "type": "scatter",
         "x": [
          "laticinios",
          "laticinios",
          "laticinios",
          "laticinios",
          "laticinios",
          "laticinios",
          "laticinios",
          "laticinios",
          "laticinios",
          "laticinios",
          "laticinios",
          "laticinios",
          "laticinios",
          "laticinios",
          "laticinios",
          "laticinios",
          "laticinios",
          "laticinios",
          "laticinios",
          "laticinios",
          "laticinios",
          "laticinios",
          "laticinios",
          "laticinios",
          "laticinios",
          "laticinios",
          "laticinios",
          "laticinios",
          "laticinios",
          "laticinios",
          "laticinios",
          "laticinios",
          "laticinios",
          "laticinios",
          "laticinios",
          "laticinios",
          "laticinios",
          "laticinios",
          "laticinios",
          "laticinios",
          "laticinios",
          "laticinios",
          "laticinios"
         ],
         "xaxis": "x",
         "y": [
          0,
          0,
          0,
          0,
          0,
          0,
          0,
          0,
          0,
          0,
          0,
          0,
          0,
          0,
          0,
          0,
          0,
          0,
          0,
          0,
          0,
          0,
          0,
          0,
          0,
          0,
          0,
          0,
          0,
          0,
          0,
          0,
          0,
          0,
          0,
          0,
          0,
          0,
          0,
          0,
          0,
          0,
          76
         ],
         "yaxis": "y"
        },
        {
         "fillpattern": {
          "shape": ""
         },
         "hovertemplate": "Marca=Chamyto<br>Categoria=%{x}<br>Desconto=%{y}<extra></extra>",
         "legendgroup": "Chamyto",
         "line": {
          "color": "#EF553B"
         },
         "marker": {
          "symbol": "circle"
         },
         "mode": "lines",
         "name": "Chamyto",
         "orientation": "v",
         "showlegend": true,
         "stackgroup": "1",
         "type": "scatter",
         "x": [
          "laticinios",
          "laticinios",
          "laticinios"
         ],
         "xaxis": "x",
         "y": [
          0,
          0,
          0
         ],
         "yaxis": "y"
        },
        {
         "fillpattern": {
          "shape": ""
         },
         "hovertemplate": "Marca=Zole<br>Categoria=%{x}<br>Desconto=%{y}<extra></extra>",
         "legendgroup": "Zole",
         "line": {
          "color": "#00cc96"
         },
         "marker": {
          "symbol": "circle"
         },
         "mode": "lines",
         "name": "Zole",
         "orientation": "v",
         "showlegend": true,
         "stackgroup": "1",
         "type": "scatter",
         "x": [
          "congelados"
         ],
         "xaxis": "x",
         "y": [
          0
         ],
         "yaxis": "y"
        },
        {
         "fillpattern": {
          "shape": ""
         },
         "hovertemplate": "Marca=Qualy<br>Categoria=%{x}<br>Desconto=%{y}<extra></extra>",
         "legendgroup": "Qualy",
         "line": {
          "color": "#ab63fa"
         },
         "marker": {
          "symbol": "circle"
         },
         "mode": "lines",
         "name": "Qualy",
         "orientation": "v",
         "showlegend": true,
         "stackgroup": "1",
         "type": "scatter",
         "x": [
          "laticinios",
          "laticinios"
         ],
         "xaxis": "x",
         "y": [
          0,
          0
         ],
         "yaxis": "y"
        },
        {
         "fillpattern": {
          "shape": ""
         },
         "hovertemplate": "Marca=Máxima MP<br>Categoria=%{x}<br>Desconto=%{y}<extra></extra>",
         "legendgroup": "Máxima MP",
         "line": {
          "color": "#FFA15A"
         },
         "marker": {
          "symbol": "circle"
         },
         "mode": "lines",
         "name": "Máxima MP",
         "orientation": "v",
         "showlegend": true,
         "stackgroup": "1",
         "type": "scatter",
         "x": [
          "instantaneo-e-sopas",
          "laticinios"
         ],
         "xaxis": "x",
         "y": [
          0,
          0
         ],
         "yaxis": "y"
        },
        {
         "fillpattern": {
          "shape": ""
         },
         "hovertemplate": "Marca=Nesquik<br>Categoria=%{x}<br>Desconto=%{y}<extra></extra>",
         "legendgroup": "Nesquik",
         "line": {
          "color": "#19d3f3"
         },
         "marker": {
          "symbol": "circle"
         },
         "mode": "lines",
         "name": "Nesquik",
         "orientation": "v",
         "showlegend": true,
         "stackgroup": "1",
         "type": "scatter",
         "x": [
          "laticinios",
          "laticinios"
         ],
         "xaxis": "x",
         "y": [
          0,
          0
         ],
         "yaxis": "y"
        },
        {
         "fillpattern": {
          "shape": ""
         },
         "hovertemplate": "Marca=Carefree<br>Categoria=%{x}<br>Desconto=%{y}<extra></extra>",
         "legendgroup": "Carefree",
         "line": {
          "color": "#FF6692"
         },
         "marker": {
          "symbol": "circle"
         },
         "mode": "lines",
         "name": "Carefree",
         "orientation": "v",
         "showlegend": true,
         "stackgroup": "1",
         "type": "scatter",
         "x": [
          "beleza-e-cuidado-pessoal",
          "beleza-e-cuidado-pessoal",
          "beleza-e-cuidado-pessoal"
         ],
         "xaxis": "x",
         "y": [
          0,
          0,
          0
         ],
         "yaxis": "y"
        },
        {
         "fillpattern": {
          "shape": ""
         },
         "hovertemplate": "Marca=Nosotras<br>Categoria=%{x}<br>Desconto=%{y}<extra></extra>",
         "legendgroup": "Nosotras",
         "line": {
          "color": "#B6E880"
         },
         "marker": {
          "symbol": "circle"
         },
         "mode": "lines",
         "name": "Nosotras",
         "orientation": "v",
         "showlegend": true,
         "stackgroup": "1",
         "type": "scatter",
         "x": [
          "beleza-e-cuidado-pessoal",
          "beleza-e-cuidado-pessoal",
          "beleza-e-cuidado-pessoal",
          "beleza-e-cuidado-pessoal",
          "beleza-e-cuidado-pessoal",
          "beleza-e-cuidado-pessoal",
          "beleza-e-cuidado-pessoal",
          "beleza-e-cuidado-pessoal",
          "beleza-e-cuidado-pessoal",
          "beleza-e-cuidado-pessoal",
          "beleza-e-cuidado-pessoal"
         ],
         "xaxis": "x",
         "y": [
          0,
          0,
          0,
          0,
          0,
          0,
          0,
          0,
          0,
          458,
          680
         ],
         "yaxis": "y"
        },
        {
         "fillpattern": {
          "shape": ""
         },
         "hovertemplate": "Marca=Gillette<br>Categoria=%{x}<br>Desconto=%{y}<extra></extra>",
         "legendgroup": "Gillette",
         "line": {
          "color": "#FF97FF"
         },
         "marker": {
          "symbol": "circle"
         },
         "mode": "lines",
         "name": "Gillette",
         "orientation": "v",
         "showlegend": true,
         "stackgroup": "1",
         "type": "scatter",
         "x": [
          "beleza-e-cuidado-pessoal",
          "beleza-e-cuidado-pessoal"
         ],
         "xaxis": "x",
         "y": [
          0,
          0
         ],
         "yaxis": "y"
        },
        {
         "fillpattern": {
          "shape": ""
         },
         "hovertemplate": "Marca=Alimentos Shen<br>Categoria=%{x}<br>Desconto=%{y}<extra></extra>",
         "legendgroup": "Alimentos Shen",
         "line": {
          "color": "#FECB52"
         },
         "marker": {
          "symbol": "circle"
         },
         "mode": "lines",
         "name": "Alimentos Shen",
         "orientation": "v",
         "showlegend": true,
         "stackgroup": "1",
         "type": "scatter",
         "x": [
          "congelados",
          "congelados"
         ],
         "xaxis": "x",
         "y": [
          0,
          0
         ],
         "yaxis": "y"
        },
        {
         "fillpattern": {
          "shape": ""
         },
         "hovertemplate": "Marca=Ladysoft<br>Categoria=%{x}<br>Desconto=%{y}<extra></extra>",
         "legendgroup": "Ladysoft",
         "line": {
          "color": "#636efa"
         },
         "marker": {
          "symbol": "circle"
         },
         "mode": "lines",
         "name": "Ladysoft",
         "orientation": "v",
         "showlegend": true,
         "stackgroup": "1",
         "type": "scatter",
         "x": [
          "beleza-e-cuidado-pessoal",
          "beleza-e-cuidado-pessoal",
          "beleza-e-cuidado-pessoal",
          "beleza-e-cuidado-pessoal",
          "beleza-e-cuidado-pessoal",
          "beleza-e-cuidado-pessoal"
         ],
         "xaxis": "x",
         "y": [
          0,
          0,
          0,
          0,
          0,
          569
         ],
         "yaxis": "y"
        },
        {
         "fillpattern": {
          "shape": ""
         },
         "hovertemplate": "Marca=Dove<br>Categoria=%{x}<br>Desconto=%{y}<extra></extra>",
         "legendgroup": "Dove",
         "line": {
          "color": "#EF553B"
         },
         "marker": {
          "symbol": "circle"
         },
         "mode": "lines",
         "name": "Dove",
         "orientation": "v",
         "showlegend": true,
         "stackgroup": "1",
         "type": "scatter",
         "x": [
          "beleza-e-cuidado-pessoal",
          "beleza-e-cuidado-pessoal",
          "beleza-e-cuidado-pessoal",
          "beleza-e-cuidado-pessoal",
          "beleza-e-cuidado-pessoal",
          "beleza-e-cuidado-pessoal",
          "beleza-e-cuidado-pessoal",
          "beleza-e-cuidado-pessoal",
          "beleza-e-cuidado-pessoal",
          "beleza-e-cuidado-pessoal",
          "beleza-e-cuidado-pessoal",
          "beleza-e-cuidado-pessoal",
          "beleza-e-cuidado-pessoal",
          "beleza-e-cuidado-pessoal",
          "beleza-e-cuidado-pessoal"
         ],
         "xaxis": "x",
         "y": [
          0,
          0,
          0,
          0,
          0,
          0,
          0,
          0,
          460,
          890,
          890,
          890,
          1000,
          1159,
          1159
         ],
         "yaxis": "y"
        },
        {
         "fillpattern": {
          "shape": ""
         },
         "hovertemplate": "Marca=Kotex<br>Categoria=%{x}<br>Desconto=%{y}<extra></extra>",
         "legendgroup": "Kotex",
         "line": {
          "color": "#00cc96"
         },
         "marker": {
          "symbol": "circle"
         },
         "mode": "lines",
         "name": "Kotex",
         "orientation": "v",
         "showlegend": true,
         "stackgroup": "1",
         "type": "scatter",
         "x": [
          "beleza-e-cuidado-pessoal",
          "beleza-e-cuidado-pessoal",
          "beleza-e-cuidado-pessoal",
          "beleza-e-cuidado-pessoal",
          "beleza-e-cuidado-pessoal",
          "beleza-e-cuidado-pessoal"
         ],
         "xaxis": "x",
         "y": [
          0,
          0,
          0,
          0,
          0,
          331
         ],
         "yaxis": "y"
        },
        {
         "fillpattern": {
          "shape": ""
         },
         "hovertemplate": "Marca=Dove Men<br>Categoria=%{x}<br>Desconto=%{y}<extra></extra>",
         "legendgroup": "Dove Men",
         "line": {
          "color": "#ab63fa"
         },
         "marker": {
          "symbol": "circle"
         },
         "mode": "lines",
         "name": "Dove Men",
         "orientation": "v",
         "showlegend": true,
         "stackgroup": "1",
         "type": "scatter",
         "x": [
          "beleza-e-cuidado-pessoal",
          "beleza-e-cuidado-pessoal",
          "beleza-e-cuidado-pessoal",
          "beleza-e-cuidado-pessoal"
         ],
         "xaxis": "x",
         "y": [
          0,
          0,
          0,
          1009
         ],
         "yaxis": "y"
        },
        {
         "fillpattern": {
          "shape": ""
         },
         "hovertemplate": "Marca=Aquafresh<br>Categoria=%{x}<br>Desconto=%{y}<extra></extra>",
         "legendgroup": "Aquafresh",
         "line": {
          "color": "#FFA15A"
         },
         "marker": {
          "symbol": "circle"
         },
         "mode": "lines",
         "name": "Aquafresh",
         "orientation": "v",
         "showlegend": true,
         "stackgroup": "1",
         "type": "scatter",
         "x": [
          "beleza-e-cuidado-pessoal",
          "beleza-e-cuidado-pessoal",
          "beleza-e-cuidado-pessoal"
         ],
         "xaxis": "x",
         "y": [
          0,
          636,
          698
         ],
         "yaxis": "y"
        },
        {
         "fillpattern": {
          "shape": ""
         },
         "hovertemplate": "Marca=Danone<br>Categoria=%{x}<br>Desconto=%{y}<extra></extra>",
         "legendgroup": "Danone",
         "line": {
          "color": "#19d3f3"
         },
         "marker": {
          "symbol": "circle"
         },
         "mode": "lines",
         "name": "Danone",
         "orientation": "v",
         "showlegend": true,
         "stackgroup": "1",
         "type": "scatter",
         "x": [
          "laticinios",
          "laticinios",
          "laticinios",
          "laticinios",
          "laticinios",
          "laticinios",
          "laticinios",
          "laticinios",
          "laticinios"
         ],
         "xaxis": "x",
         "y": [
          0,
          0,
          0,
          0,
          0,
          0,
          0,
          0,
          0
         ],
         "yaxis": "y"
        },
        {
         "fillpattern": {
          "shape": ""
         },
         "hovertemplate": "Marca=Cotosan<br>Categoria=%{x}<br>Desconto=%{y}<extra></extra>",
         "legendgroup": "Cotosan",
         "line": {
          "color": "#FF6692"
         },
         "marker": {
          "symbol": "circle"
         },
         "mode": "lines",
         "name": "Cotosan",
         "orientation": "v",
         "showlegend": true,
         "stackgroup": "1",
         "type": "scatter",
         "x": [
          "beleza-e-cuidado-pessoal"
         ],
         "xaxis": "x",
         "y": [
          0
         ],
         "yaxis": "y"
        },
        {
         "fillpattern": {
          "shape": ""
         },
         "hovertemplate": "Marca=Cintazul<br>Categoria=%{x}<br>Desconto=%{y}<extra></extra>",
         "legendgroup": "Cintazul",
         "line": {
          "color": "#B6E880"
         },
         "marker": {
          "symbol": "circle"
         },
         "mode": "lines",
         "name": "Cintazul",
         "orientation": "v",
         "showlegend": true,
         "stackgroup": "1",
         "type": "scatter",
         "x": [
          "laticinios",
          "laticinios",
          "laticinios",
          "laticinios",
          "laticinios"
         ],
         "xaxis": "x",
         "y": [
          0,
          0,
          0,
          0,
          0
         ],
         "yaxis": "y"
        },
        {
         "fillpattern": {
          "shape": ""
         },
         "hovertemplate": "Marca=Signore Mario<br>Categoria=%{x}<br>Desconto=%{y}<extra></extra>",
         "legendgroup": "Signore Mario",
         "line": {
          "color": "#FF97FF"
         },
         "marker": {
          "symbol": "circle"
         },
         "mode": "lines",
         "name": "Signore Mario",
         "orientation": "v",
         "showlegend": true,
         "stackgroup": "1",
         "type": "scatter",
         "x": [
          "laticinios"
         ],
         "xaxis": "x",
         "y": [
          0
         ],
         "yaxis": "y"
        },
        {
         "fillpattern": {
          "shape": ""
         },
         "hovertemplate": "Marca=Chiquitín<br>Categoria=%{x}<br>Desconto=%{y}<extra></extra>",
         "legendgroup": "Chiquitín",
         "line": {
          "color": "#FECB52"
         },
         "marker": {
          "symbol": "circle"
         },
         "mode": "lines",
         "name": "Chiquitín",
         "orientation": "v",
         "showlegend": true,
         "stackgroup": "1",
         "type": "scatter",
         "x": [
          "laticinios"
         ],
         "xaxis": "x",
         "y": [
          0
         ],
         "yaxis": "y"
        },
        {
         "fillpattern": {
          "shape": ""
         },
         "hovertemplate": "Marca=San Ignacio<br>Categoria=%{x}<br>Desconto=%{y}<extra></extra>",
         "legendgroup": "San Ignacio",
         "line": {
          "color": "#636efa"
         },
         "marker": {
          "symbol": "circle"
         },
         "mode": "lines",
         "name": "San Ignacio",
         "orientation": "v",
         "showlegend": true,
         "stackgroup": "1",
         "type": "scatter",
         "x": [
          "laticinios"
         ],
         "xaxis": "x",
         "y": [
          0
         ],
         "yaxis": "y"
        },
        {
         "fillpattern": {
          "shape": ""
         },
         "hovertemplate": "Marca=Lady Speed Stick<br>Categoria=%{x}<br>Desconto=%{y}<extra></extra>",
         "legendgroup": "Lady Speed Stick",
         "line": {
          "color": "#EF553B"
         },
         "marker": {
          "symbol": "circle"
         },
         "mode": "lines",
         "name": "Lady Speed Stick",
         "orientation": "v",
         "showlegend": true,
         "stackgroup": "1",
         "type": "scatter",
         "x": [
          "beleza-e-cuidado-pessoal",
          "beleza-e-cuidado-pessoal",
          "beleza-e-cuidado-pessoal"
         ],
         "xaxis": "x",
         "y": [
          0,
          0,
          0
         ],
         "yaxis": "y"
        },
        {
         "fillpattern": {
          "shape": ""
         },
         "hovertemplate": "Marca=Speed Stick<br>Categoria=%{x}<br>Desconto=%{y}<extra></extra>",
         "legendgroup": "Speed Stick",
         "line": {
          "color": "#00cc96"
         },
         "marker": {
          "symbol": "circle"
         },
         "mode": "lines",
         "name": "Speed Stick",
         "orientation": "v",
         "showlegend": true,
         "stackgroup": "1",
         "type": "scatter",
         "x": [
          "beleza-e-cuidado-pessoal",
          "beleza-e-cuidado-pessoal"
         ],
         "xaxis": "x",
         "y": [
          0,
          0
         ],
         "yaxis": "y"
        },
        {
         "fillpattern": {
          "shape": ""
         },
         "hovertemplate": "Marca=Kumey<br>Categoria=%{x}<br>Desconto=%{y}<extra></extra>",
         "legendgroup": "Kumey",
         "line": {
          "color": "#ab63fa"
         },
         "marker": {
          "symbol": "circle"
         },
         "mode": "lines",
         "name": "Kumey",
         "orientation": "v",
         "showlegend": true,
         "stackgroup": "1",
         "type": "scatter",
         "x": [
          "laticinios"
         ],
         "xaxis": "x",
         "y": [
          0
         ],
         "yaxis": "y"
        },
        {
         "fillpattern": {
          "shape": ""
         },
         "hovertemplate": "Marca=Shake A Shake Lonco Leche<br>Categoria=%{x}<br>Desconto=%{y}<extra></extra>",
         "legendgroup": "Shake A Shake Lonco Leche",
         "line": {
          "color": "#FFA15A"
         },
         "marker": {
          "symbol": "circle"
         },
         "mode": "lines",
         "name": "Shake A Shake Lonco Leche",
         "orientation": "v",
         "showlegend": true,
         "stackgroup": "1",
         "type": "scatter",
         "x": [
          "laticinios",
          "laticinios"
         ],
         "xaxis": "x",
         "y": [
          0,
          0
         ],
         "yaxis": "y"
        },
        {
         "fillpattern": {
          "shape": ""
         },
         "hovertemplate": "Marca=Yogu - Yogu<br>Categoria=%{x}<br>Desconto=%{y}<extra></extra>",
         "legendgroup": "Yogu - Yogu",
         "line": {
          "color": "#19d3f3"
         },
         "marker": {
          "symbol": "circle"
         },
         "mode": "lines",
         "name": "Yogu - Yogu",
         "orientation": "v",
         "showlegend": true,
         "stackgroup": "1",
         "type": "scatter",
         "x": [
          "laticinios",
          "laticinios",
          "laticinios",
          "laticinios",
          "laticinios",
          "laticinios",
          "laticinios",
          "laticinios"
         ],
         "xaxis": "x",
         "y": [
          0,
          0,
          0,
          0,
          0,
          0,
          0,
          0
         ],
         "yaxis": "y"
        },
        {
         "fillpattern": {
          "shape": ""
         },
         "hovertemplate": "Marca=Pamperita<br>Categoria=%{x}<br>Desconto=%{y}<extra></extra>",
         "legendgroup": "Pamperita",
         "line": {
          "color": "#FF6692"
         },
         "marker": {
          "symbol": "circle"
         },
         "mode": "lines",
         "name": "Pamperita",
         "orientation": "v",
         "showlegend": true,
         "stackgroup": "1",
         "type": "scatter",
         "x": [
          "laticinios"
         ],
         "xaxis": "x",
         "y": [
          0
         ],
         "yaxis": "y"
        },
        {
         "fillpattern": {
          "shape": ""
         },
         "hovertemplate": "Marca=Omega 3<br>Categoria=%{x}<br>Desconto=%{y}<extra></extra>",
         "legendgroup": "Omega 3",
         "line": {
          "color": "#B6E880"
         },
         "marker": {
          "symbol": "circle"
         },
         "mode": "lines",
         "name": "Omega 3",
         "orientation": "v",
         "showlegend": true,
         "stackgroup": "1",
         "type": "scatter",
         "x": [
          "laticinios",
          "laticinios"
         ],
         "xaxis": "x",
         "y": [
          0,
          0
         ],
         "yaxis": "y"
        },
        {
         "fillpattern": {
          "shape": ""
         },
         "hovertemplate": "Marca=Always<br>Categoria=%{x}<br>Desconto=%{y}<extra></extra>",
         "legendgroup": "Always",
         "line": {
          "color": "#FF97FF"
         },
         "marker": {
          "symbol": "circle"
         },
         "mode": "lines",
         "name": "Always",
         "orientation": "v",
         "showlegend": true,
         "stackgroup": "1",
         "type": "scatter",
         "x": [
          "beleza-e-cuidado-pessoal",
          "beleza-e-cuidado-pessoal",
          "beleza-e-cuidado-pessoal",
          "beleza-e-cuidado-pessoal"
         ],
         "xaxis": "x",
         "y": [
          0,
          0,
          0,
          495
         ],
         "yaxis": "y"
        },
        {
         "fillpattern": {
          "shape": ""
         },
         "hovertemplate": "Marca=Le Sancy<br>Categoria=%{x}<br>Desconto=%{y}<extra></extra>",
         "legendgroup": "Le Sancy",
         "line": {
          "color": "#FECB52"
         },
         "marker": {
          "symbol": "circle"
         },
         "mode": "lines",
         "name": "Le Sancy",
         "orientation": "v",
         "showlegend": true,
         "stackgroup": "1",
         "type": "scatter",
         "x": [
          "beleza-e-cuidado-pessoal",
          "beleza-e-cuidado-pessoal",
          "beleza-e-cuidado-pessoal",
          "beleza-e-cuidado-pessoal"
         ],
         "xaxis": "x",
         "y": [
          0,
          0,
          0,
          0
         ],
         "yaxis": "y"
        },
        {
         "fillpattern": {
          "shape": ""
         },
         "hovertemplate": "Marca=Quillayes<br>Categoria=%{x}<br>Desconto=%{y}<extra></extra>",
         "legendgroup": "Quillayes",
         "line": {
          "color": "#636efa"
         },
         "marker": {
          "symbol": "circle"
         },
         "mode": "lines",
         "name": "Quillayes",
         "orientation": "v",
         "showlegend": true,
         "stackgroup": "1",
         "type": "scatter",
         "x": [
          "laticinios",
          "laticinios",
          "laticinios",
          "laticinios",
          "laticinios",
          "laticinios",
          "laticinios",
          "laticinios",
          "laticinios",
          "laticinios"
         ],
         "xaxis": "x",
         "y": [
          0,
          0,
          0,
          0,
          0,
          0,
          0,
          0,
          0,
          0
         ],
         "yaxis": "y"
        },
        {
         "fillpattern": {
          "shape": ""
         },
         "hovertemplate": "Marca=Pepsodent<br>Categoria=%{x}<br>Desconto=%{y}<extra></extra>",
         "legendgroup": "Pepsodent",
         "line": {
          "color": "#EF553B"
         },
         "marker": {
          "symbol": "circle"
         },
         "mode": "lines",
         "name": "Pepsodent",
         "orientation": "v",
         "showlegend": true,
         "stackgroup": "1",
         "type": "scatter",
         "x": [
          "beleza-e-cuidado-pessoal",
          "beleza-e-cuidado-pessoal",
          "beleza-e-cuidado-pessoal"
         ],
         "xaxis": "x",
         "y": [
          0,
          189,
          844
         ],
         "yaxis": "y"
        },
        {
         "fillpattern": {
          "shape": ""
         },
         "hovertemplate": "Marca=Protex<br>Categoria=%{x}<br>Desconto=%{y}<extra></extra>",
         "legendgroup": "Protex",
         "line": {
          "color": "#00cc96"
         },
         "marker": {
          "symbol": "circle"
         },
         "mode": "lines",
         "name": "Protex",
         "orientation": "v",
         "showlegend": true,
         "stackgroup": "1",
         "type": "scatter",
         "x": [
          "beleza-e-cuidado-pessoal",
          "beleza-e-cuidado-pessoal"
         ],
         "xaxis": "x",
         "y": [
          0,
          609
         ],
         "yaxis": "y"
        },
        {
         "fillpattern": {
          "shape": ""
         },
         "hovertemplate": "Marca=Bonella<br>Categoria=%{x}<br>Desconto=%{y}<extra></extra>",
         "legendgroup": "Bonella",
         "line": {
          "color": "#ab63fa"
         },
         "marker": {
          "symbol": "circle"
         },
         "mode": "lines",
         "name": "Bonella",
         "orientation": "v",
         "showlegend": true,
         "stackgroup": "1",
         "type": "scatter",
         "x": [
          "laticinios",
          "laticinios",
          "laticinios"
         ],
         "xaxis": "x",
         "y": [
          0,
          0,
          0
         ],
         "yaxis": "y"
        },
        {
         "fillpattern": {
          "shape": ""
         },
         "hovertemplate": "Marca=Santa Marta<br>Categoria=%{x}<br>Desconto=%{y}<extra></extra>",
         "legendgroup": "Santa Marta",
         "line": {
          "color": "#FFA15A"
         },
         "marker": {
          "symbol": "circle"
         },
         "mode": "lines",
         "name": "Santa Marta",
         "orientation": "v",
         "showlegend": true,
         "stackgroup": "1",
         "type": "scatter",
         "x": [
          "laticinios",
          "laticinios"
         ],
         "xaxis": "x",
         "y": [
          0,
          299
         ],
         "yaxis": "y"
        },
        {
         "fillpattern": {
          "shape": ""
         },
         "hovertemplate": "Marca=Dento<br>Categoria=%{x}<br>Desconto=%{y}<extra></extra>",
         "legendgroup": "Dento",
         "line": {
          "color": "#19d3f3"
         },
         "marker": {
          "symbol": "circle"
         },
         "mode": "lines",
         "name": "Dento",
         "orientation": "v",
         "showlegend": true,
         "stackgroup": "1",
         "type": "scatter",
         "x": [
          "beleza-e-cuidado-pessoal",
          "beleza-e-cuidado-pessoal",
          "beleza-e-cuidado-pessoal"
         ],
         "xaxis": "x",
         "y": [
          0,
          0,
          0
         ],
         "yaxis": "y"
        },
        {
         "fillpattern": {
          "shape": ""
         },
         "hovertemplate": "Marca=Ilicit<br>Categoria=%{x}<br>Desconto=%{y}<extra></extra>",
         "legendgroup": "Ilicit",
         "line": {
          "color": "#FF6692"
         },
         "marker": {
          "symbol": "circle"
         },
         "mode": "lines",
         "name": "Ilicit",
         "orientation": "v",
         "showlegend": true,
         "stackgroup": "1",
         "type": "scatter",
         "x": [
          "beleza-e-cuidado-pessoal"
         ],
         "xaxis": "x",
         "y": [
          0
         ],
         "yaxis": "y"
        },
        {
         "fillpattern": {
          "shape": ""
         },
         "hovertemplate": "Marca=Corbac<br>Categoria=%{x}<br>Desconto=%{y}<extra></extra>",
         "legendgroup": "Corbac",
         "line": {
          "color": "#B6E880"
         },
         "marker": {
          "symbol": "circle"
         },
         "mode": "lines",
         "name": "Corbac",
         "orientation": "v",
         "showlegend": true,
         "stackgroup": "1",
         "type": "scatter",
         "x": [
          "comidas-preparadas",
          "comidas-preparadas"
         ],
         "xaxis": "x",
         "y": [
          0,
          0
         ],
         "yaxis": "y"
        },
        {
         "fillpattern": {
          "shape": ""
         },
         "hovertemplate": "Marca=Santa Isabel<br>Categoria=%{x}<br>Desconto=%{y}<extra></extra>",
         "legendgroup": "Santa Isabel",
         "line": {
          "color": "#FF97FF"
         },
         "marker": {
          "symbol": "circle"
         },
         "mode": "lines",
         "name": "Santa Isabel",
         "orientation": "v",
         "showlegend": true,
         "stackgroup": "1",
         "type": "scatter",
         "x": [
          "comidas-preparadas",
          "laticinios",
          "instantaneo-e-sopas",
          "instantaneo-e-sopas",
          "instantaneo-e-sopas",
          "instantaneo-e-sopas",
          "instantaneo-e-sopas"
         ],
         "xaxis": "x",
         "y": [
          0,
          0,
          0,
          0,
          0,
          0,
          0
         ],
         "yaxis": "y"
        },
        {
         "fillpattern": {
          "shape": ""
         },
         "hovertemplate": "Marca=Lefersa<br>Categoria=%{x}<br>Desconto=%{y}<extra></extra>",
         "legendgroup": "Lefersa",
         "line": {
          "color": "#FECB52"
         },
         "marker": {
          "symbol": "circle"
         },
         "mode": "lines",
         "name": "Lefersa",
         "orientation": "v",
         "showlegend": true,
         "stackgroup": "1",
         "type": "scatter",
         "x": [
          "laticinios",
          "laticinios"
         ],
         "xaxis": "x",
         "y": [
          0,
          0
         ],
         "yaxis": "y"
        },
        {
         "fillpattern": {
          "shape": ""
         },
         "hovertemplate": "Marca=Rikü<br>Categoria=%{x}<br>Desconto=%{y}<extra></extra>",
         "legendgroup": "Rikü",
         "line": {
          "color": "#636efa"
         },
         "marker": {
          "symbol": "circle"
         },
         "mode": "lines",
         "name": "Rikü",
         "orientation": "v",
         "showlegend": true,
         "stackgroup": "1",
         "type": "scatter",
         "x": [
          "congelados",
          "congelados",
          "congelados"
         ],
         "xaxis": "x",
         "y": [
          0,
          0,
          0
         ],
         "yaxis": "y"
        },
        {
         "fillpattern": {
          "shape": ""
         },
         "hovertemplate": "Marca=Los Alerces<br>Categoria=%{x}<br>Desconto=%{y}<extra></extra>",
         "legendgroup": "Los Alerces",
         "line": {
          "color": "#EF553B"
         },
         "marker": {
          "symbol": "circle"
         },
         "mode": "lines",
         "name": "Los Alerces",
         "orientation": "v",
         "showlegend": true,
         "stackgroup": "1",
         "type": "scatter",
         "x": [
          "laticinios",
          "laticinios"
         ],
         "xaxis": "x",
         "y": [
          0,
          0
         ],
         "yaxis": "y"
        },
        {
         "fillpattern": {
          "shape": ""
         },
         "hovertemplate": "Marca=Zerolacto<br>Categoria=%{x}<br>Desconto=%{y}<extra></extra>",
         "legendgroup": "Zerolacto",
         "line": {
          "color": "#00cc96"
         },
         "marker": {
          "symbol": "circle"
         },
         "mode": "lines",
         "name": "Zerolacto",
         "orientation": "v",
         "showlegend": true,
         "stackgroup": "1",
         "type": "scatter",
         "x": [
          "laticinios",
          "laticinios",
          "laticinios",
          "laticinios"
         ],
         "xaxis": "x",
         "y": [
          0,
          0,
          0,
          0
         ],
         "yaxis": "y"
        },
        {
         "fillpattern": {
          "shape": ""
         },
         "hovertemplate": "Marca=Activia<br>Categoria=%{x}<br>Desconto=%{y}<extra></extra>",
         "legendgroup": "Activia",
         "line": {
          "color": "#ab63fa"
         },
         "marker": {
          "symbol": "circle"
         },
         "mode": "lines",
         "name": "Activia",
         "orientation": "v",
         "showlegend": true,
         "stackgroup": "1",
         "type": "scatter",
         "x": [
          "laticinios",
          "laticinios",
          "laticinios",
          "laticinios",
          "laticinios",
          "laticinios"
         ],
         "xaxis": "x",
         "y": [
          0,
          0,
          0,
          0,
          0,
          0
         ],
         "yaxis": "y"
        },
        {
         "fillpattern": {
          "shape": ""
         },
         "hovertemplate": "Marca=Schick<br>Categoria=%{x}<br>Desconto=%{y}<extra></extra>",
         "legendgroup": "Schick",
         "line": {
          "color": "#FFA15A"
         },
         "marker": {
          "symbol": "circle"
         },
         "mode": "lines",
         "name": "Schick",
         "orientation": "v",
         "showlegend": true,
         "stackgroup": "1",
         "type": "scatter",
         "x": [
          "beleza-e-cuidado-pessoal"
         ],
         "xaxis": "x",
         "y": [
          0
         ],
         "yaxis": "y"
        },
        {
         "fillpattern": {
          "shape": ""
         },
         "hovertemplate": "Marca=Simond'S<br>Categoria=%{x}<br>Desconto=%{y}<extra></extra>",
         "legendgroup": "Simond'S",
         "line": {
          "color": "#19d3f3"
         },
         "marker": {
          "symbol": "circle"
         },
         "mode": "lines",
         "name": "Simond'S",
         "orientation": "v",
         "showlegend": true,
         "stackgroup": "1",
         "type": "scatter",
         "x": [
          "beleza-e-cuidado-pessoal",
          "beleza-e-cuidado-pessoal",
          "beleza-e-cuidado-pessoal",
          "beleza-e-cuidado-pessoal",
          "beleza-e-cuidado-pessoal",
          "beleza-e-cuidado-pessoal",
          "beleza-e-cuidado-pessoal",
          "beleza-e-cuidado-pessoal"
         ],
         "xaxis": "x",
         "y": [
          0,
          0,
          0,
          0,
          0,
          0,
          0,
          0
         ],
         "yaxis": "y"
        },
        {
         "fillpattern": {
          "shape": ""
         },
         "hovertemplate": "Marca=Calan<br>Categoria=%{x}<br>Desconto=%{y}<extra></extra>",
         "legendgroup": "Calan",
         "line": {
          "color": "#FF6692"
         },
         "marker": {
          "symbol": "circle"
         },
         "mode": "lines",
         "name": "Calan",
         "orientation": "v",
         "showlegend": true,
         "stackgroup": "1",
         "type": "scatter",
         "x": [
          "laticinios",
          "laticinios",
          "laticinios",
          "laticinios",
          "laticinios",
          "laticinios",
          "laticinios",
          "laticinios",
          "laticinios"
         ],
         "xaxis": "x",
         "y": [
          0,
          0,
          0,
          0,
          0,
          0,
          0,
          0,
          0
         ],
         "yaxis": "y"
        },
        {
         "fillpattern": {
          "shape": ""
         },
         "hovertemplate": "Marca=Family Care<br>Categoria=%{x}<br>Desconto=%{y}<extra></extra>",
         "legendgroup": "Family Care",
         "line": {
          "color": "#B6E880"
         },
         "marker": {
          "symbol": "circle"
         },
         "mode": "lines",
         "name": "Family Care",
         "orientation": "v",
         "showlegend": true,
         "stackgroup": "1",
         "type": "scatter",
         "x": [
          "beleza-e-cuidado-pessoal",
          "beleza-e-cuidado-pessoal",
          "beleza-e-cuidado-pessoal",
          "beleza-e-cuidado-pessoal",
          "beleza-e-cuidado-pessoal"
         ],
         "xaxis": "x",
         "y": [
          0,
          0,
          0,
          0,
          0
         ],
         "yaxis": "y"
        },
        {
         "fillpattern": {
          "shape": ""
         },
         "hovertemplate": "Marca=Ballerina<br>Categoria=%{x}<br>Desconto=%{y}<extra></extra>",
         "legendgroup": "Ballerina",
         "line": {
          "color": "#FF97FF"
         },
         "marker": {
          "symbol": "circle"
         },
         "mode": "lines",
         "name": "Ballerina",
         "orientation": "v",
         "showlegend": true,
         "stackgroup": "1",
         "type": "scatter",
         "x": [
          "beleza-e-cuidado-pessoal",
          "beleza-e-cuidado-pessoal",
          "beleza-e-cuidado-pessoal",
          "beleza-e-cuidado-pessoal",
          "beleza-e-cuidado-pessoal",
          "beleza-e-cuidado-pessoal",
          "beleza-e-cuidado-pessoal",
          "beleza-e-cuidado-pessoal",
          "beleza-e-cuidado-pessoal",
          "beleza-e-cuidado-pessoal",
          "beleza-e-cuidado-pessoal",
          "beleza-e-cuidado-pessoal"
         ],
         "xaxis": "x",
         "y": [
          0,
          0,
          0,
          0,
          0,
          0,
          0,
          0,
          0,
          0,
          0,
          409
         ],
         "yaxis": "y"
        },
        {
         "fillpattern": {
          "shape": ""
         },
         "hovertemplate": "Marca=Naturella<br>Categoria=%{x}<br>Desconto=%{y}<extra></extra>",
         "legendgroup": "Naturella",
         "line": {
          "color": "#FECB52"
         },
         "marker": {
          "symbol": "circle"
         },
         "mode": "lines",
         "name": "Naturella",
         "orientation": "v",
         "showlegend": true,
         "stackgroup": "1",
         "type": "scatter",
         "x": [
          "beleza-e-cuidado-pessoal",
          "beleza-e-cuidado-pessoal",
          "beleza-e-cuidado-pessoal"
         ],
         "xaxis": "x",
         "y": [
          0,
          0,
          0
         ],
         "yaxis": "y"
        },
        {
         "fillpattern": {
          "shape": ""
         },
         "hovertemplate": "Marca=Regimel<br>Categoria=%{x}<br>Desconto=%{y}<extra></extra>",
         "legendgroup": "Regimel",
         "line": {
          "color": "#636efa"
         },
         "marker": {
          "symbol": "circle"
         },
         "mode": "lines",
         "name": "Regimel",
         "orientation": "v",
         "showlegend": true,
         "stackgroup": "1",
         "type": "scatter",
         "x": [
          "laticinios",
          "laticinios"
         ],
         "xaxis": "x",
         "y": [
          0,
          0
         ],
         "yaxis": "y"
        },
        {
         "fillpattern": {
          "shape": ""
         },
         "hovertemplate": "Marca=Light & Free<br>Categoria=%{x}<br>Desconto=%{y}<extra></extra>",
         "legendgroup": "Light & Free",
         "line": {
          "color": "#EF553B"
         },
         "marker": {
          "symbol": "circle"
         },
         "mode": "lines",
         "name": "Light & Free",
         "orientation": "v",
         "showlegend": true,
         "stackgroup": "1",
         "type": "scatter",
         "x": [
          "laticinios",
          "laticinios",
          "laticinios"
         ],
         "xaxis": "x",
         "y": [
          0,
          0,
          0
         ],
         "yaxis": "y"
        },
        {
         "fillpattern": {
          "shape": ""
         },
         "hovertemplate": "Marca=Duralón<br>Categoria=%{x}<br>Desconto=%{y}<extra></extra>",
         "legendgroup": "Duralón",
         "line": {
          "color": "#00cc96"
         },
         "marker": {
          "symbol": "circle"
         },
         "mode": "lines",
         "name": "Duralón",
         "orientation": "v",
         "showlegend": true,
         "stackgroup": "1",
         "type": "scatter",
         "x": [
          "beleza-e-cuidado-pessoal",
          "beleza-e-cuidado-pessoal"
         ],
         "xaxis": "x",
         "y": [
          0,
          0
         ],
         "yaxis": "y"
        },
        {
         "fillpattern": {
          "shape": ""
         },
         "hovertemplate": "Marca=Familand<br>Categoria=%{x}<br>Desconto=%{y}<extra></extra>",
         "legendgroup": "Familand",
         "line": {
          "color": "#ab63fa"
         },
         "marker": {
          "symbol": "circle"
         },
         "mode": "lines",
         "name": "Familand",
         "orientation": "v",
         "showlegend": true,
         "stackgroup": "1",
         "type": "scatter",
         "x": [
          "beleza-e-cuidado-pessoal",
          "beleza-e-cuidado-pessoal",
          "beleza-e-cuidado-pessoal",
          "beleza-e-cuidado-pessoal",
          "beleza-e-cuidado-pessoal",
          "beleza-e-cuidado-pessoal",
          "beleza-e-cuidado-pessoal",
          "beleza-e-cuidado-pessoal",
          "beleza-e-cuidado-pessoal",
          "beleza-e-cuidado-pessoal",
          "beleza-e-cuidado-pessoal",
          "beleza-e-cuidado-pessoal"
         ],
         "xaxis": "x",
         "y": [
          0,
          0,
          0,
          0,
          0,
          0,
          0,
          0,
          0,
          0,
          0,
          0
         ],
         "yaxis": "y"
        },
        {
         "fillpattern": {
          "shape": ""
         },
         "hovertemplate": "Marca=Babyland<br>Categoria=%{x}<br>Desconto=%{y}<extra></extra>",
         "legendgroup": "Babyland",
         "line": {
          "color": "#FFA15A"
         },
         "marker": {
          "symbol": "circle"
         },
         "mode": "lines",
         "name": "Babyland",
         "orientation": "v",
         "showlegend": true,
         "stackgroup": "1",
         "type": "scatter",
         "x": [
          "beleza-e-cuidado-pessoal"
         ],
         "xaxis": "x",
         "y": [
          0
         ],
         "yaxis": "y"
        },
        {
         "fillpattern": {
          "shape": ""
         },
         "hovertemplate": "Marca=Trianon<br>Categoria=%{x}<br>Desconto=%{y}<extra></extra>",
         "legendgroup": "Trianon",
         "line": {
          "color": "#19d3f3"
         },
         "marker": {
          "symbol": "circle"
         },
         "mode": "lines",
         "name": "Trianon",
         "orientation": "v",
         "showlegend": true,
         "stackgroup": "1",
         "type": "scatter",
         "x": [
          "beleza-e-cuidado-pessoal",
          "beleza-e-cuidado-pessoal"
         ],
         "xaxis": "x",
         "y": [
          0,
          0
         ],
         "yaxis": "y"
        },
        {
         "fillpattern": {
          "shape": ""
         },
         "hovertemplate": "Marca=Agrosano<br>Categoria=%{x}<br>Desconto=%{y}<extra></extra>",
         "legendgroup": "Agrosano",
         "line": {
          "color": "#FF6692"
         },
         "marker": {
          "symbol": "circle"
         },
         "mode": "lines",
         "name": "Agrosano",
         "orientation": "v",
         "showlegend": true,
         "stackgroup": "1",
         "type": "scatter",
         "x": [
          "verduras",
          "verduras"
         ],
         "xaxis": "x",
         "y": [
          0,
          0
         ],
         "yaxis": "y"
        },
        {
         "fillpattern": {
          "shape": ""
         },
         "hovertemplate": "Marca=Giselle<br>Categoria=%{x}<br>Desconto=%{y}<extra></extra>",
         "legendgroup": "Giselle",
         "line": {
          "color": "#B6E880"
         },
         "marker": {
          "symbol": "circle"
         },
         "mode": "lines",
         "name": "Giselle",
         "orientation": "v",
         "showlegend": true,
         "stackgroup": "1",
         "type": "scatter",
         "x": [
          "beleza-e-cuidado-pessoal"
         ],
         "xaxis": "x",
         "y": [
          0
         ],
         "yaxis": "y"
        },
        {
         "fillpattern": {
          "shape": ""
         },
         "hovertemplate": "Marca=Rock<br>Categoria=%{x}<br>Desconto=%{y}<extra></extra>",
         "legendgroup": "Rock",
         "line": {
          "color": "#FF97FF"
         },
         "marker": {
          "symbol": "circle"
         },
         "mode": "lines",
         "name": "Rock",
         "orientation": "v",
         "showlegend": true,
         "stackgroup": "1",
         "type": "scatter",
         "x": [
          "congelados"
         ],
         "xaxis": "x",
         "y": [
          0
         ],
         "yaxis": "y"
        },
        {
         "fillpattern": {
          "shape": ""
         },
         "hovertemplate": "Marca=Fiesta<br>Categoria=%{x}<br>Desconto=%{y}<extra></extra>",
         "legendgroup": "Fiesta",
         "line": {
          "color": "#FECB52"
         },
         "marker": {
          "symbol": "circle"
         },
         "mode": "lines",
         "name": "Fiesta",
         "orientation": "v",
         "showlegend": true,
         "stackgroup": "1",
         "type": "scatter",
         "x": [
          "congelados"
         ],
         "xaxis": "x",
         "y": [
          0
         ],
         "yaxis": "y"
        },
        {
         "fillpattern": {
          "shape": ""
         },
         "hovertemplate": "Marca=Hoffmann<br>Categoria=%{x}<br>Desconto=%{y}<extra></extra>",
         "legendgroup": "Hoffmann",
         "line": {
          "color": "#636efa"
         },
         "marker": {
          "symbol": "circle"
         },
         "mode": "lines",
         "name": "Hoffmann",
         "orientation": "v",
         "showlegend": true,
         "stackgroup": "1",
         "type": "scatter",
         "x": [
          "instantaneo-e-sopas",
          "instantaneo-e-sopas"
         ],
         "xaxis": "x",
         "y": [
          0,
          0
         ],
         "yaxis": "y"
        },
        {
         "fillpattern": {
          "shape": ""
         },
         "hovertemplate": "Marca=Deline<br>Categoria=%{x}<br>Desconto=%{y}<extra></extra>",
         "legendgroup": "Deline",
         "line": {
          "color": "#EF553B"
         },
         "marker": {
          "symbol": "circle"
         },
         "mode": "lines",
         "name": "Deline",
         "orientation": "v",
         "showlegend": true,
         "stackgroup": "1",
         "type": "scatter",
         "x": [
          "laticinios"
         ],
         "xaxis": "x",
         "y": [
          0
         ],
         "yaxis": "y"
        },
        {
         "fillpattern": {
          "shape": ""
         },
         "hovertemplate": "Marca=Astra<br>Categoria=%{x}<br>Desconto=%{y}<extra></extra>",
         "legendgroup": "Astra",
         "line": {
          "color": "#00cc96"
         },
         "marker": {
          "symbol": "circle"
         },
         "mode": "lines",
         "name": "Astra",
         "orientation": "v",
         "showlegend": true,
         "stackgroup": "1",
         "type": "scatter",
         "x": [
          "laticinios"
         ],
         "xaxis": "x",
         "y": [
          0
         ],
         "yaxis": "y"
        },
        {
         "fillpattern": {
          "shape": ""
         },
         "hovertemplate": "Marca=King<br>Categoria=%{x}<br>Desconto=%{y}<extra></extra>",
         "legendgroup": "King",
         "line": {
          "color": "#ab63fa"
         },
         "marker": {
          "symbol": "circle"
         },
         "mode": "lines",
         "name": "King",
         "orientation": "v",
         "showlegend": true,
         "stackgroup": "1",
         "type": "scatter",
         "x": [
          "congelados",
          "congelados"
         ],
         "xaxis": "x",
         "y": [
          0,
          0
         ],
         "yaxis": "y"
        },
        {
         "fillpattern": {
          "shape": ""
         },
         "hovertemplate": "Marca=Crucina<br>Categoria=%{x}<br>Desconto=%{y}<extra></extra>",
         "legendgroup": "Crucina",
         "line": {
          "color": "#FFA15A"
         },
         "marker": {
          "symbol": "circle"
         },
         "mode": "lines",
         "name": "Crucina",
         "orientation": "v",
         "showlegend": true,
         "stackgroup": "1",
         "type": "scatter",
         "x": [
          "laticinios"
         ],
         "xaxis": "x",
         "y": [
          0
         ],
         "yaxis": "y"
        },
        {
         "fillpattern": {
          "shape": ""
         },
         "hovertemplate": "Marca=Not Chicken<br>Categoria=%{x}<br>Desconto=%{y}<extra></extra>",
         "legendgroup": "Not Chicken",
         "line": {
          "color": "#19d3f3"
         },
         "marker": {
          "symbol": "circle"
         },
         "mode": "lines",
         "name": "Not Chicken",
         "orientation": "v",
         "showlegend": true,
         "stackgroup": "1",
         "type": "scatter",
         "x": [
          "congelados"
         ],
         "xaxis": "x",
         "y": [
          0
         ],
         "yaxis": "y"
        },
        {
         "fillpattern": {
          "shape": ""
         },
         "hovertemplate": "Marca=Next<br>Categoria=%{x}<br>Desconto=%{y}<extra></extra>",
         "legendgroup": "Next",
         "line": {
          "color": "#FF6692"
         },
         "marker": {
          "symbol": "circle"
         },
         "mode": "lines",
         "name": "Next",
         "orientation": "v",
         "showlegend": true,
         "stackgroup": "1",
         "type": "scatter",
         "x": [
          "laticinios",
          "laticinios",
          "laticinios",
          "laticinios"
         ],
         "xaxis": "x",
         "y": [
          0,
          0,
          0,
          0
         ],
         "yaxis": "y"
        },
        {
         "fillpattern": {
          "shape": ""
         },
         "hovertemplate": "Marca=Carozzi<br>Categoria=%{x}<br>Desconto=%{y}<extra></extra>",
         "legendgroup": "Carozzi",
         "line": {
          "color": "#B6E880"
         },
         "marker": {
          "symbol": "circle"
         },
         "mode": "lines",
         "name": "Carozzi",
         "orientation": "v",
         "showlegend": true,
         "stackgroup": "1",
         "type": "scatter",
         "x": [
          "instantaneo-e-sopas"
         ],
         "xaxis": "x",
         "y": [
          0
         ],
         "yaxis": "y"
        },
        {
         "fillpattern": {
          "shape": ""
         },
         "hovertemplate": "Marca=Naturezza<br>Categoria=%{x}<br>Desconto=%{y}<extra></extra>",
         "legendgroup": "Naturezza",
         "line": {
          "color": "#FF97FF"
         },
         "marker": {
          "symbol": "circle"
         },
         "mode": "lines",
         "name": "Naturezza",
         "orientation": "v",
         "showlegend": true,
         "stackgroup": "1",
         "type": "scatter",
         "x": [
          "instantaneo-e-sopas",
          "instantaneo-e-sopas",
          "instantaneo-e-sopas",
          "instantaneo-e-sopas",
          "instantaneo-e-sopas",
          "instantaneo-e-sopas",
          "instantaneo-e-sopas"
         ],
         "xaxis": "x",
         "y": [
          0,
          0,
          0,
          0,
          0,
          0,
          0
         ],
         "yaxis": "y"
        },
        {
         "fillpattern": {
          "shape": ""
         },
         "hovertemplate": "Marca=Frutas Y Verduras Santa Isabel<br>Categoria=%{x}<br>Desconto=%{y}<extra></extra>",
         "legendgroup": "Frutas Y Verduras Santa Isabel",
         "line": {
          "color": "#FECB52"
         },
         "marker": {
          "symbol": "circle"
         },
         "mode": "lines",
         "name": "Frutas Y Verduras Santa Isabel",
         "orientation": "v",
         "showlegend": true,
         "stackgroup": "1",
         "type": "scatter",
         "x": [
          "frutas"
         ],
         "xaxis": "x",
         "y": [
          0
         ],
         "yaxis": "y"
        },
        {
         "fillpattern": {
          "shape": ""
         },
         "hovertemplate": "Marca=Copacabana<br>Categoria=%{x}<br>Desconto=%{y}<extra></extra>",
         "legendgroup": "Copacabana",
         "line": {
          "color": "#636efa"
         },
         "marker": {
          "symbol": "circle"
         },
         "mode": "lines",
         "name": "Copacabana",
         "orientation": "v",
         "showlegend": true,
         "stackgroup": "1",
         "type": "scatter",
         "x": [
          "laticinios"
         ],
         "xaxis": "x",
         "y": [
          0
         ],
         "yaxis": "y"
        },
        {
         "fillpattern": {
          "shape": ""
         },
         "hovertemplate": "Marca=Super Cerdo<br>Categoria=%{x}<br>Desconto=%{y}<extra></extra>",
         "legendgroup": "Super Cerdo",
         "line": {
          "color": "#EF553B"
         },
         "marker": {
          "symbol": "circle"
         },
         "mode": "lines",
         "name": "Super Cerdo",
         "orientation": "v",
         "showlegend": true,
         "stackgroup": "1",
         "type": "scatter",
         "x": [
          "congelados"
         ],
         "xaxis": "x",
         "y": [
          0
         ],
         "yaxis": "y"
        },
        {
         "fillpattern": {
          "shape": ""
         },
         "hovertemplate": "Marca=Mister Veggie<br>Categoria=%{x}<br>Desconto=%{y}<extra></extra>",
         "legendgroup": "Mister Veggie",
         "line": {
          "color": "#00cc96"
         },
         "marker": {
          "symbol": "circle"
         },
         "mode": "lines",
         "name": "Mister Veggie",
         "orientation": "v",
         "showlegend": true,
         "stackgroup": "1",
         "type": "scatter",
         "x": [
          "congelados",
          "congelados",
          "congelados"
         ],
         "xaxis": "x",
         "y": [
          0,
          0,
          0
         ],
         "yaxis": "y"
        },
        {
         "fillpattern": {
          "shape": ""
         },
         "hovertemplate": "Marca=Marco Polo<br>Categoria=%{x}<br>Desconto=%{y}<extra></extra>",
         "legendgroup": "Marco Polo",
         "line": {
          "color": "#ab63fa"
         },
         "marker": {
          "symbol": "circle"
         },
         "mode": "lines",
         "name": "Marco Polo",
         "orientation": "v",
         "showlegend": true,
         "stackgroup": "1",
         "type": "scatter",
         "x": [
          "laticinios"
         ],
         "xaxis": "x",
         "y": [
          0
         ],
         "yaxis": "y"
        },
        {
         "fillpattern": {
          "shape": ""
         },
         "hovertemplate": "Marca=Gourmet<br>Categoria=%{x}<br>Desconto=%{y}<extra></extra>",
         "legendgroup": "Gourmet",
         "line": {
          "color": "#FFA15A"
         },
         "marker": {
          "symbol": "circle"
         },
         "mode": "lines",
         "name": "Gourmet",
         "orientation": "v",
         "showlegend": true,
         "stackgroup": "1",
         "type": "scatter",
         "x": [
          "instantaneo-e-sopas",
          "instantaneo-e-sopas",
          "instantaneo-e-sopas",
          "instantaneo-e-sopas"
         ],
         "xaxis": "x",
         "y": [
          0,
          0,
          0,
          0
         ],
         "yaxis": "y"
        },
        {
         "fillpattern": {
          "shape": ""
         },
         "hovertemplate": "Marca=Oikos<br>Categoria=%{x}<br>Desconto=%{y}<extra></extra>",
         "legendgroup": "Oikos",
         "line": {
          "color": "#19d3f3"
         },
         "marker": {
          "symbol": "circle"
         },
         "mode": "lines",
         "name": "Oikos",
         "orientation": "v",
         "showlegend": true,
         "stackgroup": "1",
         "type": "scatter",
         "x": [
          "laticinios",
          "laticinios",
          "laticinios",
          "laticinios",
          "laticinios",
          "laticinios",
          "laticinios",
          "laticinios",
          "laticinios"
         ],
         "xaxis": "x",
         "y": [
          0,
          0,
          0,
          0,
          0,
          0,
          0,
          0,
          0
         ],
         "yaxis": "y"
        },
        {
         "fillpattern": {
          "shape": ""
         },
         "hovertemplate": "Marca=Collico<br>Categoria=%{x}<br>Desconto=%{y}<extra></extra>",
         "legendgroup": "Collico",
         "line": {
          "color": "#FF6692"
         },
         "marker": {
          "symbol": "circle"
         },
         "mode": "lines",
         "name": "Collico",
         "orientation": "v",
         "showlegend": true,
         "stackgroup": "1",
         "type": "scatter",
         "x": [
          "laticinios"
         ],
         "xaxis": "x",
         "y": [
          0
         ],
         "yaxis": "y"
        },
        {
         "fillpattern": {
          "shape": ""
         },
         "hovertemplate": "Marca=Cotidian<br>Categoria=%{x}<br>Desconto=%{y}<extra></extra>",
         "legendgroup": "Cotidian",
         "line": {
          "color": "#B6E880"
         },
         "marker": {
          "symbol": "circle"
         },
         "mode": "lines",
         "name": "Cotidian",
         "orientation": "v",
         "showlegend": true,
         "stackgroup": "1",
         "type": "scatter",
         "x": [
          "beleza-e-cuidado-pessoal",
          "beleza-e-cuidado-pessoal"
         ],
         "xaxis": "x",
         "y": [
          0,
          0
         ],
         "yaxis": "y"
        },
        {
         "fillpattern": {
          "shape": ""
         },
         "hovertemplate": "Marca=Tío Nacho<br>Categoria=%{x}<br>Desconto=%{y}<extra></extra>",
         "legendgroup": "Tío Nacho",
         "line": {
          "color": "#FF97FF"
         },
         "marker": {
          "symbol": "circle"
         },
         "mode": "lines",
         "name": "Tío Nacho",
         "orientation": "v",
         "showlegend": true,
         "stackgroup": "1",
         "type": "scatter",
         "x": [
          "beleza-e-cuidado-pessoal",
          "beleza-e-cuidado-pessoal"
         ],
         "xaxis": "x",
         "y": [
          0,
          0
         ],
         "yaxis": "y"
        },
        {
         "fillpattern": {
          "shape": ""
         },
         "hovertemplate": "Marca=Herbal Essences<br>Categoria=%{x}<br>Desconto=%{y}<extra></extra>",
         "legendgroup": "Herbal Essences",
         "line": {
          "color": "#FECB52"
         },
         "marker": {
          "symbol": "circle"
         },
         "mode": "lines",
         "name": "Herbal Essences",
         "orientation": "v",
         "showlegend": true,
         "stackgroup": "1",
         "type": "scatter",
         "x": [
          "beleza-e-cuidado-pessoal",
          "beleza-e-cuidado-pessoal",
          "beleza-e-cuidado-pessoal"
         ],
         "xaxis": "x",
         "y": [
          0,
          0,
          0
         ],
         "yaxis": "y"
        },
        {
         "fillpattern": {
          "shape": ""
         },
         "hovertemplate": "Marca=Not Ice Cream<br>Categoria=%{x}<br>Desconto=%{y}<extra></extra>",
         "legendgroup": "Not Ice Cream",
         "line": {
          "color": "#636efa"
         },
         "marker": {
          "symbol": "circle"
         },
         "mode": "lines",
         "name": "Not Ice Cream",
         "orientation": "v",
         "showlegend": true,
         "stackgroup": "1",
         "type": "scatter",
         "x": [
          "congelados",
          "congelados",
          "congelados",
          "congelados",
          "congelados",
          "congelados"
         ],
         "xaxis": "x",
         "y": [
          0,
          0,
          0,
          0,
          0,
          0
         ],
         "yaxis": "y"
        },
        {
         "fillpattern": {
          "shape": ""
         },
         "hovertemplate": "Marca=Sedal<br>Categoria=%{x}<br>Desconto=%{y}<extra></extra>",
         "legendgroup": "Sedal",
         "line": {
          "color": "#EF553B"
         },
         "marker": {
          "symbol": "circle"
         },
         "mode": "lines",
         "name": "Sedal",
         "orientation": "v",
         "showlegend": true,
         "stackgroup": "1",
         "type": "scatter",
         "x": [
          "beleza-e-cuidado-pessoal",
          "beleza-e-cuidado-pessoal",
          "beleza-e-cuidado-pessoal"
         ],
         "xaxis": "x",
         "y": [
          0,
          0,
          0
         ],
         "yaxis": "y"
        },
        {
         "fillpattern": {
          "shape": ""
         },
         "hovertemplate": "Marca=Vanart<br>Categoria=%{x}<br>Desconto=%{y}<extra></extra>",
         "legendgroup": "Vanart",
         "line": {
          "color": "#00cc96"
         },
         "marker": {
          "symbol": "circle"
         },
         "mode": "lines",
         "name": "Vanart",
         "orientation": "v",
         "showlegend": true,
         "stackgroup": "1",
         "type": "scatter",
         "x": [
          "beleza-e-cuidado-pessoal",
          "beleza-e-cuidado-pessoal",
          "beleza-e-cuidado-pessoal"
         ],
         "xaxis": "x",
         "y": [
          0,
          0,
          0
         ],
         "yaxis": "y"
        },
        {
         "fillpattern": {
          "shape": ""
         },
         "hovertemplate": "Marca=Nivea For Men<br>Categoria=%{x}<br>Desconto=%{y}<extra></extra>",
         "legendgroup": "Nivea For Men",
         "line": {
          "color": "#ab63fa"
         },
         "marker": {
          "symbol": "circle"
         },
         "mode": "lines",
         "name": "Nivea For Men",
         "orientation": "v",
         "showlegend": true,
         "stackgroup": "1",
         "type": "scatter",
         "x": [
          "beleza-e-cuidado-pessoal"
         ],
         "xaxis": "x",
         "y": [
          0
         ],
         "yaxis": "y"
        },
        {
         "fillpattern": {
          "shape": ""
         },
         "hovertemplate": "Marca=Elite<br>Categoria=%{x}<br>Desconto=%{y}<extra></extra>",
         "legendgroup": "Elite",
         "line": {
          "color": "#FFA15A"
         },
         "marker": {
          "symbol": "circle"
         },
         "mode": "lines",
         "name": "Elite",
         "orientation": "v",
         "showlegend": true,
         "stackgroup": "1",
         "type": "scatter",
         "x": [
          "beleza-e-cuidado-pessoal",
          "beleza-e-cuidado-pessoal",
          "beleza-e-cuidado-pessoal"
         ],
         "xaxis": "x",
         "y": [
          0,
          0,
          0
         ],
         "yaxis": "y"
        },
        {
         "fillpattern": {
          "shape": ""
         },
         "hovertemplate": "Marca=1+1 Soprole<br>Categoria=%{x}<br>Desconto=%{y}<extra></extra>",
         "legendgroup": "1+1 Soprole",
         "line": {
          "color": "#19d3f3"
         },
         "marker": {
          "symbol": "circle"
         },
         "mode": "lines",
         "name": "1+1 Soprole",
         "orientation": "v",
         "showlegend": true,
         "stackgroup": "1",
         "type": "scatter",
         "x": [
          "laticinios"
         ],
         "xaxis": "x",
         "y": [
          0
         ],
         "yaxis": "y"
        },
        {
         "fillpattern": {
          "shape": ""
         },
         "hovertemplate": "Marca=Herbal<br>Categoria=%{x}<br>Desconto=%{y}<extra></extra>",
         "legendgroup": "Herbal",
         "line": {
          "color": "#FF6692"
         },
         "marker": {
          "symbol": "circle"
         },
         "mode": "lines",
         "name": "Herbal",
         "orientation": "v",
         "showlegend": true,
         "stackgroup": "1",
         "type": "scatter",
         "x": [
          "beleza-e-cuidado-pessoal"
         ],
         "xaxis": "x",
         "y": [
          0
         ],
         "yaxis": "y"
        },
        {
         "fillpattern": {
          "shape": ""
         },
         "hovertemplate": "Marca=Sensodyne<br>Categoria=%{x}<br>Desconto=%{y}<extra></extra>",
         "legendgroup": "Sensodyne",
         "line": {
          "color": "#B6E880"
         },
         "marker": {
          "symbol": "circle"
         },
         "mode": "lines",
         "name": "Sensodyne",
         "orientation": "v",
         "showlegend": true,
         "stackgroup": "1",
         "type": "scatter",
         "x": [
          "beleza-e-cuidado-pessoal"
         ],
         "xaxis": "x",
         "y": [
          0
         ],
         "yaxis": "y"
        },
        {
         "fillpattern": {
          "shape": ""
         },
         "hovertemplate": "Marca=Carte Dor<br>Categoria=%{x}<br>Desconto=%{y}<extra></extra>",
         "legendgroup": "Carte Dor",
         "line": {
          "color": "#FF97FF"
         },
         "marker": {
          "symbol": "circle"
         },
         "mode": "lines",
         "name": "Carte Dor",
         "orientation": "v",
         "showlegend": true,
         "stackgroup": "1",
         "type": "scatter",
         "x": [
          "congelados",
          "congelados"
         ],
         "xaxis": "x",
         "y": [
          0,
          715
         ],
         "yaxis": "y"
        },
        {
         "fillpattern": {
          "shape": ""
         },
         "hovertemplate": "Marca=Soprole Activ<br>Categoria=%{x}<br>Desconto=%{y}<extra></extra>",
         "legendgroup": "Soprole Activ",
         "line": {
          "color": "#FECB52"
         },
         "marker": {
          "symbol": "circle"
         },
         "mode": "lines",
         "name": "Soprole Activ",
         "orientation": "v",
         "showlegend": true,
         "stackgroup": "1",
         "type": "scatter",
         "x": [
          "laticinios",
          "laticinios",
          "laticinios"
         ],
         "xaxis": "x",
         "y": [
          0,
          0,
          0
         ],
         "yaxis": "y"
        },
        {
         "fillpattern": {
          "shape": ""
         },
         "hovertemplate": "Marca=Dole<br>Categoria=%{x}<br>Desconto=%{y}<extra></extra>",
         "legendgroup": "Dole",
         "line": {
          "color": "#636efa"
         },
         "marker": {
          "symbol": "circle"
         },
         "mode": "lines",
         "name": "Dole",
         "orientation": "v",
         "showlegend": true,
         "stackgroup": "1",
         "type": "scatter",
         "x": [
          "verduras",
          "verduras",
          "verduras"
         ],
         "xaxis": "x",
         "y": [
          0,
          0,
          0
         ],
         "yaxis": "y"
        },
        {
         "fillpattern": {
          "shape": ""
         },
         "hovertemplate": "Marca=Traverso<br>Categoria=%{x}<br>Desconto=%{y}<extra></extra>",
         "legendgroup": "Traverso",
         "line": {
          "color": "#EF553B"
         },
         "marker": {
          "symbol": "circle"
         },
         "mode": "lines",
         "name": "Traverso",
         "orientation": "v",
         "showlegend": true,
         "stackgroup": "1",
         "type": "scatter",
         "x": [
          "instantaneo-e-sopas",
          "instantaneo-e-sopas"
         ],
         "xaxis": "x",
         "y": [
          0,
          0
         ],
         "yaxis": "y"
        },
        {
         "fillpattern": {
          "shape": ""
         },
         "hovertemplate": "Marca=Super Beef<br>Categoria=%{x}<br>Desconto=%{y}<extra></extra>",
         "legendgroup": "Super Beef",
         "line": {
          "color": "#00cc96"
         },
         "marker": {
          "symbol": "circle"
         },
         "mode": "lines",
         "name": "Super Beef",
         "orientation": "v",
         "showlegend": true,
         "stackgroup": "1",
         "type": "scatter",
         "x": [
          "congelados"
         ],
         "xaxis": "x",
         "y": [
          120
         ],
         "yaxis": "y"
        },
        {
         "fillpattern": {
          "shape": ""
         },
         "hovertemplate": "Marca=Not Milk<br>Categoria=%{x}<br>Desconto=%{y}<extra></extra>",
         "legendgroup": "Not Milk",
         "line": {
          "color": "#ab63fa"
         },
         "marker": {
          "symbol": "circle"
         },
         "mode": "lines",
         "name": "Not Milk",
         "orientation": "v",
         "showlegend": true,
         "stackgroup": "1",
         "type": "scatter",
         "x": [
          "laticinios"
         ],
         "xaxis": "x",
         "y": [
          160
         ],
         "yaxis": "y"
        },
        {
         "fillpattern": {
          "shape": ""
         },
         "hovertemplate": "Marca=Not Burger<br>Categoria=%{x}<br>Desconto=%{y}<extra></extra>",
         "legendgroup": "Not Burger",
         "line": {
          "color": "#FFA15A"
         },
         "marker": {
          "symbol": "circle"
         },
         "mode": "lines",
         "name": "Not Burger",
         "orientation": "v",
         "showlegend": true,
         "stackgroup": "1",
         "type": "scatter",
         "x": [
          "congelados"
         ],
         "xaxis": "x",
         "y": [
          210
         ],
         "yaxis": "y"
        },
        {
         "fillpattern": {
          "shape": ""
         },
         "hovertemplate": "Marca=Simonds<br>Categoria=%{x}<br>Desconto=%{y}<extra></extra>",
         "legendgroup": "Simonds",
         "line": {
          "color": "#19d3f3"
         },
         "marker": {
          "symbol": "circle"
         },
         "mode": "lines",
         "name": "Simonds",
         "orientation": "v",
         "showlegend": true,
         "stackgroup": "1",
         "type": "scatter",
         "x": [
          "beleza-e-cuidado-pessoal"
         ],
         "xaxis": "x",
         "y": [
          300
         ],
         "yaxis": "y"
        },
        {
         "fillpattern": {
          "shape": ""
         },
         "hovertemplate": "Marca=Viennetta Bresler<br>Categoria=%{x}<br>Desconto=%{y}<extra></extra>",
         "legendgroup": "Viennetta Bresler",
         "line": {
          "color": "#FF6692"
         },
         "marker": {
          "symbol": "circle"
         },
         "mode": "lines",
         "name": "Viennetta Bresler",
         "orientation": "v",
         "showlegend": true,
         "stackgroup": "1",
         "type": "scatter",
         "x": [
          "congelados",
          "congelados",
          "congelados"
         ],
         "xaxis": "x",
         "y": [
          546,
          546,
          546
         ],
         "yaxis": "y"
        },
        {
         "fillpattern": {
          "shape": ""
         },
         "hovertemplate": "Marca=Axe<br>Categoria=%{x}<br>Desconto=%{y}<extra></extra>",
         "legendgroup": "Axe",
         "line": {
          "color": "#B6E880"
         },
         "marker": {
          "symbol": "circle"
         },
         "mode": "lines",
         "name": "Axe",
         "orientation": "v",
         "showlegend": true,
         "stackgroup": "1",
         "type": "scatter",
         "x": [
          "beleza-e-cuidado-pessoal"
         ],
         "xaxis": "x",
         "y": [
          590
         ],
         "yaxis": "y"
        },
        {
         "fillpattern": {
          "shape": ""
         },
         "hovertemplate": "Marca=BiO<br>Categoria=%{x}<br>Desconto=%{y}<extra></extra>",
         "legendgroup": "BiO",
         "line": {
          "color": "#FF97FF"
         },
         "marker": {
          "symbol": "circle"
         },
         "mode": "lines",
         "name": "BiO",
         "orientation": "v",
         "showlegend": true,
         "stackgroup": "1",
         "type": "scatter",
         "x": [
          "beleza-e-cuidado-pessoal",
          "beleza-e-cuidado-pessoal",
          "beleza-e-cuidado-pessoal",
          "beleza-e-cuidado-pessoal"
         ],
         "xaxis": "x",
         "y": [
          650,
          650,
          650,
          650
         ],
         "yaxis": "y"
        },
        {
         "fillpattern": {
          "shape": ""
         },
         "hovertemplate": "Marca=Mega<br>Categoria=%{x}<br>Desconto=%{y}<extra></extra>",
         "legendgroup": "Mega",
         "line": {
          "color": "#FECB52"
         },
         "marker": {
          "symbol": "circle"
         },
         "mode": "lines",
         "name": "Mega",
         "orientation": "v",
         "showlegend": true,
         "stackgroup": "1",
         "type": "scatter",
         "x": [
          "congelados"
         ],
         "xaxis": "x",
         "y": [
          657
         ],
         "yaxis": "y"
        },
        {
         "fillpattern": {
          "shape": ""
         },
         "hovertemplate": "Marca=Rexona<br>Categoria=%{x}<br>Desconto=%{y}<extra></extra>",
         "legendgroup": "Rexona",
         "line": {
          "color": "#636efa"
         },
         "marker": {
          "symbol": "circle"
         },
         "mode": "lines",
         "name": "Rexona",
         "orientation": "v",
         "showlegend": true,
         "stackgroup": "1",
         "type": "scatter",
         "x": [
          "beleza-e-cuidado-pessoal"
         ],
         "xaxis": "x",
         "y": [
          660
         ],
         "yaxis": "y"
        },
        {
         "fillpattern": {
          "shape": ""
         },
         "hovertemplate": "Marca=Rexona Men<br>Categoria=%{x}<br>Desconto=%{y}<extra></extra>",
         "legendgroup": "Rexona Men",
         "line": {
          "color": "#EF553B"
         },
         "marker": {
          "symbol": "circle"
         },
         "mode": "lines",
         "name": "Rexona Men",
         "orientation": "v",
         "showlegend": true,
         "stackgroup": "1",
         "type": "scatter",
         "x": [
          "beleza-e-cuidado-pessoal"
         ],
         "xaxis": "x",
         "y": [
          660
         ],
         "yaxis": "y"
        },
        {
         "fillpattern": {
          "shape": ""
         },
         "hovertemplate": "Marca=Rexona Clinical<br>Categoria=%{x}<br>Desconto=%{y}<extra></extra>",
         "legendgroup": "Rexona Clinical",
         "line": {
          "color": "#00cc96"
         },
         "marker": {
          "symbol": "circle"
         },
         "mode": "lines",
         "name": "Rexona Clinical",
         "orientation": "v",
         "showlegend": true,
         "stackgroup": "1",
         "type": "scatter",
         "x": [
          "beleza-e-cuidado-pessoal",
          "beleza-e-cuidado-pessoal"
         ],
         "xaxis": "x",
         "y": [
          795,
          795
         ],
         "yaxis": "y"
        },
        {
         "fillpattern": {
          "shape": ""
         },
         "hovertemplate": "Marca=Rexona Men Clinical<br>Categoria=%{x}<br>Desconto=%{y}<extra></extra>",
         "legendgroup": "Rexona Men Clinical",
         "line": {
          "color": "#ab63fa"
         },
         "marker": {
          "symbol": "circle"
         },
         "mode": "lines",
         "name": "Rexona Men Clinical",
         "orientation": "v",
         "showlegend": true,
         "stackgroup": "1",
         "type": "scatter",
         "x": [
          "beleza-e-cuidado-pessoal"
         ],
         "xaxis": "x",
         "y": [
          795
         ],
         "yaxis": "y"
        },
        {
         "fillpattern": {
          "shape": ""
         },
         "hovertemplate": "Marca=Oral Fresh<br>Categoria=%{x}<br>Desconto=%{y}<extra></extra>",
         "legendgroup": "Oral Fresh",
         "line": {
          "color": "#FFA15A"
         },
         "marker": {
          "symbol": "circle"
         },
         "mode": "lines",
         "name": "Oral Fresh",
         "orientation": "v",
         "showlegend": true,
         "stackgroup": "1",
         "type": "scatter",
         "x": [
          "beleza-e-cuidado-pessoal"
         ],
         "xaxis": "x",
         "y": [
          797
         ],
         "yaxis": "y"
        },
        {
         "fillpattern": {
          "shape": ""
         },
         "hovertemplate": "Marca=Magnum<br>Categoria=%{x}<br>Desconto=%{y}<extra></extra>",
         "legendgroup": "Magnum",
         "line": {
          "color": "#19d3f3"
         },
         "marker": {
          "symbol": "circle"
         },
         "mode": "lines",
         "name": "Magnum",
         "orientation": "v",
         "showlegend": true,
         "stackgroup": "1",
         "type": "scatter",
         "x": [
          "congelados",
          "congelados",
          "congelados",
          "congelados"
         ],
         "xaxis": "x",
         "y": [
          840,
          840,
          1070,
          1070
         ],
         "yaxis": "y"
        }
       ],
       "layout": {
        "autosize": true,
        "legend": {
         "title": {
          "text": "Marca"
         },
         "tracegroupgap": 0
        },
        "margin": {
         "t": 60
        },
        "template": {
         "data": {
          "bar": [
           {
            "error_x": {
             "color": "#2a3f5f"
            },
            "error_y": {
             "color": "#2a3f5f"
            },
            "marker": {
             "line": {
              "color": "#E5ECF6",
              "width": 0.5
             },
             "pattern": {
              "fillmode": "overlay",
              "size": 10,
              "solidity": 0.2
             }
            },
            "type": "bar"
           }
          ],
          "barpolar": [
           {
            "marker": {
             "line": {
              "color": "#E5ECF6",
              "width": 0.5
             },
             "pattern": {
              "fillmode": "overlay",
              "size": 10,
              "solidity": 0.2
             }
            },
            "type": "barpolar"
           }
          ],
          "carpet": [
           {
            "aaxis": {
             "endlinecolor": "#2a3f5f",
             "gridcolor": "white",
             "linecolor": "white",
             "minorgridcolor": "white",
             "startlinecolor": "#2a3f5f"
            },
            "baxis": {
             "endlinecolor": "#2a3f5f",
             "gridcolor": "white",
             "linecolor": "white",
             "minorgridcolor": "white",
             "startlinecolor": "#2a3f5f"
            },
            "type": "carpet"
           }
          ],
          "choropleth": [
           {
            "colorbar": {
             "outlinewidth": 0,
             "ticks": ""
            },
            "type": "choropleth"
           }
          ],
          "contour": [
           {
            "colorbar": {
             "outlinewidth": 0,
             "ticks": ""
            },
            "colorscale": [
             [
              0,
              "#0d0887"
             ],
             [
              0.1111111111111111,
              "#46039f"
             ],
             [
              0.2222222222222222,
              "#7201a8"
             ],
             [
              0.3333333333333333,
              "#9c179e"
             ],
             [
              0.4444444444444444,
              "#bd3786"
             ],
             [
              0.5555555555555556,
              "#d8576b"
             ],
             [
              0.6666666666666666,
              "#ed7953"
             ],
             [
              0.7777777777777778,
              "#fb9f3a"
             ],
             [
              0.8888888888888888,
              "#fdca26"
             ],
             [
              1,
              "#f0f921"
             ]
            ],
            "type": "contour"
           }
          ],
          "contourcarpet": [
           {
            "colorbar": {
             "outlinewidth": 0,
             "ticks": ""
            },
            "type": "contourcarpet"
           }
          ],
          "heatmap": [
           {
            "colorbar": {
             "outlinewidth": 0,
             "ticks": ""
            },
            "colorscale": [
             [
              0,
              "#0d0887"
             ],
             [
              0.1111111111111111,
              "#46039f"
             ],
             [
              0.2222222222222222,
              "#7201a8"
             ],
             [
              0.3333333333333333,
              "#9c179e"
             ],
             [
              0.4444444444444444,
              "#bd3786"
             ],
             [
              0.5555555555555556,
              "#d8576b"
             ],
             [
              0.6666666666666666,
              "#ed7953"
             ],
             [
              0.7777777777777778,
              "#fb9f3a"
             ],
             [
              0.8888888888888888,
              "#fdca26"
             ],
             [
              1,
              "#f0f921"
             ]
            ],
            "type": "heatmap"
           }
          ],
          "heatmapgl": [
           {
            "colorbar": {
             "outlinewidth": 0,
             "ticks": ""
            },
            "colorscale": [
             [
              0,
              "#0d0887"
             ],
             [
              0.1111111111111111,
              "#46039f"
             ],
             [
              0.2222222222222222,
              "#7201a8"
             ],
             [
              0.3333333333333333,
              "#9c179e"
             ],
             [
              0.4444444444444444,
              "#bd3786"
             ],
             [
              0.5555555555555556,
              "#d8576b"
             ],
             [
              0.6666666666666666,
              "#ed7953"
             ],
             [
              0.7777777777777778,
              "#fb9f3a"
             ],
             [
              0.8888888888888888,
              "#fdca26"
             ],
             [
              1,
              "#f0f921"
             ]
            ],
            "type": "heatmapgl"
           }
          ],
          "histogram": [
           {
            "marker": {
             "pattern": {
              "fillmode": "overlay",
              "size": 10,
              "solidity": 0.2
             }
            },
            "type": "histogram"
           }
          ],
          "histogram2d": [
           {
            "colorbar": {
             "outlinewidth": 0,
             "ticks": ""
            },
            "colorscale": [
             [
              0,
              "#0d0887"
             ],
             [
              0.1111111111111111,
              "#46039f"
             ],
             [
              0.2222222222222222,
              "#7201a8"
             ],
             [
              0.3333333333333333,
              "#9c179e"
             ],
             [
              0.4444444444444444,
              "#bd3786"
             ],
             [
              0.5555555555555556,
              "#d8576b"
             ],
             [
              0.6666666666666666,
              "#ed7953"
             ],
             [
              0.7777777777777778,
              "#fb9f3a"
             ],
             [
              0.8888888888888888,
              "#fdca26"
             ],
             [
              1,
              "#f0f921"
             ]
            ],
            "type": "histogram2d"
           }
          ],
          "histogram2dcontour": [
           {
            "colorbar": {
             "outlinewidth": 0,
             "ticks": ""
            },
            "colorscale": [
             [
              0,
              "#0d0887"
             ],
             [
              0.1111111111111111,
              "#46039f"
             ],
             [
              0.2222222222222222,
              "#7201a8"
             ],
             [
              0.3333333333333333,
              "#9c179e"
             ],
             [
              0.4444444444444444,
              "#bd3786"
             ],
             [
              0.5555555555555556,
              "#d8576b"
             ],
             [
              0.6666666666666666,
              "#ed7953"
             ],
             [
              0.7777777777777778,
              "#fb9f3a"
             ],
             [
              0.8888888888888888,
              "#fdca26"
             ],
             [
              1,
              "#f0f921"
             ]
            ],
            "type": "histogram2dcontour"
           }
          ],
          "mesh3d": [
           {
            "colorbar": {
             "outlinewidth": 0,
             "ticks": ""
            },
            "type": "mesh3d"
           }
          ],
          "parcoords": [
           {
            "line": {
             "colorbar": {
              "outlinewidth": 0,
              "ticks": ""
             }
            },
            "type": "parcoords"
           }
          ],
          "pie": [
           {
            "automargin": true,
            "type": "pie"
           }
          ],
          "scatter": [
           {
            "fillpattern": {
             "fillmode": "overlay",
             "size": 10,
             "solidity": 0.2
            },
            "type": "scatter"
           }
          ],
          "scatter3d": [
           {
            "line": {
             "colorbar": {
              "outlinewidth": 0,
              "ticks": ""
             }
            },
            "marker": {
             "colorbar": {
              "outlinewidth": 0,
              "ticks": ""
             }
            },
            "type": "scatter3d"
           }
          ],
          "scattercarpet": [
           {
            "marker": {
             "colorbar": {
              "outlinewidth": 0,
              "ticks": ""
             }
            },
            "type": "scattercarpet"
           }
          ],
          "scattergeo": [
           {
            "marker": {
             "colorbar": {
              "outlinewidth": 0,
              "ticks": ""
             }
            },
            "type": "scattergeo"
           }
          ],
          "scattergl": [
           {
            "marker": {
             "colorbar": {
              "outlinewidth": 0,
              "ticks": ""
             }
            },
            "type": "scattergl"
           }
          ],
          "scattermapbox": [
           {
            "marker": {
             "colorbar": {
              "outlinewidth": 0,
              "ticks": ""
             }
            },
            "type": "scattermapbox"
           }
          ],
          "scatterpolar": [
           {
            "marker": {
             "colorbar": {
              "outlinewidth": 0,
              "ticks": ""
             }
            },
            "type": "scatterpolar"
           }
          ],
          "scatterpolargl": [
           {
            "marker": {
             "colorbar": {
              "outlinewidth": 0,
              "ticks": ""
             }
            },
            "type": "scatterpolargl"
           }
          ],
          "scatterternary": [
           {
            "marker": {
             "colorbar": {
              "outlinewidth": 0,
              "ticks": ""
             }
            },
            "type": "scatterternary"
           }
          ],
          "surface": [
           {
            "colorbar": {
             "outlinewidth": 0,
             "ticks": ""
            },
            "colorscale": [
             [
              0,
              "#0d0887"
             ],
             [
              0.1111111111111111,
              "#46039f"
             ],
             [
              0.2222222222222222,
              "#7201a8"
             ],
             [
              0.3333333333333333,
              "#9c179e"
             ],
             [
              0.4444444444444444,
              "#bd3786"
             ],
             [
              0.5555555555555556,
              "#d8576b"
             ],
             [
              0.6666666666666666,
              "#ed7953"
             ],
             [
              0.7777777777777778,
              "#fb9f3a"
             ],
             [
              0.8888888888888888,
              "#fdca26"
             ],
             [
              1,
              "#f0f921"
             ]
            ],
            "type": "surface"
           }
          ],
          "table": [
           {
            "cells": {
             "fill": {
              "color": "#EBF0F8"
             },
             "line": {
              "color": "white"
             }
            },
            "header": {
             "fill": {
              "color": "#C8D4E3"
             },
             "line": {
              "color": "white"
             }
            },
            "type": "table"
           }
          ]
         },
         "layout": {
          "annotationdefaults": {
           "arrowcolor": "#2a3f5f",
           "arrowhead": 0,
           "arrowwidth": 1
          },
          "autotypenumbers": "strict",
          "coloraxis": {
           "colorbar": {
            "outlinewidth": 0,
            "ticks": ""
           }
          },
          "colorscale": {
           "diverging": [
            [
             0,
             "#8e0152"
            ],
            [
             0.1,
             "#c51b7d"
            ],
            [
             0.2,
             "#de77ae"
            ],
            [
             0.3,
             "#f1b6da"
            ],
            [
             0.4,
             "#fde0ef"
            ],
            [
             0.5,
             "#f7f7f7"
            ],
            [
             0.6,
             "#e6f5d0"
            ],
            [
             0.7,
             "#b8e186"
            ],
            [
             0.8,
             "#7fbc41"
            ],
            [
             0.9,
             "#4d9221"
            ],
            [
             1,
             "#276419"
            ]
           ],
           "sequential": [
            [
             0,
             "#0d0887"
            ],
            [
             0.1111111111111111,
             "#46039f"
            ],
            [
             0.2222222222222222,
             "#7201a8"
            ],
            [
             0.3333333333333333,
             "#9c179e"
            ],
            [
             0.4444444444444444,
             "#bd3786"
            ],
            [
             0.5555555555555556,
             "#d8576b"
            ],
            [
             0.6666666666666666,
             "#ed7953"
            ],
            [
             0.7777777777777778,
             "#fb9f3a"
            ],
            [
             0.8888888888888888,
             "#fdca26"
            ],
            [
             1,
             "#f0f921"
            ]
           ],
           "sequentialminus": [
            [
             0,
             "#0d0887"
            ],
            [
             0.1111111111111111,
             "#46039f"
            ],
            [
             0.2222222222222222,
             "#7201a8"
            ],
            [
             0.3333333333333333,
             "#9c179e"
            ],
            [
             0.4444444444444444,
             "#bd3786"
            ],
            [
             0.5555555555555556,
             "#d8576b"
            ],
            [
             0.6666666666666666,
             "#ed7953"
            ],
            [
             0.7777777777777778,
             "#fb9f3a"
            ],
            [
             0.8888888888888888,
             "#fdca26"
            ],
            [
             1,
             "#f0f921"
            ]
           ]
          },
          "colorway": [
           "#636efa",
           "#EF553B",
           "#00cc96",
           "#ab63fa",
           "#FFA15A",
           "#19d3f3",
           "#FF6692",
           "#B6E880",
           "#FF97FF",
           "#FECB52"
          ],
          "font": {
           "color": "#2a3f5f"
          },
          "geo": {
           "bgcolor": "white",
           "lakecolor": "white",
           "landcolor": "#E5ECF6",
           "showlakes": true,
           "showland": true,
           "subunitcolor": "white"
          },
          "hoverlabel": {
           "align": "left"
          },
          "hovermode": "closest",
          "mapbox": {
           "style": "light"
          },
          "paper_bgcolor": "white",
          "plot_bgcolor": "#E5ECF6",
          "polar": {
           "angularaxis": {
            "gridcolor": "white",
            "linecolor": "white",
            "ticks": ""
           },
           "bgcolor": "#E5ECF6",
           "radialaxis": {
            "gridcolor": "white",
            "linecolor": "white",
            "ticks": ""
           }
          },
          "scene": {
           "xaxis": {
            "backgroundcolor": "#E5ECF6",
            "gridcolor": "white",
            "gridwidth": 2,
            "linecolor": "white",
            "showbackground": true,
            "ticks": "",
            "zerolinecolor": "white"
           },
           "yaxis": {
            "backgroundcolor": "#E5ECF6",
            "gridcolor": "white",
            "gridwidth": 2,
            "linecolor": "white",
            "showbackground": true,
            "ticks": "",
            "zerolinecolor": "white"
           },
           "zaxis": {
            "backgroundcolor": "#E5ECF6",
            "gridcolor": "white",
            "gridwidth": 2,
            "linecolor": "white",
            "showbackground": true,
            "ticks": "",
            "zerolinecolor": "white"
           }
          },
          "shapedefaults": {
           "line": {
            "color": "#2a3f5f"
           }
          },
          "ternary": {
           "aaxis": {
            "gridcolor": "white",
            "linecolor": "white",
            "ticks": ""
           },
           "baxis": {
            "gridcolor": "white",
            "linecolor": "white",
            "ticks": ""
           },
           "bgcolor": "#E5ECF6",
           "caxis": {
            "gridcolor": "white",
            "linecolor": "white",
            "ticks": ""
           }
          },
          "title": {
           "x": 0.05
          },
          "xaxis": {
           "automargin": true,
           "gridcolor": "white",
           "linecolor": "white",
           "ticks": "",
           "title": {
            "standoff": 15
           },
           "zerolinecolor": "white",
           "zerolinewidth": 2
          },
          "yaxis": {
           "automargin": true,
           "gridcolor": "white",
           "linecolor": "white",
           "ticks": "",
           "title": {
            "standoff": 15
           },
           "zerolinecolor": "white",
           "zerolinewidth": 2
          }
         }
        },
        "xaxis": {
         "anchor": "y",
         "autorange": true,
         "domain": [
          0,
          1
         ],
         "range": [
          0,
          6
         ],
         "title": {
          "text": "Categoria"
         },
         "type": "category"
        },
        "yaxis": {
         "anchor": "x",
         "autorange": true,
         "domain": [
          0,
          1
         ],
         "range": [
          -802.5555555555555,
          15248.555555555555
         ],
         "title": {
          "text": "Desconto"
         },
         "type": "linear"
        }
       }
      },
      "image/png": "[encoded data removed]",
      "text/html": [
       "<div>                            <div id=\"704a1eb0-1c5f-45d3-9047-6e8368303d2a\" class=\"plotly-graph-div\" style=\"height:525px; width:100%;\"></div>            <script type=\"text/javascript\">                require([\"plotly\"], function(Plotly) {                    window.PLOTLYENV=window.PLOTLYENV || {};                                    if (document.getElementById(\"704a1eb0-1c5f-45d3-9047-6e8368303d2a\")) {                    Plotly.newPlot(                        \"704a1eb0-1c5f-45d3-9047-6e8368303d2a\",                        [{\"fillpattern\":{\"shape\":\"\"},\"hovertemplate\":\"Marca=Loncoleche\\u003cbr\\u003eCategoria=%{x}\\u003cbr\\u003eDesconto=%{y}\\u003cextra\\u003e\\u003c\\u002fextra\\u003e\",\"legendgroup\":\"Loncoleche\",\"line\":{\"color\":\"#636efa\"},\"marker\":{\"symbol\":\"circle\"},\"mode\":\"lines\",\"name\":\"Loncoleche\",\"orientation\":\"v\",\"showlegend\":true,\"stackgroup\":\"1\",\"x\":[\"laticinios\",\"laticinios\",\"laticinios\",\"laticinios\",\"laticinios\",\"laticinios\",\"laticinios\",\"laticinios\",\"laticinios\",\"laticinios\",\"laticinios\",\"laticinios\",\"laticinios\",\"laticinios\",\"laticinios\",\"laticinios\",\"laticinios\",\"laticinios\",\"laticinios\",\"laticinios\",\"laticinios\",\"laticinios\",\"laticinios\",\"laticinios\",\"laticinios\",\"laticinios\",\"laticinios\",\"laticinios\",\"laticinios\",\"laticinios\",\"laticinios\",\"laticinios\",\"laticinios\",\"laticinios\",\"laticinios\",\"laticinios\",\"laticinios\",\"laticinios\",\"laticinios\",\"laticinios\",\"laticinios\",\"laticinios\",\"laticinios\",\"laticinios\",\"laticinios\",\"laticinios\",\"laticinios\",\"laticinios\",\"laticinios\",\"laticinios\"],\"xaxis\":\"x\",\"y\":[0,0,0,0,0,0,0,0,0,0,0,0,0,0,0,0,0,0,0,0,0,0,0,0,0,0,0,0,0,0,0,0,0,0,0,0,0,0,0,0,0,0,0,0,0,0,0,0,0,0],\"yaxis\":\"y\",\"type\":\"scatter\"},{\"fillpattern\":{\"shape\":\"\"},\"hovertemplate\":\"Marca=Soprole\\u003cbr\\u003eCategoria=%{x}\\u003cbr\\u003eDesconto=%{y}\\u003cextra\\u003e\\u003c\\u002fextra\\u003e\",\"legendgroup\":\"Soprole\",\"line\":{\"color\":\"#EF553B\"},\"marker\":{\"symbol\":\"circle\"},\"mode\":\"lines\",\"name\":\"Soprole\",\"orientation\":\"v\",\"showlegend\":true,\"stackgroup\":\"1\",\"x\":[\"laticinios\",\"laticinios\",\"laticinios\",\"laticinios\",\"laticinios\",\"laticinios\",\"laticinios\",\"laticinios\",\"laticinios\",\"laticinios\",\"laticinios\",\"laticinios\",\"laticinios\",\"laticinios\",\"laticinios\",\"laticinios\",\"laticinios\",\"laticinios\",\"laticinios\",\"laticinios\",\"laticinios\",\"laticinios\",\"laticinios\",\"laticinios\",\"laticinios\",\"laticinios\",\"laticinios\",\"laticinios\",\"laticinios\",\"laticinios\",\"laticinios\",\"laticinios\",\"laticinios\",\"laticinios\",\"laticinios\",\"laticinios\",\"laticinios\",\"laticinios\",\"laticinios\",\"laticinios\",\"laticinios\",\"laticinios\",\"laticinios\",\"laticinios\",\"laticinios\",\"laticinios\",\"laticinios\",\"laticinios\",\"laticinios\",\"laticinios\",\"laticinios\",\"laticinios\",\"laticinios\",\"laticinios\",\"laticinios\",\"laticinios\",\"laticinios\",\"laticinios\",\"laticinios\",\"laticinios\",\"laticinios\",\"laticinios\",\"laticinios\",\"laticinios\",\"laticinios\",\"laticinios\",\"laticinios\",\"laticinios\",\"laticinios\",\"laticinios\",\"laticinios\",\"laticinios\",\"laticinios\",\"laticinios\",\"laticinios\",\"laticinios\",\"laticinios\",\"laticinios\",\"laticinios\",\"laticinios\",\"laticinios\",\"laticinios\",\"laticinios\",\"laticinios\",\"laticinios\",\"laticinios\",\"laticinios\",\"laticinios\",\"laticinios\",\"laticinios\",\"laticinios\",\"laticinios\",\"laticinios\",\"laticinios\",\"laticinios\",\"laticinios\",\"laticinios\",\"laticinios\",\"laticinios\",\"laticinios\",\"laticinios\",\"laticinios\"],\"xaxis\":\"x\",\"y\":[0,0,0,0,0,0,0,0,0,0,0,0,0,0,0,0,0,0,0,0,0,0,0,0,0,0,0,0,0,0,0,0,0,0,0,0,0,0,0,0,0,0,0,0,0,0,0,0,0,0,0,0,0,0,0,0,0,0,0,0,0,0,0,0,0,0,0,0,0,0,0,0,0,0,0,0,0,0,0,0,0,0,0,0,0,0,0,0,0,0,0,0,0,0,0,0,0,0,0,349,379,379],\"yaxis\":\"y\",\"type\":\"scatter\"},{\"fillpattern\":{\"shape\":\"\"},\"hovertemplate\":\"Marca=Colun\\u003cbr\\u003eCategoria=%{x}\\u003cbr\\u003eDesconto=%{y}\\u003cextra\\u003e\\u003c\\u002fextra\\u003e\",\"legendgroup\":\"Colun\",\"line\":{\"color\":\"#00cc96\"},\"marker\":{\"symbol\":\"circle\"},\"mode\":\"lines\",\"name\":\"Colun\",\"orientation\":\"v\",\"showlegend\":true,\"stackgroup\":\"1\",\"x\":[\"laticinios\",\"laticinios\",\"laticinios\",\"laticinios\",\"laticinios\",\"laticinios\",\"laticinios\",\"laticinios\",\"laticinios\",\"laticinios\",\"laticinios\",\"laticinios\",\"laticinios\",\"laticinios\",\"laticinios\",\"laticinios\",\"laticinios\",\"laticinios\",\"laticinios\",\"laticinios\",\"laticinios\",\"laticinios\",\"laticinios\",\"laticinios\",\"laticinios\",\"laticinios\",\"laticinios\",\"laticinios\",\"laticinios\",\"laticinios\",\"laticinios\",\"laticinios\",\"laticinios\",\"laticinios\",\"laticinios\",\"laticinios\",\"laticinios\",\"laticinios\",\"laticinios\",\"laticinios\",\"laticinios\",\"laticinios\",\"laticinios\",\"laticinios\",\"laticinios\",\"laticinios\",\"laticinios\",\"laticinios\",\"laticinios\",\"laticinios\",\"laticinios\",\"laticinios\",\"laticinios\",\"laticinios\",\"laticinios\",\"laticinios\",\"laticinios\",\"laticinios\",\"laticinios\",\"laticinios\",\"laticinios\",\"laticinios\",\"laticinios\",\"laticinios\",\"laticinios\",\"laticinios\",\"laticinios\",\"laticinios\",\"laticinios\",\"laticinios\",\"laticinios\",\"laticinios\",\"laticinios\",\"laticinios\",\"laticinios\",\"laticinios\",\"laticinios\",\"laticinios\",\"laticinios\",\"laticinios\",\"laticinios\",\"laticinios\",\"laticinios\",\"laticinios\",\"laticinios\",\"laticinios\",\"laticinios\"],\"xaxis\":\"x\",\"y\":[0,0,0,0,0,0,0,0,0,0,0,0,0,0,0,0,0,0,0,0,0,0,0,0,0,0,0,0,0,0,0,0,0,0,0,0,0,0,0,0,0,0,0,0,0,0,0,0,0,0,0,0,0,0,0,0,0,0,0,0,0,0,0,0,0,0,0,0,0,0,0,0,0,0,0,0,0,0,0,0,0,0,0,0,0,0,389],\"yaxis\":\"y\",\"type\":\"scatter\"},{\"fillpattern\":{\"shape\":\"\"},\"hovertemplate\":\"Marca=Plenitud\\u003cbr\\u003eCategoria=%{x}\\u003cbr\\u003eDesconto=%{y}\\u003cextra\\u003e\\u003c\\u002fextra\\u003e\",\"legendgroup\":\"Plenitud\",\"line\":{\"color\":\"#ab63fa\"},\"marker\":{\"symbol\":\"circle\"},\"mode\":\"lines\",\"name\":\"Plenitud\",\"orientation\":\"v\",\"showlegend\":true,\"stackgroup\":\"1\",\"x\":[\"beleza-e-cuidado-pessoal\"],\"xaxis\":\"x\",\"y\":[0],\"yaxis\":\"y\",\"type\":\"scatter\"},{\"fillpattern\":{\"shape\":\"\"},\"hovertemplate\":\"Marca=Nido\\u003cbr\\u003eCategoria=%{x}\\u003cbr\\u003eDesconto=%{y}\\u003cextra\\u003e\\u003c\\u002fextra\\u003e\",\"legendgroup\":\"Nido\",\"line\":{\"color\":\"#FFA15A\"},\"marker\":{\"symbol\":\"circle\"},\"mode\":\"lines\",\"name\":\"Nido\",\"orientation\":\"v\",\"showlegend\":true,\"stackgroup\":\"1\",\"x\":[\"laticinios\",\"laticinios\",\"laticinios\",\"laticinios\",\"laticinios\"],\"xaxis\":\"x\",\"y\":[0,0,0,0,4349],\"yaxis\":\"y\",\"type\":\"scatter\"},{\"fillpattern\":{\"shape\":\"\"},\"hovertemplate\":\"Marca=Tena\\u003cbr\\u003eCategoria=%{x}\\u003cbr\\u003eDesconto=%{y}\\u003cextra\\u003e\\u003c\\u002fextra\\u003e\",\"legendgroup\":\"Tena\",\"line\":{\"color\":\"#19d3f3\"},\"marker\":{\"symbol\":\"circle\"},\"mode\":\"lines\",\"name\":\"Tena\",\"orientation\":\"v\",\"showlegend\":true,\"stackgroup\":\"1\",\"x\":[\"beleza-e-cuidado-pessoal\",\"beleza-e-cuidado-pessoal\",\"beleza-e-cuidado-pessoal\",\"beleza-e-cuidado-pessoal\"],\"xaxis\":\"x\",\"y\":[0,0,0,0],\"yaxis\":\"y\",\"type\":\"scatter\"},{\"fillpattern\":{\"shape\":\"\"},\"hovertemplate\":\"Marca=Cuisine & Co\\u003cbr\\u003eCategoria=%{x}\\u003cbr\\u003eDesconto=%{y}\\u003cextra\\u003e\\u003c\\u002fextra\\u003e\",\"legendgroup\":\"Cuisine & Co\",\"line\":{\"color\":\"#FF6692\"},\"marker\":{\"symbol\":\"circle\"},\"mode\":\"lines\",\"name\":\"Cuisine & Co\",\"orientation\":\"v\",\"showlegend\":true,\"stackgroup\":\"1\",\"x\":[\"laticinios\",\"laticinios\",\"laticinios\",\"laticinios\",\"congelados\",\"congelados\",\"laticinios\",\"comidas-preparadas\",\"comidas-preparadas\",\"laticinios\",\"laticinios\",\"congelados\",\"congelados\",\"comidas-preparadas\",\"comidas-preparadas\",\"instantaneo-e-sopas\",\"laticinios\",\"comidas-preparadas\",\"comidas-preparadas\",\"comidas-preparadas\",\"comidas-preparadas\",\"laticinios\",\"congelados\",\"congelados\",\"congelados\",\"comidas-preparadas\",\"comidas-preparadas\",\"comidas-preparadas\",\"comidas-preparadas\",\"congelados\",\"comidas-preparadas\",\"comidas-preparadas\",\"congelados\",\"laticinios\",\"congelados\",\"laticinios\",\"congelados\",\"laticinios\",\"laticinios\",\"laticinios\",\"congelados\",\"laticinios\",\"congelados\",\"congelados\",\"congelados\",\"congelados\",\"congelados\",\"congelados\",\"congelados\",\"congelados\",\"instantaneo-e-sopas\",\"congelados\",\"congelados\",\"laticinios\",\"congelados\",\"laticinios\",\"congelados\",\"laticinios\",\"laticinios\",\"laticinios\",\"congelados\",\"instantaneo-e-sopas\",\"instantaneo-e-sopas\",\"instantaneo-e-sopas\",\"laticinios\",\"comidas-preparadas\",\"comidas-preparadas\",\"comidas-preparadas\",\"congelados\",\"comidas-preparadas\",\"comidas-preparadas\",\"congelados\",\"congelados\",\"congelados\",\"laticinios\",\"congelados\",\"congelados\",\"congelados\",\"congelados\",\"congelados\",\"congelados\"],\"xaxis\":\"x\",\"y\":[0,0,0,0,0,0,0,0,0,0,0,0,0,0,0,0,0,0,0,0,0,0,0,0,0,0,0,0,0,0,0,0,0,0,0,0,0,0,0,0,0,0,0,0,0,0,0,0,0,0,0,0,0,0,0,0,0,0,0,0,0,0,0,0,0,0,0,0,0,0,0,169,169,300,359,759,759,759,759,759,759],\"yaxis\":\"y\",\"type\":\"scatter\"},{\"fillpattern\":{\"shape\":\"\"},\"hovertemplate\":\"Marca=La Crianza\\u003cbr\\u003eCategoria=%{x}\\u003cbr\\u003eDesconto=%{y}\\u003cextra\\u003e\\u003c\\u002fextra\\u003e\",\"legendgroup\":\"La Crianza\",\"line\":{\"color\":\"#B6E880\"},\"marker\":{\"symbol\":\"circle\"},\"mode\":\"lines\",\"name\":\"La Crianza\",\"orientation\":\"v\",\"showlegend\":true,\"stackgroup\":\"1\",\"x\":[\"congelados\",\"congelados\",\"comidas-preparadas\",\"congelados\",\"congelados\",\"congelados\",\"congelados\",\"congelados\",\"congelados\",\"congelados\",\"congelados\",\"congelados\",\"congelados\",\"congelados\",\"congelados\",\"congelados\",\"congelados\",\"congelados\",\"congelados\",\"congelados\",\"congelados\",\"congelados\",\"congelados\",\"congelados\",\"congelados\"],\"xaxis\":\"x\",\"y\":[0,0,0,0,0,0,0,0,0,0,0,0,0,0,0,0,0,0,0,0,0,0,0,0,0],\"yaxis\":\"y\",\"type\":\"scatter\"},{\"fillpattern\":{\"shape\":\"\"},\"hovertemplate\":\"Marca=Svelty\\u003cbr\\u003eCategoria=%{x}\\u003cbr\\u003eDesconto=%{y}\\u003cextra\\u003e\\u003c\\u002fextra\\u003e\",\"legendgroup\":\"Svelty\",\"line\":{\"color\":\"#FF97FF\"},\"marker\":{\"symbol\":\"circle\"},\"mode\":\"lines\",\"name\":\"Svelty\",\"orientation\":\"v\",\"showlegend\":true,\"stackgroup\":\"1\",\"x\":[\"laticinios\",\"laticinios\",\"laticinios\"],\"xaxis\":\"x\",\"y\":[0,0,0],\"yaxis\":\"y\",\"type\":\"scatter\"},{\"fillpattern\":{\"shape\":\"\"},\"hovertemplate\":\"Marca=Head & Shoulders\\u003cbr\\u003eCategoria=%{x}\\u003cbr\\u003eDesconto=%{y}\\u003cextra\\u003e\\u003c\\u002fextra\\u003e\",\"legendgroup\":\"Head & Shoulders\",\"line\":{\"color\":\"#FECB52\"},\"marker\":{\"symbol\":\"circle\"},\"mode\":\"lines\",\"name\":\"Head & Shoulders\",\"orientation\":\"v\",\"showlegend\":true,\"stackgroup\":\"1\",\"x\":[\"beleza-e-cuidado-pessoal\",\"beleza-e-cuidado-pessoal\",\"beleza-e-cuidado-pessoal\",\"beleza-e-cuidado-pessoal\",\"beleza-e-cuidado-pessoal\",\"beleza-e-cuidado-pessoal\"],\"xaxis\":\"x\",\"y\":[0,0,0,0,0,0],\"yaxis\":\"y\",\"type\":\"scatter\"},{\"fillpattern\":{\"shape\":\"\"},\"hovertemplate\":\"Marca=Sofruco\\u003cbr\\u003eCategoria=%{x}\\u003cbr\\u003eDesconto=%{y}\\u003cextra\\u003e\\u003c\\u002fextra\\u003e\",\"legendgroup\":\"Sofruco\",\"line\":{\"color\":\"#636efa\"},\"marker\":{\"symbol\":\"circle\"},\"mode\":\"lines\",\"name\":\"Sofruco\",\"orientation\":\"v\",\"showlegend\":true,\"stackgroup\":\"1\",\"x\":[\"frutas\"],\"xaxis\":\"x\",\"y\":[0],\"yaxis\":\"y\",\"type\":\"scatter\"},{\"fillpattern\":{\"shape\":\"\"},\"hovertemplate\":\"Marca=Listerine\\u003cbr\\u003eCategoria=%{x}\\u003cbr\\u003eDesconto=%{y}\\u003cextra\\u003e\\u003c\\u002fextra\\u003e\",\"legendgroup\":\"Listerine\",\"line\":{\"color\":\"#EF553B\"},\"marker\":{\"symbol\":\"circle\"},\"mode\":\"lines\",\"name\":\"Listerine\",\"orientation\":\"v\",\"showlegend\":true,\"stackgroup\":\"1\",\"x\":[\"beleza-e-cuidado-pessoal\",\"beleza-e-cuidado-pessoal\"],\"xaxis\":\"x\",\"y\":[0,0],\"yaxis\":\"y\",\"type\":\"scatter\"},{\"fillpattern\":{\"shape\":\"\"},\"hovertemplate\":\"Marca=Receta Del Abuelo\\u003cbr\\u003eCategoria=%{x}\\u003cbr\\u003eDesconto=%{y}\\u003cextra\\u003e\\u003c\\u002fextra\\u003e\",\"legendgroup\":\"Receta Del Abuelo\",\"line\":{\"color\":\"#00cc96\"},\"marker\":{\"symbol\":\"circle\"},\"mode\":\"lines\",\"name\":\"Receta Del Abuelo\",\"orientation\":\"v\",\"showlegend\":true,\"stackgroup\":\"1\",\"x\":[\"congelados\",\"congelados\",\"congelados\",\"congelados\",\"congelados\",\"congelados\",\"congelados\",\"congelados\",\"congelados\",\"congelados\",\"congelados\",\"congelados\"],\"xaxis\":\"x\",\"y\":[0,0,0,0,0,0,0,0,0,0,0,0],\"yaxis\":\"y\",\"type\":\"scatter\"},{\"fillpattern\":{\"shape\":\"\"},\"hovertemplate\":\"Marca=Colgate\\u003cbr\\u003eCategoria=%{x}\\u003cbr\\u003eDesconto=%{y}\\u003cextra\\u003e\\u003c\\u002fextra\\u003e\",\"legendgroup\":\"Colgate\",\"line\":{\"color\":\"#ab63fa\"},\"marker\":{\"symbol\":\"circle\"},\"mode\":\"lines\",\"name\":\"Colgate\",\"orientation\":\"v\",\"showlegend\":true,\"stackgroup\":\"1\",\"x\":[\"beleza-e-cuidado-pessoal\",\"beleza-e-cuidado-pessoal\",\"beleza-e-cuidado-pessoal\",\"beleza-e-cuidado-pessoal\",\"beleza-e-cuidado-pessoal\",\"beleza-e-cuidado-pessoal\",\"beleza-e-cuidado-pessoal\",\"beleza-e-cuidado-pessoal\",\"beleza-e-cuidado-pessoal\",\"beleza-e-cuidado-pessoal\",\"beleza-e-cuidado-pessoal\",\"beleza-e-cuidado-pessoal\",\"beleza-e-cuidado-pessoal\",\"beleza-e-cuidado-pessoal\",\"beleza-e-cuidado-pessoal\",\"beleza-e-cuidado-pessoal\",\"beleza-e-cuidado-pessoal\",\"beleza-e-cuidado-pessoal\",\"beleza-e-cuidado-pessoal\",\"beleza-e-cuidado-pessoal\",\"beleza-e-cuidado-pessoal\"],\"xaxis\":\"x\",\"y\":[0,0,0,0,0,0,0,0,0,0,0,0,0,0,0,0,200,200,659,700,700],\"yaxis\":\"y\",\"type\":\"scatter\"},{\"fillpattern\":{\"shape\":\"\"},\"hovertemplate\":\"Marca=Calo\\u003cbr\\u003eCategoria=%{x}\\u003cbr\\u003eDesconto=%{y}\\u003cextra\\u003e\\u003c\\u002fextra\\u003e\",\"legendgroup\":\"Calo\",\"line\":{\"color\":\"#FFA15A\"},\"marker\":{\"symbol\":\"circle\"},\"mode\":\"lines\",\"name\":\"Calo\",\"orientation\":\"v\",\"showlegend\":true,\"stackgroup\":\"1\",\"x\":[\"laticinios\",\"laticinios\",\"laticinios\",\"laticinios\",\"laticinios\",\"laticinios\",\"laticinios\",\"laticinios\"],\"xaxis\":\"x\",\"y\":[0,0,0,0,0,0,0,0],\"yaxis\":\"y\",\"type\":\"scatter\"},{\"fillpattern\":{\"shape\":\"\"},\"hovertemplate\":\"Marca=Surlat\\u003cbr\\u003eCategoria=%{x}\\u003cbr\\u003eDesconto=%{y}\\u003cextra\\u003e\\u003c\\u002fextra\\u003e\",\"legendgroup\":\"Surlat\",\"line\":{\"color\":\"#19d3f3\"},\"marker\":{\"symbol\":\"circle\"},\"mode\":\"lines\",\"name\":\"Surlat\",\"orientation\":\"v\",\"showlegend\":true,\"stackgroup\":\"1\",\"x\":[\"laticinios\",\"laticinios\",\"laticinios\",\"laticinios\",\"laticinios\",\"laticinios\",\"laticinios\",\"laticinios\",\"laticinios\",\"laticinios\",\"laticinios\",\"laticinios\",\"laticinios\"],\"xaxis\":\"x\",\"y\":[0,0,0,0,0,0,0,0,0,0,0,0,0],\"yaxis\":\"y\",\"type\":\"scatter\"},{\"fillpattern\":{\"shape\":\"\"},\"hovertemplate\":\"Marca=San Jorge\\u003cbr\\u003eCategoria=%{x}\\u003cbr\\u003eDesconto=%{y}\\u003cextra\\u003e\\u003c\\u002fextra\\u003e\",\"legendgroup\":\"San Jorge\",\"line\":{\"color\":\"#FF6692\"},\"marker\":{\"symbol\":\"circle\"},\"mode\":\"lines\",\"name\":\"San Jorge\",\"orientation\":\"v\",\"showlegend\":true,\"stackgroup\":\"1\",\"x\":[\"congelados\",\"congelados\"],\"xaxis\":\"x\",\"y\":[0,140],\"yaxis\":\"y\",\"type\":\"scatter\"},{\"fillpattern\":{\"shape\":\"\"},\"hovertemplate\":\"Marca=Jumbo\\u003cbr\\u003eCategoria=%{x}\\u003cbr\\u003eDesconto=%{y}\\u003cextra\\u003e\\u003c\\u002fextra\\u003e\",\"legendgroup\":\"Jumbo\",\"line\":{\"color\":\"#B6E880\"},\"marker\":{\"symbol\":\"circle\"},\"mode\":\"lines\",\"name\":\"Jumbo\",\"orientation\":\"v\",\"showlegend\":true,\"stackgroup\":\"1\",\"x\":[\"verduras\",\"verduras\",\"verduras\"],\"xaxis\":\"x\",\"y\":[0,0,0],\"yaxis\":\"y\",\"type\":\"scatter\"},{\"fillpattern\":{\"shape\":\"\"},\"hovertemplate\":\"Marca=Elvive\\u003cbr\\u003eCategoria=%{x}\\u003cbr\\u003eDesconto=%{y}\\u003cextra\\u003e\\u003c\\u002fextra\\u003e\",\"legendgroup\":\"Elvive\",\"line\":{\"color\":\"#FF97FF\"},\"marker\":{\"symbol\":\"circle\"},\"mode\":\"lines\",\"name\":\"Elvive\",\"orientation\":\"v\",\"showlegend\":true,\"stackgroup\":\"1\",\"x\":[\"beleza-e-cuidado-pessoal\",\"beleza-e-cuidado-pessoal\",\"beleza-e-cuidado-pessoal\",\"beleza-e-cuidado-pessoal\",\"beleza-e-cuidado-pessoal\",\"beleza-e-cuidado-pessoal\",\"beleza-e-cuidado-pessoal\",\"beleza-e-cuidado-pessoal\",\"beleza-e-cuidado-pessoal\"],\"xaxis\":\"x\",\"y\":[0,0,0,0,0,0,0,0,0],\"yaxis\":\"y\",\"type\":\"scatter\"},{\"fillpattern\":{\"shape\":\"\"},\"hovertemplate\":\"Marca=San Francisco De Loncomilla\\u003cbr\\u003eCategoria=%{x}\\u003cbr\\u003eDesconto=%{y}\\u003cextra\\u003e\\u003c\\u002fextra\\u003e\",\"legendgroup\":\"San Francisco De Loncomilla\",\"line\":{\"color\":\"#FECB52\"},\"marker\":{\"symbol\":\"circle\"},\"mode\":\"lines\",\"name\":\"San Francisco De Loncomilla\",\"orientation\":\"v\",\"showlegend\":true,\"stackgroup\":\"1\",\"x\":[\"congelados\",\"congelados\",\"congelados\",\"congelados\",\"congelados\",\"congelados\",\"congelados\",\"congelados\",\"congelados\",\"congelados\",\"congelados\",\"congelados\",\"congelados\",\"congelados\",\"congelados\",\"congelados\",\"congelados\",\"congelados\",\"congelados\",\"congelados\",\"congelados\",\"congelados\"],\"xaxis\":\"x\",\"y\":[0,0,0,0,0,0,0,0,0,0,0,0,0,0,0,0,0,0,0,0,0,0],\"yaxis\":\"y\",\"type\":\"scatter\"},{\"fillpattern\":{\"shape\":\"\"},\"hovertemplate\":\"Marca=Turkey Hill\\u003cbr\\u003eCategoria=%{x}\\u003cbr\\u003eDesconto=%{y}\\u003cextra\\u003e\\u003c\\u002fextra\\u003e\",\"legendgroup\":\"Turkey Hill\",\"line\":{\"color\":\"#636efa\"},\"marker\":{\"symbol\":\"circle\"},\"mode\":\"lines\",\"name\":\"Turkey Hill\",\"orientation\":\"v\",\"showlegend\":true,\"stackgroup\":\"1\",\"x\":[\"congelados\",\"congelados\",\"congelados\"],\"xaxis\":\"x\",\"y\":[0,0,0],\"yaxis\":\"y\",\"type\":\"scatter\"},{\"fillpattern\":{\"shape\":\"\"},\"hovertemplate\":\"Marca=Maggi\\u003cbr\\u003eCategoria=%{x}\\u003cbr\\u003eDesconto=%{y}\\u003cextra\\u003e\\u003c\\u002fextra\\u003e\",\"legendgroup\":\"Maggi\",\"line\":{\"color\":\"#EF553B\"},\"marker\":{\"symbol\":\"circle\"},\"mode\":\"lines\",\"name\":\"Maggi\",\"orientation\":\"v\",\"showlegend\":true,\"stackgroup\":\"1\",\"x\":[\"instantaneo-e-sopas\",\"instantaneo-e-sopas\",\"instantaneo-e-sopas\",\"instantaneo-e-sopas\",\"instantaneo-e-sopas\",\"instantaneo-e-sopas\",\"instantaneo-e-sopas\",\"instantaneo-e-sopas\",\"instantaneo-e-sopas\",\"instantaneo-e-sopas\",\"instantaneo-e-sopas\",\"instantaneo-e-sopas\",\"instantaneo-e-sopas\",\"instantaneo-e-sopas\",\"instantaneo-e-sopas\",\"instantaneo-e-sopas\",\"instantaneo-e-sopas\",\"instantaneo-e-sopas\",\"instantaneo-e-sopas\",\"instantaneo-e-sopas\",\"instantaneo-e-sopas\",\"instantaneo-e-sopas\",\"instantaneo-e-sopas\",\"instantaneo-e-sopas\",\"instantaneo-e-sopas\",\"instantaneo-e-sopas\",\"instantaneo-e-sopas\",\"instantaneo-e-sopas\"],\"xaxis\":\"x\",\"y\":[0,0,0,0,0,0,0,0,0,0,0,0,0,0,0,0,0,0,0,0,0,0,0,0,0,0,0,0],\"yaxis\":\"y\",\"type\":\"scatter\"},{\"fillpattern\":{\"shape\":\"\"},\"hovertemplate\":\"Marca=Bredenmaster\\u003cbr\\u003eCategoria=%{x}\\u003cbr\\u003eDesconto=%{y}\\u003cextra\\u003e\\u003c\\u002fextra\\u003e\",\"legendgroup\":\"Bredenmaster\",\"line\":{\"color\":\"#00cc96\"},\"marker\":{\"symbol\":\"circle\"},\"mode\":\"lines\",\"name\":\"Bredenmaster\",\"orientation\":\"v\",\"showlegend\":true,\"stackgroup\":\"1\",\"x\":[\"comidas-preparadas\",\"comidas-preparadas\",\"comidas-preparadas\",\"comidas-preparadas\",\"comidas-preparadas\",\"comidas-preparadas\"],\"xaxis\":\"x\",\"y\":[0,0,0,0,0,0],\"yaxis\":\"y\",\"type\":\"scatter\"},{\"fillpattern\":{\"shape\":\"\"},\"hovertemplate\":\"Marca=Bravissimo\\u003cbr\\u003eCategoria=%{x}\\u003cbr\\u003eDesconto=%{y}\\u003cextra\\u003e\\u003c\\u002fextra\\u003e\",\"legendgroup\":\"Bravissimo\",\"line\":{\"color\":\"#ab63fa\"},\"marker\":{\"symbol\":\"circle\"},\"mode\":\"lines\",\"name\":\"Bravissimo\",\"orientation\":\"v\",\"showlegend\":true,\"stackgroup\":\"1\",\"x\":[\"congelados\"],\"xaxis\":\"x\",\"y\":[0],\"yaxis\":\"y\",\"type\":\"scatter\"},{\"fillpattern\":{\"shape\":\"\"},\"hovertemplate\":\"Marca=Super Pollo\\u003cbr\\u003eCategoria=%{x}\\u003cbr\\u003eDesconto=%{y}\\u003cextra\\u003e\\u003c\\u002fextra\\u003e\",\"legendgroup\":\"Super Pollo\",\"line\":{\"color\":\"#FFA15A\"},\"marker\":{\"symbol\":\"circle\"},\"mode\":\"lines\",\"name\":\"Super Pollo\",\"orientation\":\"v\",\"showlegend\":true,\"stackgroup\":\"1\",\"x\":[\"congelados\",\"congelados\",\"congelados\",\"congelados\",\"congelados\",\"congelados\"],\"xaxis\":\"x\",\"y\":[0,0,0,0,0,0],\"yaxis\":\"y\",\"type\":\"scatter\"},{\"fillpattern\":{\"shape\":\"\"},\"hovertemplate\":\"Marca=Ideal\\u003cbr\\u003eCategoria=%{x}\\u003cbr\\u003eDesconto=%{y}\\u003cextra\\u003e\\u003c\\u002fextra\\u003e\",\"legendgroup\":\"Ideal\",\"line\":{\"color\":\"#19d3f3\"},\"marker\":{\"symbol\":\"circle\"},\"mode\":\"lines\",\"name\":\"Ideal\",\"orientation\":\"v\",\"showlegend\":true,\"stackgroup\":\"1\",\"x\":[\"laticinios\"],\"xaxis\":\"x\",\"y\":[0],\"yaxis\":\"y\",\"type\":\"scatter\"},{\"fillpattern\":{\"shape\":\"\"},\"hovertemplate\":\"Marca=Pantene\\u003cbr\\u003eCategoria=%{x}\\u003cbr\\u003eDesconto=%{y}\\u003cextra\\u003e\\u003c\\u002fextra\\u003e\",\"legendgroup\":\"Pantene\",\"line\":{\"color\":\"#FF6692\"},\"marker\":{\"symbol\":\"circle\"},\"mode\":\"lines\",\"name\":\"Pantene\",\"orientation\":\"v\",\"showlegend\":true,\"stackgroup\":\"1\",\"x\":[\"beleza-e-cuidado-pessoal\",\"beleza-e-cuidado-pessoal\",\"beleza-e-cuidado-pessoal\",\"beleza-e-cuidado-pessoal\",\"beleza-e-cuidado-pessoal\",\"beleza-e-cuidado-pessoal\",\"beleza-e-cuidado-pessoal\"],\"xaxis\":\"x\",\"y\":[0,749,749,749,749,899,899],\"yaxis\":\"y\",\"type\":\"scatter\"},{\"fillpattern\":{\"shape\":\"\"},\"hovertemplate\":\"Marca=Solo Italia\\u003cbr\\u003eCategoria=%{x}\\u003cbr\\u003eDesconto=%{y}\\u003cextra\\u003e\\u003c\\u002fextra\\u003e\",\"legendgroup\":\"Solo Italia\",\"line\":{\"color\":\"#B6E880\"},\"marker\":{\"symbol\":\"circle\"},\"mode\":\"lines\",\"name\":\"Solo Italia\",\"orientation\":\"v\",\"showlegend\":true,\"stackgroup\":\"1\",\"x\":[\"comidas-preparadas\",\"comidas-preparadas\",\"comidas-preparadas\"],\"xaxis\":\"x\",\"y\":[0,0,0],\"yaxis\":\"y\",\"type\":\"scatter\"},{\"fillpattern\":{\"shape\":\"\"},\"hovertemplate\":\"Marca=Garnier\\u003cbr\\u003eCategoria=%{x}\\u003cbr\\u003eDesconto=%{y}\\u003cextra\\u003e\\u003c\\u002fextra\\u003e\",\"legendgroup\":\"Garnier\",\"line\":{\"color\":\"#FF97FF\"},\"marker\":{\"symbol\":\"circle\"},\"mode\":\"lines\",\"name\":\"Garnier\",\"orientation\":\"v\",\"showlegend\":true,\"stackgroup\":\"1\",\"x\":[\"beleza-e-cuidado-pessoal\"],\"xaxis\":\"x\",\"y\":[0],\"yaxis\":\"y\",\"type\":\"scatter\"},{\"fillpattern\":{\"shape\":\"\"},\"hovertemplate\":\"Marca=Nivea\\u003cbr\\u003eCategoria=%{x}\\u003cbr\\u003eDesconto=%{y}\\u003cextra\\u003e\\u003c\\u002fextra\\u003e\",\"legendgroup\":\"Nivea\",\"line\":{\"color\":\"#FECB52\"},\"marker\":{\"symbol\":\"circle\"},\"mode\":\"lines\",\"name\":\"Nivea\",\"orientation\":\"v\",\"showlegend\":true,\"stackgroup\":\"1\",\"x\":[\"beleza-e-cuidado-pessoal\",\"beleza-e-cuidado-pessoal\",\"beleza-e-cuidado-pessoal\",\"beleza-e-cuidado-pessoal\",\"beleza-e-cuidado-pessoal\",\"beleza-e-cuidado-pessoal\",\"beleza-e-cuidado-pessoal\",\"beleza-e-cuidado-pessoal\",\"beleza-e-cuidado-pessoal\",\"beleza-e-cuidado-pessoal\",\"beleza-e-cuidado-pessoal\",\"beleza-e-cuidado-pessoal\"],\"xaxis\":\"x\",\"y\":[0,0,0,0,0,0,0,0,0,0,0,0],\"yaxis\":\"y\",\"type\":\"scatter\"},{\"fillpattern\":{\"shape\":\"\"},\"hovertemplate\":\"Marca=Sure\\u00f1a\\u003cbr\\u003eCategoria=%{x}\\u003cbr\\u003eDesconto=%{y}\\u003cextra\\u003e\\u003c\\u002fextra\\u003e\",\"legendgroup\":\"Sure\\u00f1a\",\"line\":{\"color\":\"#636efa\"},\"marker\":{\"symbol\":\"circle\"},\"mode\":\"lines\",\"name\":\"Sure\\u00f1a\",\"orientation\":\"v\",\"showlegend\":true,\"stackgroup\":\"1\",\"x\":[\"laticinios\",\"laticinios\",\"laticinios\",\"laticinios\"],\"xaxis\":\"x\",\"y\":[0,0,518,526],\"yaxis\":\"y\",\"type\":\"scatter\"},{\"fillpattern\":{\"shape\":\"\"},\"hovertemplate\":\"Marca=Savory\\u003cbr\\u003eCategoria=%{x}\\u003cbr\\u003eDesconto=%{y}\\u003cextra\\u003e\\u003c\\u002fextra\\u003e\",\"legendgroup\":\"Savory\",\"line\":{\"color\":\"#EF553B\"},\"marker\":{\"symbol\":\"circle\"},\"mode\":\"lines\",\"name\":\"Savory\",\"orientation\":\"v\",\"showlegend\":true,\"stackgroup\":\"1\",\"x\":[\"congelados\",\"congelados\",\"congelados\",\"congelados\",\"congelados\",\"congelados\",\"congelados\",\"congelados\",\"congelados\",\"congelados\",\"congelados\",\"congelados\",\"congelados\",\"congelados\",\"congelados\",\"congelados\",\"congelados\",\"congelados\",\"congelados\",\"congelados\",\"congelados\",\"congelados\",\"congelados\",\"congelados\",\"congelados\",\"congelados\",\"congelados\",\"congelados\",\"congelados\",\"congelados\",\"congelados\",\"congelados\"],\"xaxis\":\"x\",\"y\":[0,0,0,0,0,0,0,0,0,0,0,550,555,559,562,600,622,630,657,657,657,658,789,789,789,789,789,789,789,789,789,789],\"yaxis\":\"y\",\"type\":\"scatter\"},{\"fillpattern\":{\"shape\":\"\"},\"hovertemplate\":\"Marca=Sahne Nuss\\u003cbr\\u003eCategoria=%{x}\\u003cbr\\u003eDesconto=%{y}\\u003cextra\\u003e\\u003c\\u002fextra\\u003e\",\"legendgroup\":\"Sahne Nuss\",\"line\":{\"color\":\"#00cc96\"},\"marker\":{\"symbol\":\"circle\"},\"mode\":\"lines\",\"name\":\"Sahne Nuss\",\"orientation\":\"v\",\"showlegend\":true,\"stackgroup\":\"1\",\"x\":[\"congelados\",\"congelados\",\"congelados\",\"laticinios\",\"congelados\"],\"xaxis\":\"x\",\"y\":[0,0,0,0,657],\"yaxis\":\"y\",\"type\":\"scatter\"},{\"fillpattern\":{\"shape\":\"\"},\"hovertemplate\":\"Marca=Minuto Verde\\u003cbr\\u003eCategoria=%{x}\\u003cbr\\u003eDesconto=%{y}\\u003cextra\\u003e\\u003c\\u002fextra\\u003e\",\"legendgroup\":\"Minuto Verde\",\"line\":{\"color\":\"#ab63fa\"},\"marker\":{\"symbol\":\"circle\"},\"mode\":\"lines\",\"name\":\"Minuto Verde\",\"orientation\":\"v\",\"showlegend\":true,\"stackgroup\":\"1\",\"x\":[\"congelados\",\"congelados\",\"congelados\",\"congelados\",\"congelados\",\"congelados\",\"congelados\",\"congelados\",\"congelados\",\"congelados\",\"congelados\",\"congelados\",\"congelados\",\"congelados\",\"congelados\",\"congelados\",\"congelados\",\"congelados\",\"congelados\",\"congelados\"],\"xaxis\":\"x\",\"y\":[0,0,0,0,0,0,0,0,0,0,0,0,0,0,0,0,0,130,130,130],\"yaxis\":\"y\",\"type\":\"scatter\"},{\"fillpattern\":{\"shape\":\"\"},\"hovertemplate\":\"Marca=Rana\\u003cbr\\u003eCategoria=%{x}\\u003cbr\\u003eDesconto=%{y}\\u003cextra\\u003e\\u003c\\u002fextra\\u003e\",\"legendgroup\":\"Rana\",\"line\":{\"color\":\"#FFA15A\"},\"marker\":{\"symbol\":\"circle\"},\"mode\":\"lines\",\"name\":\"Rana\",\"orientation\":\"v\",\"showlegend\":true,\"stackgroup\":\"1\",\"x\":[\"comidas-preparadas\",\"comidas-preparadas\",\"comidas-preparadas\"],\"xaxis\":\"x\",\"y\":[0,0,0],\"yaxis\":\"y\",\"type\":\"scatter\"},{\"fillpattern\":{\"shape\":\"\"},\"hovertemplate\":\"Marca=Brooks\\u003cbr\\u003eCategoria=%{x}\\u003cbr\\u003eDesconto=%{y}\\u003cextra\\u003e\\u003c\\u002fextra\\u003e\",\"legendgroup\":\"Brooks\",\"line\":{\"color\":\"#19d3f3\"},\"marker\":{\"symbol\":\"circle\"},\"mode\":\"lines\",\"name\":\"Brooks\",\"orientation\":\"v\",\"showlegend\":true,\"stackgroup\":\"1\",\"x\":[\"beleza-e-cuidado-pessoal\"],\"xaxis\":\"x\",\"y\":[0],\"yaxis\":\"y\",\"type\":\"scatter\"},{\"fillpattern\":{\"shape\":\"\"},\"hovertemplate\":\"Marca=Alcafood\\u003cbr\\u003eCategoria=%{x}\\u003cbr\\u003eDesconto=%{y}\\u003cextra\\u003e\\u003c\\u002fextra\\u003e\",\"legendgroup\":\"Alcafood\",\"line\":{\"color\":\"#FF6692\"},\"marker\":{\"symbol\":\"circle\"},\"mode\":\"lines\",\"name\":\"Alcafood\",\"orientation\":\"v\",\"showlegend\":true,\"stackgroup\":\"1\",\"x\":[\"instantaneo-e-sopas\",\"instantaneo-e-sopas\"],\"xaxis\":\"x\",\"y\":[0,0],\"yaxis\":\"y\",\"type\":\"scatter\"},{\"fillpattern\":{\"shape\":\"\"},\"hovertemplate\":\"Marca=Frutas Y Verduras Propias\\u003cbr\\u003eCategoria=%{x}\\u003cbr\\u003eDesconto=%{y}\\u003cextra\\u003e\\u003c\\u002fextra\\u003e\",\"legendgroup\":\"Frutas Y Verduras Propias\",\"line\":{\"color\":\"#B6E880\"},\"marker\":{\"symbol\":\"circle\"},\"mode\":\"lines\",\"name\":\"Frutas Y Verduras Propias\",\"orientation\":\"v\",\"showlegend\":true,\"stackgroup\":\"1\",\"x\":[\"verduras\",\"verduras\",\"frutas\",\"verduras\",\"verduras\",\"frutas\",\"verduras\",\"frutas\",\"verduras\",\"verduras\",\"verduras\",\"verduras\",\"frutas\",\"verduras\",\"frutas\",\"verduras\",\"verduras\",\"verduras\",\"frutas\",\"verduras\",\"verduras\",\"verduras\",\"verduras\",\"verduras\",\"verduras\",\"frutas\",\"frutas\",\"verduras\",\"verduras\",\"verduras\",\"verduras\",\"verduras\",\"verduras\",\"verduras\",\"verduras\",\"verduras\",\"frutas\",\"verduras\",\"verduras\",\"verduras\",\"frutas\",\"frutas\",\"frutas\",\"verduras\",\"verduras\",\"verduras\",\"verduras\",\"verduras\",\"verduras\",\"verduras\",\"verduras\",\"frutas\",\"verduras\",\"verduras\",\"frutas\",\"verduras\",\"verduras\",\"frutas\",\"verduras\",\"verduras\",\"verduras\",\"verduras\",\"verduras\",\"verduras\",\"frutas\",\"frutas\",\"verduras\",\"verduras\",\"verduras\",\"verduras\",\"verduras\",\"verduras\",\"verduras\"],\"xaxis\":\"x\",\"y\":[0,0,0,0,0,0,0,0,0,0,0,0,0,0,0,0,0,0,0,0,0,0,0,0,0,0,0,0,0,0,0,0,0,0,0,0,0,0,0,0,0,0,0,0,0,0,0,0,0,0,0,0,0,0,0,0,0,0,0,0,0,0,0,0,0,0,0,0,0,0,0,0,0],\"yaxis\":\"y\",\"type\":\"scatter\"},{\"fillpattern\":{\"shape\":\"\"},\"hovertemplate\":\"Marca=Sadia\\u003cbr\\u003eCategoria=%{x}\\u003cbr\\u003eDesconto=%{y}\\u003cextra\\u003e\\u003c\\u002fextra\\u003e\",\"legendgroup\":\"Sadia\",\"line\":{\"color\":\"#FF97FF\"},\"marker\":{\"symbol\":\"circle\"},\"mode\":\"lines\",\"name\":\"Sadia\",\"orientation\":\"v\",\"showlegend\":true,\"stackgroup\":\"1\",\"x\":[\"comidas-preparadas\",\"congelados\",\"congelados\",\"congelados\"],\"xaxis\":\"x\",\"y\":[0,0,0,0],\"yaxis\":\"y\",\"type\":\"scatter\"},{\"fillpattern\":{\"shape\":\"\"},\"hovertemplate\":\"Marca=Guallarauco\\u003cbr\\u003eCategoria=%{x}\\u003cbr\\u003eDesconto=%{y}\\u003cextra\\u003e\\u003c\\u002fextra\\u003e\",\"legendgroup\":\"Guallarauco\",\"line\":{\"color\":\"#FECB52\"},\"marker\":{\"symbol\":\"circle\"},\"mode\":\"lines\",\"name\":\"Guallarauco\",\"orientation\":\"v\",\"showlegend\":true,\"stackgroup\":\"1\",\"x\":[\"congelados\",\"congelados\",\"congelados\",\"congelados\",\"congelados\",\"congelados\",\"congelados\"],\"xaxis\":\"x\",\"y\":[0,0,0,0,0,0,0],\"yaxis\":\"y\",\"type\":\"scatter\"},{\"fillpattern\":{\"shape\":\"\"},\"hovertemplate\":\"Marca=Bresler\\u003cbr\\u003eCategoria=%{x}\\u003cbr\\u003eDesconto=%{y}\\u003cextra\\u003e\\u003c\\u002fextra\\u003e\",\"legendgroup\":\"Bresler\",\"line\":{\"color\":\"#636efa\"},\"marker\":{\"symbol\":\"circle\"},\"mode\":\"lines\",\"name\":\"Bresler\",\"orientation\":\"v\",\"showlegend\":true,\"stackgroup\":\"1\",\"x\":[\"congelados\",\"congelados\",\"congelados\",\"congelados\",\"congelados\",\"congelados\",\"congelados\",\"congelados\",\"congelados\",\"congelados\",\"congelados\",\"congelados\",\"congelados\",\"congelados\"],\"xaxis\":\"x\",\"y\":[0,0,0,0,0,0,373,373,693,699,709,990,1090,1090],\"yaxis\":\"y\",\"type\":\"scatter\"},{\"fillpattern\":{\"shape\":\"\"},\"hovertemplate\":\"Marca=Old Spice\\u003cbr\\u003eCategoria=%{x}\\u003cbr\\u003eDesconto=%{y}\\u003cextra\\u003e\\u003c\\u002fextra\\u003e\",\"legendgroup\":\"Old Spice\",\"line\":{\"color\":\"#EF553B\"},\"marker\":{\"symbol\":\"circle\"},\"mode\":\"lines\",\"name\":\"Old Spice\",\"orientation\":\"v\",\"showlegend\":true,\"stackgroup\":\"1\",\"x\":[\"beleza-e-cuidado-pessoal\"],\"xaxis\":\"x\",\"y\":[0],\"yaxis\":\"y\",\"type\":\"scatter\"},{\"fillpattern\":{\"shape\":\"\"},\"hovertemplate\":\"Marca=Tivoni\\u003cbr\\u003eCategoria=%{x}\\u003cbr\\u003eDesconto=%{y}\\u003cextra\\u003e\\u003c\\u002fextra\\u003e\",\"legendgroup\":\"Tivoni\",\"line\":{\"color\":\"#00cc96\"},\"marker\":{\"symbol\":\"circle\"},\"mode\":\"lines\",\"name\":\"Tivoni\",\"orientation\":\"v\",\"showlegend\":true,\"stackgroup\":\"1\",\"x\":[\"congelados\"],\"xaxis\":\"x\",\"y\":[0],\"yaxis\":\"y\",\"type\":\"scatter\"},{\"fillpattern\":{\"shape\":\"\"},\"hovertemplate\":\"Marca=Bellekiss\\u003cbr\\u003eCategoria=%{x}\\u003cbr\\u003eDesconto=%{y}\\u003cextra\\u003e\\u003c\\u002fextra\\u003e\",\"legendgroup\":\"Bellekiss\",\"line\":{\"color\":\"#ab63fa\"},\"marker\":{\"symbol\":\"circle\"},\"mode\":\"lines\",\"name\":\"Bellekiss\",\"orientation\":\"v\",\"showlegend\":true,\"stackgroup\":\"1\",\"x\":[\"beleza-e-cuidado-pessoal\",\"beleza-e-cuidado-pessoal\",\"beleza-e-cuidado-pessoal\",\"beleza-e-cuidado-pessoal\"],\"xaxis\":\"x\",\"y\":[0,0,0,0],\"yaxis\":\"y\",\"type\":\"scatter\"},{\"fillpattern\":{\"shape\":\"\"},\"hovertemplate\":\"Marca=Frutos Del Maipo\\u003cbr\\u003eCategoria=%{x}\\u003cbr\\u003eDesconto=%{y}\\u003cextra\\u003e\\u003c\\u002fextra\\u003e\",\"legendgroup\":\"Frutos Del Maipo\",\"line\":{\"color\":\"#FFA15A\"},\"marker\":{\"symbol\":\"circle\"},\"mode\":\"lines\",\"name\":\"Frutos Del Maipo\",\"orientation\":\"v\",\"showlegend\":true,\"stackgroup\":\"1\",\"x\":[\"congelados\",\"congelados\",\"congelados\",\"congelados\",\"congelados\",\"congelados\",\"congelados\",\"congelados\",\"congelados\",\"congelados\",\"congelados\",\"congelados\",\"congelados\",\"congelados\",\"congelados\"],\"xaxis\":\"x\",\"y\":[0,0,0,0,0,0,0,0,0,279,329,329,369,369,369],\"yaxis\":\"y\",\"type\":\"scatter\"},{\"fillpattern\":{\"shape\":\"\"},\"hovertemplate\":\"Marca=Linic\\u003cbr\\u003eCategoria=%{x}\\u003cbr\\u003eDesconto=%{y}\\u003cextra\\u003e\\u003c\\u002fextra\\u003e\",\"legendgroup\":\"Linic\",\"line\":{\"color\":\"#19d3f3\"},\"marker\":{\"symbol\":\"circle\"},\"mode\":\"lines\",\"name\":\"Linic\",\"orientation\":\"v\",\"showlegend\":true,\"stackgroup\":\"1\",\"x\":[\"beleza-e-cuidado-pessoal\"],\"xaxis\":\"x\",\"y\":[0],\"yaxis\":\"y\",\"type\":\"scatter\"},{\"fillpattern\":{\"shape\":\"\"},\"hovertemplate\":\"Marca=Fructis\\u003cbr\\u003eCategoria=%{x}\\u003cbr\\u003eDesconto=%{y}\\u003cextra\\u003e\\u003c\\u002fextra\\u003e\",\"legendgroup\":\"Fructis\",\"line\":{\"color\":\"#FF6692\"},\"marker\":{\"symbol\":\"circle\"},\"mode\":\"lines\",\"name\":\"Fructis\",\"orientation\":\"v\",\"showlegend\":true,\"stackgroup\":\"1\",\"x\":[\"beleza-e-cuidado-pessoal\",\"beleza-e-cuidado-pessoal\",\"beleza-e-cuidado-pessoal\",\"beleza-e-cuidado-pessoal\",\"beleza-e-cuidado-pessoal\",\"beleza-e-cuidado-pessoal\",\"beleza-e-cuidado-pessoal\",\"beleza-e-cuidado-pessoal\",\"beleza-e-cuidado-pessoal\"],\"xaxis\":\"x\",\"y\":[0,0,0,0,0,0,0,0,0],\"yaxis\":\"y\",\"type\":\"scatter\"},{\"fillpattern\":{\"shape\":\"\"},\"hovertemplate\":\"Marca=Oral-B\\u003cbr\\u003eCategoria=%{x}\\u003cbr\\u003eDesconto=%{y}\\u003cextra\\u003e\\u003c\\u002fextra\\u003e\",\"legendgroup\":\"Oral-B\",\"line\":{\"color\":\"#B6E880\"},\"marker\":{\"symbol\":\"circle\"},\"mode\":\"lines\",\"name\":\"Oral-B\",\"orientation\":\"v\",\"showlegend\":true,\"stackgroup\":\"1\",\"x\":[\"beleza-e-cuidado-pessoal\",\"beleza-e-cuidado-pessoal\",\"beleza-e-cuidado-pessoal\",\"beleza-e-cuidado-pessoal\",\"beleza-e-cuidado-pessoal\",\"beleza-e-cuidado-pessoal\",\"beleza-e-cuidado-pessoal\",\"beleza-e-cuidado-pessoal\",\"beleza-e-cuidado-pessoal\"],\"xaxis\":\"x\",\"y\":[0,0,0,0,0,0,0,0,797],\"yaxis\":\"y\",\"type\":\"scatter\"},{\"fillpattern\":{\"shape\":\"\"},\"hovertemplate\":\"Marca=Base Culinar\\u003cbr\\u003eCategoria=%{x}\\u003cbr\\u003eDesconto=%{y}\\u003cextra\\u003e\\u003c\\u002fextra\\u003e\",\"legendgroup\":\"Base Culinar\",\"line\":{\"color\":\"#FF97FF\"},\"marker\":{\"symbol\":\"circle\"},\"mode\":\"lines\",\"name\":\"Base Culinar\",\"orientation\":\"v\",\"showlegend\":true,\"stackgroup\":\"1\",\"x\":[\"laticinios\"],\"xaxis\":\"x\",\"y\":[0],\"yaxis\":\"y\",\"type\":\"scatter\"},{\"fillpattern\":{\"shape\":\"\"},\"hovertemplate\":\"Marca=PF\\u003cbr\\u003eCategoria=%{x}\\u003cbr\\u003eDesconto=%{y}\\u003cextra\\u003e\\u003c\\u002fextra\\u003e\",\"legendgroup\":\"PF\",\"line\":{\"color\":\"#FECB52\"},\"marker\":{\"symbol\":\"circle\"},\"mode\":\"lines\",\"name\":\"PF\",\"orientation\":\"v\",\"showlegend\":true,\"stackgroup\":\"1\",\"x\":[\"comidas-preparadas\",\"comidas-preparadas\",\"comidas-preparadas\",\"comidas-preparadas\",\"comidas-preparadas\",\"comidas-preparadas\",\"congelados\",\"comidas-preparadas\",\"comidas-preparadas\",\"comidas-preparadas\",\"comidas-preparadas\"],\"xaxis\":\"x\",\"y\":[0,0,0,0,0,0,0,500,500,500,500],\"yaxis\":\"y\",\"type\":\"scatter\"},{\"fillpattern\":{\"shape\":\"\"},\"hovertemplate\":\"Marca=Nestl\\u00e9\\u003cbr\\u003eCategoria=%{x}\\u003cbr\\u003eDesconto=%{y}\\u003cextra\\u003e\\u003c\\u002fextra\\u003e\",\"legendgroup\":\"Nestl\\u00e9\",\"line\":{\"color\":\"#636efa\"},\"marker\":{\"symbol\":\"circle\"},\"mode\":\"lines\",\"name\":\"Nestl\\u00e9\",\"orientation\":\"v\",\"showlegend\":true,\"stackgroup\":\"1\",\"x\":[\"laticinios\",\"laticinios\",\"laticinios\",\"laticinios\",\"laticinios\",\"laticinios\",\"laticinios\",\"laticinios\",\"laticinios\",\"laticinios\",\"laticinios\",\"laticinios\",\"laticinios\",\"laticinios\",\"laticinios\",\"laticinios\",\"laticinios\",\"laticinios\",\"laticinios\",\"laticinios\",\"laticinios\",\"laticinios\",\"laticinios\",\"laticinios\",\"laticinios\",\"laticinios\",\"laticinios\",\"laticinios\",\"laticinios\",\"laticinios\",\"laticinios\",\"laticinios\",\"laticinios\",\"laticinios\",\"laticinios\",\"laticinios\",\"laticinios\",\"laticinios\",\"laticinios\",\"laticinios\",\"laticinios\",\"laticinios\",\"laticinios\"],\"xaxis\":\"x\",\"y\":[0,0,0,0,0,0,0,0,0,0,0,0,0,0,0,0,0,0,0,0,0,0,0,0,0,0,0,0,0,0,0,0,0,0,0,0,0,0,0,0,0,0,76],\"yaxis\":\"y\",\"type\":\"scatter\"},{\"fillpattern\":{\"shape\":\"\"},\"hovertemplate\":\"Marca=Chamyto\\u003cbr\\u003eCategoria=%{x}\\u003cbr\\u003eDesconto=%{y}\\u003cextra\\u003e\\u003c\\u002fextra\\u003e\",\"legendgroup\":\"Chamyto\",\"line\":{\"color\":\"#EF553B\"},\"marker\":{\"symbol\":\"circle\"},\"mode\":\"lines\",\"name\":\"Chamyto\",\"orientation\":\"v\",\"showlegend\":true,\"stackgroup\":\"1\",\"x\":[\"laticinios\",\"laticinios\",\"laticinios\"],\"xaxis\":\"x\",\"y\":[0,0,0],\"yaxis\":\"y\",\"type\":\"scatter\"},{\"fillpattern\":{\"shape\":\"\"},\"hovertemplate\":\"Marca=Zole\\u003cbr\\u003eCategoria=%{x}\\u003cbr\\u003eDesconto=%{y}\\u003cextra\\u003e\\u003c\\u002fextra\\u003e\",\"legendgroup\":\"Zole\",\"line\":{\"color\":\"#00cc96\"},\"marker\":{\"symbol\":\"circle\"},\"mode\":\"lines\",\"name\":\"Zole\",\"orientation\":\"v\",\"showlegend\":true,\"stackgroup\":\"1\",\"x\":[\"congelados\"],\"xaxis\":\"x\",\"y\":[0],\"yaxis\":\"y\",\"type\":\"scatter\"},{\"fillpattern\":{\"shape\":\"\"},\"hovertemplate\":\"Marca=Qualy\\u003cbr\\u003eCategoria=%{x}\\u003cbr\\u003eDesconto=%{y}\\u003cextra\\u003e\\u003c\\u002fextra\\u003e\",\"legendgroup\":\"Qualy\",\"line\":{\"color\":\"#ab63fa\"},\"marker\":{\"symbol\":\"circle\"},\"mode\":\"lines\",\"name\":\"Qualy\",\"orientation\":\"v\",\"showlegend\":true,\"stackgroup\":\"1\",\"x\":[\"laticinios\",\"laticinios\"],\"xaxis\":\"x\",\"y\":[0,0],\"yaxis\":\"y\",\"type\":\"scatter\"},{\"fillpattern\":{\"shape\":\"\"},\"hovertemplate\":\"Marca=M\\u00e1xima MP\\u003cbr\\u003eCategoria=%{x}\\u003cbr\\u003eDesconto=%{y}\\u003cextra\\u003e\\u003c\\u002fextra\\u003e\",\"legendgroup\":\"M\\u00e1xima MP\",\"line\":{\"color\":\"#FFA15A\"},\"marker\":{\"symbol\":\"circle\"},\"mode\":\"lines\",\"name\":\"M\\u00e1xima MP\",\"orientation\":\"v\",\"showlegend\":true,\"stackgroup\":\"1\",\"x\":[\"instantaneo-e-sopas\",\"laticinios\"],\"xaxis\":\"x\",\"y\":[0,0],\"yaxis\":\"y\",\"type\":\"scatter\"},{\"fillpattern\":{\"shape\":\"\"},\"hovertemplate\":\"Marca=Nesquik\\u003cbr\\u003eCategoria=%{x}\\u003cbr\\u003eDesconto=%{y}\\u003cextra\\u003e\\u003c\\u002fextra\\u003e\",\"legendgroup\":\"Nesquik\",\"line\":{\"color\":\"#19d3f3\"},\"marker\":{\"symbol\":\"circle\"},\"mode\":\"lines\",\"name\":\"Nesquik\",\"orientation\":\"v\",\"showlegend\":true,\"stackgroup\":\"1\",\"x\":[\"laticinios\",\"laticinios\"],\"xaxis\":\"x\",\"y\":[0,0],\"yaxis\":\"y\",\"type\":\"scatter\"},{\"fillpattern\":{\"shape\":\"\"},\"hovertemplate\":\"Marca=Carefree\\u003cbr\\u003eCategoria=%{x}\\u003cbr\\u003eDesconto=%{y}\\u003cextra\\u003e\\u003c\\u002fextra\\u003e\",\"legendgroup\":\"Carefree\",\"line\":{\"color\":\"#FF6692\"},\"marker\":{\"symbol\":\"circle\"},\"mode\":\"lines\",\"name\":\"Carefree\",\"orientation\":\"v\",\"showlegend\":true,\"stackgroup\":\"1\",\"x\":[\"beleza-e-cuidado-pessoal\",\"beleza-e-cuidado-pessoal\",\"beleza-e-cuidado-pessoal\"],\"xaxis\":\"x\",\"y\":[0,0,0],\"yaxis\":\"y\",\"type\":\"scatter\"},{\"fillpattern\":{\"shape\":\"\"},\"hovertemplate\":\"Marca=Nosotras\\u003cbr\\u003eCategoria=%{x}\\u003cbr\\u003eDesconto=%{y}\\u003cextra\\u003e\\u003c\\u002fextra\\u003e\",\"legendgroup\":\"Nosotras\",\"line\":{\"color\":\"#B6E880\"},\"marker\":{\"symbol\":\"circle\"},\"mode\":\"lines\",\"name\":\"Nosotras\",\"orientation\":\"v\",\"showlegend\":true,\"stackgroup\":\"1\",\"x\":[\"beleza-e-cuidado-pessoal\",\"beleza-e-cuidado-pessoal\",\"beleza-e-cuidado-pessoal\",\"beleza-e-cuidado-pessoal\",\"beleza-e-cuidado-pessoal\",\"beleza-e-cuidado-pessoal\",\"beleza-e-cuidado-pessoal\",\"beleza-e-cuidado-pessoal\",\"beleza-e-cuidado-pessoal\",\"beleza-e-cuidado-pessoal\",\"beleza-e-cuidado-pessoal\"],\"xaxis\":\"x\",\"y\":[0,0,0,0,0,0,0,0,0,458,680],\"yaxis\":\"y\",\"type\":\"scatter\"},{\"fillpattern\":{\"shape\":\"\"},\"hovertemplate\":\"Marca=Gillette\\u003cbr\\u003eCategoria=%{x}\\u003cbr\\u003eDesconto=%{y}\\u003cextra\\u003e\\u003c\\u002fextra\\u003e\",\"legendgroup\":\"Gillette\",\"line\":{\"color\":\"#FF97FF\"},\"marker\":{\"symbol\":\"circle\"},\"mode\":\"lines\",\"name\":\"Gillette\",\"orientation\":\"v\",\"showlegend\":true,\"stackgroup\":\"1\",\"x\":[\"beleza-e-cuidado-pessoal\",\"beleza-e-cuidado-pessoal\"],\"xaxis\":\"x\",\"y\":[0,0],\"yaxis\":\"y\",\"type\":\"scatter\"},{\"fillpattern\":{\"shape\":\"\"},\"hovertemplate\":\"Marca=Alimentos Shen\\u003cbr\\u003eCategoria=%{x}\\u003cbr\\u003eDesconto=%{y}\\u003cextra\\u003e\\u003c\\u002fextra\\u003e\",\"legendgroup\":\"Alimentos Shen\",\"line\":{\"color\":\"#FECB52\"},\"marker\":{\"symbol\":\"circle\"},\"mode\":\"lines\",\"name\":\"Alimentos Shen\",\"orientation\":\"v\",\"showlegend\":true,\"stackgroup\":\"1\",\"x\":[\"congelados\",\"congelados\"],\"xaxis\":\"x\",\"y\":[0,0],\"yaxis\":\"y\",\"type\":\"scatter\"},{\"fillpattern\":{\"shape\":\"\"},\"hovertemplate\":\"Marca=Ladysoft\\u003cbr\\u003eCategoria=%{x}\\u003cbr\\u003eDesconto=%{y}\\u003cextra\\u003e\\u003c\\u002fextra\\u003e\",\"legendgroup\":\"Ladysoft\",\"line\":{\"color\":\"#636efa\"},\"marker\":{\"symbol\":\"circle\"},\"mode\":\"lines\",\"name\":\"Ladysoft\",\"orientation\":\"v\",\"showlegend\":true,\"stackgroup\":\"1\",\"x\":[\"beleza-e-cuidado-pessoal\",\"beleza-e-cuidado-pessoal\",\"beleza-e-cuidado-pessoal\",\"beleza-e-cuidado-pessoal\",\"beleza-e-cuidado-pessoal\",\"beleza-e-cuidado-pessoal\"],\"xaxis\":\"x\",\"y\":[0,0,0,0,0,569],\"yaxis\":\"y\",\"type\":\"scatter\"},{\"fillpattern\":{\"shape\":\"\"},\"hovertemplate\":\"Marca=Dove\\u003cbr\\u003eCategoria=%{x}\\u003cbr\\u003eDesconto=%{y}\\u003cextra\\u003e\\u003c\\u002fextra\\u003e\",\"legendgroup\":\"Dove\",\"line\":{\"color\":\"#EF553B\"},\"marker\":{\"symbol\":\"circle\"},\"mode\":\"lines\",\"name\":\"Dove\",\"orientation\":\"v\",\"showlegend\":true,\"stackgroup\":\"1\",\"x\":[\"beleza-e-cuidado-pessoal\",\"beleza-e-cuidado-pessoal\",\"beleza-e-cuidado-pessoal\",\"beleza-e-cuidado-pessoal\",\"beleza-e-cuidado-pessoal\",\"beleza-e-cuidado-pessoal\",\"beleza-e-cuidado-pessoal\",\"beleza-e-cuidado-pessoal\",\"beleza-e-cuidado-pessoal\",\"beleza-e-cuidado-pessoal\",\"beleza-e-cuidado-pessoal\",\"beleza-e-cuidado-pessoal\",\"beleza-e-cuidado-pessoal\",\"beleza-e-cuidado-pessoal\",\"beleza-e-cuidado-pessoal\"],\"xaxis\":\"x\",\"y\":[0,0,0,0,0,0,0,0,460,890,890,890,1000,1159,1159],\"yaxis\":\"y\",\"type\":\"scatter\"},{\"fillpattern\":{\"shape\":\"\"},\"hovertemplate\":\"Marca=Kotex\\u003cbr\\u003eCategoria=%{x}\\u003cbr\\u003eDesconto=%{y}\\u003cextra\\u003e\\u003c\\u002fextra\\u003e\",\"legendgroup\":\"Kotex\",\"line\":{\"color\":\"#00cc96\"},\"marker\":{\"symbol\":\"circle\"},\"mode\":\"lines\",\"name\":\"Kotex\",\"orientation\":\"v\",\"showlegend\":true,\"stackgroup\":\"1\",\"x\":[\"beleza-e-cuidado-pessoal\",\"beleza-e-cuidado-pessoal\",\"beleza-e-cuidado-pessoal\",\"beleza-e-cuidado-pessoal\",\"beleza-e-cuidado-pessoal\",\"beleza-e-cuidado-pessoal\"],\"xaxis\":\"x\",\"y\":[0,0,0,0,0,331],\"yaxis\":\"y\",\"type\":\"scatter\"},{\"fillpattern\":{\"shape\":\"\"},\"hovertemplate\":\"Marca=Dove Men\\u003cbr\\u003eCategoria=%{x}\\u003cbr\\u003eDesconto=%{y}\\u003cextra\\u003e\\u003c\\u002fextra\\u003e\",\"legendgroup\":\"Dove Men\",\"line\":{\"color\":\"#ab63fa\"},\"marker\":{\"symbol\":\"circle\"},\"mode\":\"lines\",\"name\":\"Dove Men\",\"orientation\":\"v\",\"showlegend\":true,\"stackgroup\":\"1\",\"x\":[\"beleza-e-cuidado-pessoal\",\"beleza-e-cuidado-pessoal\",\"beleza-e-cuidado-pessoal\",\"beleza-e-cuidado-pessoal\"],\"xaxis\":\"x\",\"y\":[0,0,0,1009],\"yaxis\":\"y\",\"type\":\"scatter\"},{\"fillpattern\":{\"shape\":\"\"},\"hovertemplate\":\"Marca=Aquafresh\\u003cbr\\u003eCategoria=%{x}\\u003cbr\\u003eDesconto=%{y}\\u003cextra\\u003e\\u003c\\u002fextra\\u003e\",\"legendgroup\":\"Aquafresh\",\"line\":{\"color\":\"#FFA15A\"},\"marker\":{\"symbol\":\"circle\"},\"mode\":\"lines\",\"name\":\"Aquafresh\",\"orientation\":\"v\",\"showlegend\":true,\"stackgroup\":\"1\",\"x\":[\"beleza-e-cuidado-pessoal\",\"beleza-e-cuidado-pessoal\",\"beleza-e-cuidado-pessoal\"],\"xaxis\":\"x\",\"y\":[0,636,698],\"yaxis\":\"y\",\"type\":\"scatter\"},{\"fillpattern\":{\"shape\":\"\"},\"hovertemplate\":\"Marca=Danone\\u003cbr\\u003eCategoria=%{x}\\u003cbr\\u003eDesconto=%{y}\\u003cextra\\u003e\\u003c\\u002fextra\\u003e\",\"legendgroup\":\"Danone\",\"line\":{\"color\":\"#19d3f3\"},\"marker\":{\"symbol\":\"circle\"},\"mode\":\"lines\",\"name\":\"Danone\",\"orientation\":\"v\",\"showlegend\":true,\"stackgroup\":\"1\",\"x\":[\"laticinios\",\"laticinios\",\"laticinios\",\"laticinios\",\"laticinios\",\"laticinios\",\"laticinios\",\"laticinios\",\"laticinios\"],\"xaxis\":\"x\",\"y\":[0,0,0,0,0,0,0,0,0],\"yaxis\":\"y\",\"type\":\"scatter\"},{\"fillpattern\":{\"shape\":\"\"},\"hovertemplate\":\"Marca=Cotosan\\u003cbr\\u003eCategoria=%{x}\\u003cbr\\u003eDesconto=%{y}\\u003cextra\\u003e\\u003c\\u002fextra\\u003e\",\"legendgroup\":\"Cotosan\",\"line\":{\"color\":\"#FF6692\"},\"marker\":{\"symbol\":\"circle\"},\"mode\":\"lines\",\"name\":\"Cotosan\",\"orientation\":\"v\",\"showlegend\":true,\"stackgroup\":\"1\",\"x\":[\"beleza-e-cuidado-pessoal\"],\"xaxis\":\"x\",\"y\":[0],\"yaxis\":\"y\",\"type\":\"scatter\"},{\"fillpattern\":{\"shape\":\"\"},\"hovertemplate\":\"Marca=Cintazul\\u003cbr\\u003eCategoria=%{x}\\u003cbr\\u003eDesconto=%{y}\\u003cextra\\u003e\\u003c\\u002fextra\\u003e\",\"legendgroup\":\"Cintazul\",\"line\":{\"color\":\"#B6E880\"},\"marker\":{\"symbol\":\"circle\"},\"mode\":\"lines\",\"name\":\"Cintazul\",\"orientation\":\"v\",\"showlegend\":true,\"stackgroup\":\"1\",\"x\":[\"laticinios\",\"laticinios\",\"laticinios\",\"laticinios\",\"laticinios\"],\"xaxis\":\"x\",\"y\":[0,0,0,0,0],\"yaxis\":\"y\",\"type\":\"scatter\"},{\"fillpattern\":{\"shape\":\"\"},\"hovertemplate\":\"Marca=Signore Mario\\u003cbr\\u003eCategoria=%{x}\\u003cbr\\u003eDesconto=%{y}\\u003cextra\\u003e\\u003c\\u002fextra\\u003e\",\"legendgroup\":\"Signore Mario\",\"line\":{\"color\":\"#FF97FF\"},\"marker\":{\"symbol\":\"circle\"},\"mode\":\"lines\",\"name\":\"Signore Mario\",\"orientation\":\"v\",\"showlegend\":true,\"stackgroup\":\"1\",\"x\":[\"laticinios\"],\"xaxis\":\"x\",\"y\":[0],\"yaxis\":\"y\",\"type\":\"scatter\"},{\"fillpattern\":{\"shape\":\"\"},\"hovertemplate\":\"Marca=Chiquit\\u00edn\\u003cbr\\u003eCategoria=%{x}\\u003cbr\\u003eDesconto=%{y}\\u003cextra\\u003e\\u003c\\u002fextra\\u003e\",\"legendgroup\":\"Chiquit\\u00edn\",\"line\":{\"color\":\"#FECB52\"},\"marker\":{\"symbol\":\"circle\"},\"mode\":\"lines\",\"name\":\"Chiquit\\u00edn\",\"orientation\":\"v\",\"showlegend\":true,\"stackgroup\":\"1\",\"x\":[\"laticinios\"],\"xaxis\":\"x\",\"y\":[0],\"yaxis\":\"y\",\"type\":\"scatter\"},{\"fillpattern\":{\"shape\":\"\"},\"hovertemplate\":\"Marca=San Ignacio\\u003cbr\\u003eCategoria=%{x}\\u003cbr\\u003eDesconto=%{y}\\u003cextra\\u003e\\u003c\\u002fextra\\u003e\",\"legendgroup\":\"San Ignacio\",\"line\":{\"color\":\"#636efa\"},\"marker\":{\"symbol\":\"circle\"},\"mode\":\"lines\",\"name\":\"San Ignacio\",\"orientation\":\"v\",\"showlegend\":true,\"stackgroup\":\"1\",\"x\":[\"laticinios\"],\"xaxis\":\"x\",\"y\":[0],\"yaxis\":\"y\",\"type\":\"scatter\"},{\"fillpattern\":{\"shape\":\"\"},\"hovertemplate\":\"Marca=Lady Speed Stick\\u003cbr\\u003eCategoria=%{x}\\u003cbr\\u003eDesconto=%{y}\\u003cextra\\u003e\\u003c\\u002fextra\\u003e\",\"legendgroup\":\"Lady Speed Stick\",\"line\":{\"color\":\"#EF553B\"},\"marker\":{\"symbol\":\"circle\"},\"mode\":\"lines\",\"name\":\"Lady Speed Stick\",\"orientation\":\"v\",\"showlegend\":true,\"stackgroup\":\"1\",\"x\":[\"beleza-e-cuidado-pessoal\",\"beleza-e-cuidado-pessoal\",\"beleza-e-cuidado-pessoal\"],\"xaxis\":\"x\",\"y\":[0,0,0],\"yaxis\":\"y\",\"type\":\"scatter\"},{\"fillpattern\":{\"shape\":\"\"},\"hovertemplate\":\"Marca=Speed Stick\\u003cbr\\u003eCategoria=%{x}\\u003cbr\\u003eDesconto=%{y}\\u003cextra\\u003e\\u003c\\u002fextra\\u003e\",\"legendgroup\":\"Speed Stick\",\"line\":{\"color\":\"#00cc96\"},\"marker\":{\"symbol\":\"circle\"},\"mode\":\"lines\",\"name\":\"Speed Stick\",\"orientation\":\"v\",\"showlegend\":true,\"stackgroup\":\"1\",\"x\":[\"beleza-e-cuidado-pessoal\",\"beleza-e-cuidado-pessoal\"],\"xaxis\":\"x\",\"y\":[0,0],\"yaxis\":\"y\",\"type\":\"scatter\"},{\"fillpattern\":{\"shape\":\"\"},\"hovertemplate\":\"Marca=Kumey\\u003cbr\\u003eCategoria=%{x}\\u003cbr\\u003eDesconto=%{y}\\u003cextra\\u003e\\u003c\\u002fextra\\u003e\",\"legendgroup\":\"Kumey\",\"line\":{\"color\":\"#ab63fa\"},\"marker\":{\"symbol\":\"circle\"},\"mode\":\"lines\",\"name\":\"Kumey\",\"orientation\":\"v\",\"showlegend\":true,\"stackgroup\":\"1\",\"x\":[\"laticinios\"],\"xaxis\":\"x\",\"y\":[0],\"yaxis\":\"y\",\"type\":\"scatter\"},{\"fillpattern\":{\"shape\":\"\"},\"hovertemplate\":\"Marca=Shake A Shake Lonco Leche\\u003cbr\\u003eCategoria=%{x}\\u003cbr\\u003eDesconto=%{y}\\u003cextra\\u003e\\u003c\\u002fextra\\u003e\",\"legendgroup\":\"Shake A Shake Lonco Leche\",\"line\":{\"color\":\"#FFA15A\"},\"marker\":{\"symbol\":\"circle\"},\"mode\":\"lines\",\"name\":\"Shake A Shake Lonco Leche\",\"orientation\":\"v\",\"showlegend\":true,\"stackgroup\":\"1\",\"x\":[\"laticinios\",\"laticinios\"],\"xaxis\":\"x\",\"y\":[0,0],\"yaxis\":\"y\",\"type\":\"scatter\"},{\"fillpattern\":{\"shape\":\"\"},\"hovertemplate\":\"Marca=Yogu - Yogu\\u003cbr\\u003eCategoria=%{x}\\u003cbr\\u003eDesconto=%{y}\\u003cextra\\u003e\\u003c\\u002fextra\\u003e\",\"legendgroup\":\"Yogu - Yogu\",\"line\":{\"color\":\"#19d3f3\"},\"marker\":{\"symbol\":\"circle\"},\"mode\":\"lines\",\"name\":\"Yogu - Yogu\",\"orientation\":\"v\",\"showlegend\":true,\"stackgroup\":\"1\",\"x\":[\"laticinios\",\"laticinios\",\"laticinios\",\"laticinios\",\"laticinios\",\"laticinios\",\"laticinios\",\"laticinios\"],\"xaxis\":\"x\",\"y\":[0,0,0,0,0,0,0,0],\"yaxis\":\"y\",\"type\":\"scatter\"},{\"fillpattern\":{\"shape\":\"\"},\"hovertemplate\":\"Marca=Pamperita\\u003cbr\\u003eCategoria=%{x}\\u003cbr\\u003eDesconto=%{y}\\u003cextra\\u003e\\u003c\\u002fextra\\u003e\",\"legendgroup\":\"Pamperita\",\"line\":{\"color\":\"#FF6692\"},\"marker\":{\"symbol\":\"circle\"},\"mode\":\"lines\",\"name\":\"Pamperita\",\"orientation\":\"v\",\"showlegend\":true,\"stackgroup\":\"1\",\"x\":[\"laticinios\"],\"xaxis\":\"x\",\"y\":[0],\"yaxis\":\"y\",\"type\":\"scatter\"},{\"fillpattern\":{\"shape\":\"\"},\"hovertemplate\":\"Marca=Omega 3\\u003cbr\\u003eCategoria=%{x}\\u003cbr\\u003eDesconto=%{y}\\u003cextra\\u003e\\u003c\\u002fextra\\u003e\",\"legendgroup\":\"Omega 3\",\"line\":{\"color\":\"#B6E880\"},\"marker\":{\"symbol\":\"circle\"},\"mode\":\"lines\",\"name\":\"Omega 3\",\"orientation\":\"v\",\"showlegend\":true,\"stackgroup\":\"1\",\"x\":[\"laticinios\",\"laticinios\"],\"xaxis\":\"x\",\"y\":[0,0],\"yaxis\":\"y\",\"type\":\"scatter\"},{\"fillpattern\":{\"shape\":\"\"},\"hovertemplate\":\"Marca=Always\\u003cbr\\u003eCategoria=%{x}\\u003cbr\\u003eDesconto=%{y}\\u003cextra\\u003e\\u003c\\u002fextra\\u003e\",\"legendgroup\":\"Always\",\"line\":{\"color\":\"#FF97FF\"},\"marker\":{\"symbol\":\"circle\"},\"mode\":\"lines\",\"name\":\"Always\",\"orientation\":\"v\",\"showlegend\":true,\"stackgroup\":\"1\",\"x\":[\"beleza-e-cuidado-pessoal\",\"beleza-e-cuidado-pessoal\",\"beleza-e-cuidado-pessoal\",\"beleza-e-cuidado-pessoal\"],\"xaxis\":\"x\",\"y\":[0,0,0,495],\"yaxis\":\"y\",\"type\":\"scatter\"},{\"fillpattern\":{\"shape\":\"\"},\"hovertemplate\":\"Marca=Le Sancy\\u003cbr\\u003eCategoria=%{x}\\u003cbr\\u003eDesconto=%{y}\\u003cextra\\u003e\\u003c\\u002fextra\\u003e\",\"legendgroup\":\"Le Sancy\",\"line\":{\"color\":\"#FECB52\"},\"marker\":{\"symbol\":\"circle\"},\"mode\":\"lines\",\"name\":\"Le Sancy\",\"orientation\":\"v\",\"showlegend\":true,\"stackgroup\":\"1\",\"x\":[\"beleza-e-cuidado-pessoal\",\"beleza-e-cuidado-pessoal\",\"beleza-e-cuidado-pessoal\",\"beleza-e-cuidado-pessoal\"],\"xaxis\":\"x\",\"y\":[0,0,0,0],\"yaxis\":\"y\",\"type\":\"scatter\"},{\"fillpattern\":{\"shape\":\"\"},\"hovertemplate\":\"Marca=Quillayes\\u003cbr\\u003eCategoria=%{x}\\u003cbr\\u003eDesconto=%{y}\\u003cextra\\u003e\\u003c\\u002fextra\\u003e\",\"legendgroup\":\"Quillayes\",\"line\":{\"color\":\"#636efa\"},\"marker\":{\"symbol\":\"circle\"},\"mode\":\"lines\",\"name\":\"Quillayes\",\"orientation\":\"v\",\"showlegend\":true,\"stackgroup\":\"1\",\"x\":[\"laticinios\",\"laticinios\",\"laticinios\",\"laticinios\",\"laticinios\",\"laticinios\",\"laticinios\",\"laticinios\",\"laticinios\",\"laticinios\"],\"xaxis\":\"x\",\"y\":[0,0,0,0,0,0,0,0,0,0],\"yaxis\":\"y\",\"type\":\"scatter\"},{\"fillpattern\":{\"shape\":\"\"},\"hovertemplate\":\"Marca=Pepsodent\\u003cbr\\u003eCategoria=%{x}\\u003cbr\\u003eDesconto=%{y}\\u003cextra\\u003e\\u003c\\u002fextra\\u003e\",\"legendgroup\":\"Pepsodent\",\"line\":{\"color\":\"#EF553B\"},\"marker\":{\"symbol\":\"circle\"},\"mode\":\"lines\",\"name\":\"Pepsodent\",\"orientation\":\"v\",\"showlegend\":true,\"stackgroup\":\"1\",\"x\":[\"beleza-e-cuidado-pessoal\",\"beleza-e-cuidado-pessoal\",\"beleza-e-cuidado-pessoal\"],\"xaxis\":\"x\",\"y\":[0,189,844],\"yaxis\":\"y\",\"type\":\"scatter\"},{\"fillpattern\":{\"shape\":\"\"},\"hovertemplate\":\"Marca=Protex\\u003cbr\\u003eCategoria=%{x}\\u003cbr\\u003eDesconto=%{y}\\u003cextra\\u003e\\u003c\\u002fextra\\u003e\",\"legendgroup\":\"Protex\",\"line\":{\"color\":\"#00cc96\"},\"marker\":{\"symbol\":\"circle\"},\"mode\":\"lines\",\"name\":\"Protex\",\"orientation\":\"v\",\"showlegend\":true,\"stackgroup\":\"1\",\"x\":[\"beleza-e-cuidado-pessoal\",\"beleza-e-cuidado-pessoal\"],\"xaxis\":\"x\",\"y\":[0,609],\"yaxis\":\"y\",\"type\":\"scatter\"},{\"fillpattern\":{\"shape\":\"\"},\"hovertemplate\":\"Marca=Bonella\\u003cbr\\u003eCategoria=%{x}\\u003cbr\\u003eDesconto=%{y}\\u003cextra\\u003e\\u003c\\u002fextra\\u003e\",\"legendgroup\":\"Bonella\",\"line\":{\"color\":\"#ab63fa\"},\"marker\":{\"symbol\":\"circle\"},\"mode\":\"lines\",\"name\":\"Bonella\",\"orientation\":\"v\",\"showlegend\":true,\"stackgroup\":\"1\",\"x\":[\"laticinios\",\"laticinios\",\"laticinios\"],\"xaxis\":\"x\",\"y\":[0,0,0],\"yaxis\":\"y\",\"type\":\"scatter\"},{\"fillpattern\":{\"shape\":\"\"},\"hovertemplate\":\"Marca=Santa Marta\\u003cbr\\u003eCategoria=%{x}\\u003cbr\\u003eDesconto=%{y}\\u003cextra\\u003e\\u003c\\u002fextra\\u003e\",\"legendgroup\":\"Santa Marta\",\"line\":{\"color\":\"#FFA15A\"},\"marker\":{\"symbol\":\"circle\"},\"mode\":\"lines\",\"name\":\"Santa Marta\",\"orientation\":\"v\",\"showlegend\":true,\"stackgroup\":\"1\",\"x\":[\"laticinios\",\"laticinios\"],\"xaxis\":\"x\",\"y\":[0,299],\"yaxis\":\"y\",\"type\":\"scatter\"},{\"fillpattern\":{\"shape\":\"\"},\"hovertemplate\":\"Marca=Dento\\u003cbr\\u003eCategoria=%{x}\\u003cbr\\u003eDesconto=%{y}\\u003cextra\\u003e\\u003c\\u002fextra\\u003e\",\"legendgroup\":\"Dento\",\"line\":{\"color\":\"#19d3f3\"},\"marker\":{\"symbol\":\"circle\"},\"mode\":\"lines\",\"name\":\"Dento\",\"orientation\":\"v\",\"showlegend\":true,\"stackgroup\":\"1\",\"x\":[\"beleza-e-cuidado-pessoal\",\"beleza-e-cuidado-pessoal\",\"beleza-e-cuidado-pessoal\"],\"xaxis\":\"x\",\"y\":[0,0,0],\"yaxis\":\"y\",\"type\":\"scatter\"},{\"fillpattern\":{\"shape\":\"\"},\"hovertemplate\":\"Marca=Ilicit\\u003cbr\\u003eCategoria=%{x}\\u003cbr\\u003eDesconto=%{y}\\u003cextra\\u003e\\u003c\\u002fextra\\u003e\",\"legendgroup\":\"Ilicit\",\"line\":{\"color\":\"#FF6692\"},\"marker\":{\"symbol\":\"circle\"},\"mode\":\"lines\",\"name\":\"Ilicit\",\"orientation\":\"v\",\"showlegend\":true,\"stackgroup\":\"1\",\"x\":[\"beleza-e-cuidado-pessoal\"],\"xaxis\":\"x\",\"y\":[0],\"yaxis\":\"y\",\"type\":\"scatter\"},{\"fillpattern\":{\"shape\":\"\"},\"hovertemplate\":\"Marca=Corbac\\u003cbr\\u003eCategoria=%{x}\\u003cbr\\u003eDesconto=%{y}\\u003cextra\\u003e\\u003c\\u002fextra\\u003e\",\"legendgroup\":\"Corbac\",\"line\":{\"color\":\"#B6E880\"},\"marker\":{\"symbol\":\"circle\"},\"mode\":\"lines\",\"name\":\"Corbac\",\"orientation\":\"v\",\"showlegend\":true,\"stackgroup\":\"1\",\"x\":[\"comidas-preparadas\",\"comidas-preparadas\"],\"xaxis\":\"x\",\"y\":[0,0],\"yaxis\":\"y\",\"type\":\"scatter\"},{\"fillpattern\":{\"shape\":\"\"},\"hovertemplate\":\"Marca=Santa Isabel\\u003cbr\\u003eCategoria=%{x}\\u003cbr\\u003eDesconto=%{y}\\u003cextra\\u003e\\u003c\\u002fextra\\u003e\",\"legendgroup\":\"Santa Isabel\",\"line\":{\"color\":\"#FF97FF\"},\"marker\":{\"symbol\":\"circle\"},\"mode\":\"lines\",\"name\":\"Santa Isabel\",\"orientation\":\"v\",\"showlegend\":true,\"stackgroup\":\"1\",\"x\":[\"comidas-preparadas\",\"laticinios\",\"instantaneo-e-sopas\",\"instantaneo-e-sopas\",\"instantaneo-e-sopas\",\"instantaneo-e-sopas\",\"instantaneo-e-sopas\"],\"xaxis\":\"x\",\"y\":[0,0,0,0,0,0,0],\"yaxis\":\"y\",\"type\":\"scatter\"},{\"fillpattern\":{\"shape\":\"\"},\"hovertemplate\":\"Marca=Lefersa\\u003cbr\\u003eCategoria=%{x}\\u003cbr\\u003eDesconto=%{y}\\u003cextra\\u003e\\u003c\\u002fextra\\u003e\",\"legendgroup\":\"Lefersa\",\"line\":{\"color\":\"#FECB52\"},\"marker\":{\"symbol\":\"circle\"},\"mode\":\"lines\",\"name\":\"Lefersa\",\"orientation\":\"v\",\"showlegend\":true,\"stackgroup\":\"1\",\"x\":[\"laticinios\",\"laticinios\"],\"xaxis\":\"x\",\"y\":[0,0],\"yaxis\":\"y\",\"type\":\"scatter\"},{\"fillpattern\":{\"shape\":\"\"},\"hovertemplate\":\"Marca=Rik\\u00fc\\u003cbr\\u003eCategoria=%{x}\\u003cbr\\u003eDesconto=%{y}\\u003cextra\\u003e\\u003c\\u002fextra\\u003e\",\"legendgroup\":\"Rik\\u00fc\",\"line\":{\"color\":\"#636efa\"},\"marker\":{\"symbol\":\"circle\"},\"mode\":\"lines\",\"name\":\"Rik\\u00fc\",\"orientation\":\"v\",\"showlegend\":true,\"stackgroup\":\"1\",\"x\":[\"congelados\",\"congelados\",\"congelados\"],\"xaxis\":\"x\",\"y\":[0,0,0],\"yaxis\":\"y\",\"type\":\"scatter\"},{\"fillpattern\":{\"shape\":\"\"},\"hovertemplate\":\"Marca=Los Alerces\\u003cbr\\u003eCategoria=%{x}\\u003cbr\\u003eDesconto=%{y}\\u003cextra\\u003e\\u003c\\u002fextra\\u003e\",\"legendgroup\":\"Los Alerces\",\"line\":{\"color\":\"#EF553B\"},\"marker\":{\"symbol\":\"circle\"},\"mode\":\"lines\",\"name\":\"Los Alerces\",\"orientation\":\"v\",\"showlegend\":true,\"stackgroup\":\"1\",\"x\":[\"laticinios\",\"laticinios\"],\"xaxis\":\"x\",\"y\":[0,0],\"yaxis\":\"y\",\"type\":\"scatter\"},{\"fillpattern\":{\"shape\":\"\"},\"hovertemplate\":\"Marca=Zerolacto\\u003cbr\\u003eCategoria=%{x}\\u003cbr\\u003eDesconto=%{y}\\u003cextra\\u003e\\u003c\\u002fextra\\u003e\",\"legendgroup\":\"Zerolacto\",\"line\":{\"color\":\"#00cc96\"},\"marker\":{\"symbol\":\"circle\"},\"mode\":\"lines\",\"name\":\"Zerolacto\",\"orientation\":\"v\",\"showlegend\":true,\"stackgroup\":\"1\",\"x\":[\"laticinios\",\"laticinios\",\"laticinios\",\"laticinios\"],\"xaxis\":\"x\",\"y\":[0,0,0,0],\"yaxis\":\"y\",\"type\":\"scatter\"},{\"fillpattern\":{\"shape\":\"\"},\"hovertemplate\":\"Marca=Activia\\u003cbr\\u003eCategoria=%{x}\\u003cbr\\u003eDesconto=%{y}\\u003cextra\\u003e\\u003c\\u002fextra\\u003e\",\"legendgroup\":\"Activia\",\"line\":{\"color\":\"#ab63fa\"},\"marker\":{\"symbol\":\"circle\"},\"mode\":\"lines\",\"name\":\"Activia\",\"orientation\":\"v\",\"showlegend\":true,\"stackgroup\":\"1\",\"x\":[\"laticinios\",\"laticinios\",\"laticinios\",\"laticinios\",\"laticinios\",\"laticinios\"],\"xaxis\":\"x\",\"y\":[0,0,0,0,0,0],\"yaxis\":\"y\",\"type\":\"scatter\"},{\"fillpattern\":{\"shape\":\"\"},\"hovertemplate\":\"Marca=Schick\\u003cbr\\u003eCategoria=%{x}\\u003cbr\\u003eDesconto=%{y}\\u003cextra\\u003e\\u003c\\u002fextra\\u003e\",\"legendgroup\":\"Schick\",\"line\":{\"color\":\"#FFA15A\"},\"marker\":{\"symbol\":\"circle\"},\"mode\":\"lines\",\"name\":\"Schick\",\"orientation\":\"v\",\"showlegend\":true,\"stackgroup\":\"1\",\"x\":[\"beleza-e-cuidado-pessoal\"],\"xaxis\":\"x\",\"y\":[0],\"yaxis\":\"y\",\"type\":\"scatter\"},{\"fillpattern\":{\"shape\":\"\"},\"hovertemplate\":\"Marca=Simond'S\\u003cbr\\u003eCategoria=%{x}\\u003cbr\\u003eDesconto=%{y}\\u003cextra\\u003e\\u003c\\u002fextra\\u003e\",\"legendgroup\":\"Simond'S\",\"line\":{\"color\":\"#19d3f3\"},\"marker\":{\"symbol\":\"circle\"},\"mode\":\"lines\",\"name\":\"Simond'S\",\"orientation\":\"v\",\"showlegend\":true,\"stackgroup\":\"1\",\"x\":[\"beleza-e-cuidado-pessoal\",\"beleza-e-cuidado-pessoal\",\"beleza-e-cuidado-pessoal\",\"beleza-e-cuidado-pessoal\",\"beleza-e-cuidado-pessoal\",\"beleza-e-cuidado-pessoal\",\"beleza-e-cuidado-pessoal\",\"beleza-e-cuidado-pessoal\"],\"xaxis\":\"x\",\"y\":[0,0,0,0,0,0,0,0],\"yaxis\":\"y\",\"type\":\"scatter\"},{\"fillpattern\":{\"shape\":\"\"},\"hovertemplate\":\"Marca=Calan\\u003cbr\\u003eCategoria=%{x}\\u003cbr\\u003eDesconto=%{y}\\u003cextra\\u003e\\u003c\\u002fextra\\u003e\",\"legendgroup\":\"Calan\",\"line\":{\"color\":\"#FF6692\"},\"marker\":{\"symbol\":\"circle\"},\"mode\":\"lines\",\"name\":\"Calan\",\"orientation\":\"v\",\"showlegend\":true,\"stackgroup\":\"1\",\"x\":[\"laticinios\",\"laticinios\",\"laticinios\",\"laticinios\",\"laticinios\",\"laticinios\",\"laticinios\",\"laticinios\",\"laticinios\"],\"xaxis\":\"x\",\"y\":[0,0,0,0,0,0,0,0,0],\"yaxis\":\"y\",\"type\":\"scatter\"},{\"fillpattern\":{\"shape\":\"\"},\"hovertemplate\":\"Marca=Family Care\\u003cbr\\u003eCategoria=%{x}\\u003cbr\\u003eDesconto=%{y}\\u003cextra\\u003e\\u003c\\u002fextra\\u003e\",\"legendgroup\":\"Family Care\",\"line\":{\"color\":\"#B6E880\"},\"marker\":{\"symbol\":\"circle\"},\"mode\":\"lines\",\"name\":\"Family Care\",\"orientation\":\"v\",\"showlegend\":true,\"stackgroup\":\"1\",\"x\":[\"beleza-e-cuidado-pessoal\",\"beleza-e-cuidado-pessoal\",\"beleza-e-cuidado-pessoal\",\"beleza-e-cuidado-pessoal\",\"beleza-e-cuidado-pessoal\"],\"xaxis\":\"x\",\"y\":[0,0,0,0,0],\"yaxis\":\"y\",\"type\":\"scatter\"},{\"fillpattern\":{\"shape\":\"\"},\"hovertemplate\":\"Marca=Ballerina\\u003cbr\\u003eCategoria=%{x}\\u003cbr\\u003eDesconto=%{y}\\u003cextra\\u003e\\u003c\\u002fextra\\u003e\",\"legendgroup\":\"Ballerina\",\"line\":{\"color\":\"#FF97FF\"},\"marker\":{\"symbol\":\"circle\"},\"mode\":\"lines\",\"name\":\"Ballerina\",\"orientation\":\"v\",\"showlegend\":true,\"stackgroup\":\"1\",\"x\":[\"beleza-e-cuidado-pessoal\",\"beleza-e-cuidado-pessoal\",\"beleza-e-cuidado-pessoal\",\"beleza-e-cuidado-pessoal\",\"beleza-e-cuidado-pessoal\",\"beleza-e-cuidado-pessoal\",\"beleza-e-cuidado-pessoal\",\"beleza-e-cuidado-pessoal\",\"beleza-e-cuidado-pessoal\",\"beleza-e-cuidado-pessoal\",\"beleza-e-cuidado-pessoal\",\"beleza-e-cuidado-pessoal\"],\"xaxis\":\"x\",\"y\":[0,0,0,0,0,0,0,0,0,0,0,409],\"yaxis\":\"y\",\"type\":\"scatter\"},{\"fillpattern\":{\"shape\":\"\"},\"hovertemplate\":\"Marca=Naturella\\u003cbr\\u003eCategoria=%{x}\\u003cbr\\u003eDesconto=%{y}\\u003cextra\\u003e\\u003c\\u002fextra\\u003e\",\"legendgroup\":\"Naturella\",\"line\":{\"color\":\"#FECB52\"},\"marker\":{\"symbol\":\"circle\"},\"mode\":\"lines\",\"name\":\"Naturella\",\"orientation\":\"v\",\"showlegend\":true,\"stackgroup\":\"1\",\"x\":[\"beleza-e-cuidado-pessoal\",\"beleza-e-cuidado-pessoal\",\"beleza-e-cuidado-pessoal\"],\"xaxis\":\"x\",\"y\":[0,0,0],\"yaxis\":\"y\",\"type\":\"scatter\"},{\"fillpattern\":{\"shape\":\"\"},\"hovertemplate\":\"Marca=Regimel\\u003cbr\\u003eCategoria=%{x}\\u003cbr\\u003eDesconto=%{y}\\u003cextra\\u003e\\u003c\\u002fextra\\u003e\",\"legendgroup\":\"Regimel\",\"line\":{\"color\":\"#636efa\"},\"marker\":{\"symbol\":\"circle\"},\"mode\":\"lines\",\"name\":\"Regimel\",\"orientation\":\"v\",\"showlegend\":true,\"stackgroup\":\"1\",\"x\":[\"laticinios\",\"laticinios\"],\"xaxis\":\"x\",\"y\":[0,0],\"yaxis\":\"y\",\"type\":\"scatter\"},{\"fillpattern\":{\"shape\":\"\"},\"hovertemplate\":\"Marca=Light & Free\\u003cbr\\u003eCategoria=%{x}\\u003cbr\\u003eDesconto=%{y}\\u003cextra\\u003e\\u003c\\u002fextra\\u003e\",\"legendgroup\":\"Light & Free\",\"line\":{\"color\":\"#EF553B\"},\"marker\":{\"symbol\":\"circle\"},\"mode\":\"lines\",\"name\":\"Light & Free\",\"orientation\":\"v\",\"showlegend\":true,\"stackgroup\":\"1\",\"x\":[\"laticinios\",\"laticinios\",\"laticinios\"],\"xaxis\":\"x\",\"y\":[0,0,0],\"yaxis\":\"y\",\"type\":\"scatter\"},{\"fillpattern\":{\"shape\":\"\"},\"hovertemplate\":\"Marca=Dural\\u00f3n\\u003cbr\\u003eCategoria=%{x}\\u003cbr\\u003eDesconto=%{y}\\u003cextra\\u003e\\u003c\\u002fextra\\u003e\",\"legendgroup\":\"Dural\\u00f3n\",\"line\":{\"color\":\"#00cc96\"},\"marker\":{\"symbol\":\"circle\"},\"mode\":\"lines\",\"name\":\"Dural\\u00f3n\",\"orientation\":\"v\",\"showlegend\":true,\"stackgroup\":\"1\",\"x\":[\"beleza-e-cuidado-pessoal\",\"beleza-e-cuidado-pessoal\"],\"xaxis\":\"x\",\"y\":[0,0],\"yaxis\":\"y\",\"type\":\"scatter\"},{\"fillpattern\":{\"shape\":\"\"},\"hovertemplate\":\"Marca=Familand\\u003cbr\\u003eCategoria=%{x}\\u003cbr\\u003eDesconto=%{y}\\u003cextra\\u003e\\u003c\\u002fextra\\u003e\",\"legendgroup\":\"Familand\",\"line\":{\"color\":\"#ab63fa\"},\"marker\":{\"symbol\":\"circle\"},\"mode\":\"lines\",\"name\":\"Familand\",\"orientation\":\"v\",\"showlegend\":true,\"stackgroup\":\"1\",\"x\":[\"beleza-e-cuidado-pessoal\",\"beleza-e-cuidado-pessoal\",\"beleza-e-cuidado-pessoal\",\"beleza-e-cuidado-pessoal\",\"beleza-e-cuidado-pessoal\",\"beleza-e-cuidado-pessoal\",\"beleza-e-cuidado-pessoal\",\"beleza-e-cuidado-pessoal\",\"beleza-e-cuidado-pessoal\",\"beleza-e-cuidado-pessoal\",\"beleza-e-cuidado-pessoal\",\"beleza-e-cuidado-pessoal\"],\"xaxis\":\"x\",\"y\":[0,0,0,0,0,0,0,0,0,0,0,0],\"yaxis\":\"y\",\"type\":\"scatter\"},{\"fillpattern\":{\"shape\":\"\"},\"hovertemplate\":\"Marca=Babyland\\u003cbr\\u003eCategoria=%{x}\\u003cbr\\u003eDesconto=%{y}\\u003cextra\\u003e\\u003c\\u002fextra\\u003e\",\"legendgroup\":\"Babyland\",\"line\":{\"color\":\"#FFA15A\"},\"marker\":{\"symbol\":\"circle\"},\"mode\":\"lines\",\"name\":\"Babyland\",\"orientation\":\"v\",\"showlegend\":true,\"stackgroup\":\"1\",\"x\":[\"beleza-e-cuidado-pessoal\"],\"xaxis\":\"x\",\"y\":[0],\"yaxis\":\"y\",\"type\":\"scatter\"},{\"fillpattern\":{\"shape\":\"\"},\"hovertemplate\":\"Marca=Trianon\\u003cbr\\u003eCategoria=%{x}\\u003cbr\\u003eDesconto=%{y}\\u003cextra\\u003e\\u003c\\u002fextra\\u003e\",\"legendgroup\":\"Trianon\",\"line\":{\"color\":\"#19d3f3\"},\"marker\":{\"symbol\":\"circle\"},\"mode\":\"lines\",\"name\":\"Trianon\",\"orientation\":\"v\",\"showlegend\":true,\"stackgroup\":\"1\",\"x\":[\"beleza-e-cuidado-pessoal\",\"beleza-e-cuidado-pessoal\"],\"xaxis\":\"x\",\"y\":[0,0],\"yaxis\":\"y\",\"type\":\"scatter\"},{\"fillpattern\":{\"shape\":\"\"},\"hovertemplate\":\"Marca=Agrosano\\u003cbr\\u003eCategoria=%{x}\\u003cbr\\u003eDesconto=%{y}\\u003cextra\\u003e\\u003c\\u002fextra\\u003e\",\"legendgroup\":\"Agrosano\",\"line\":{\"color\":\"#FF6692\"},\"marker\":{\"symbol\":\"circle\"},\"mode\":\"lines\",\"name\":\"Agrosano\",\"orientation\":\"v\",\"showlegend\":true,\"stackgroup\":\"1\",\"x\":[\"verduras\",\"verduras\"],\"xaxis\":\"x\",\"y\":[0,0],\"yaxis\":\"y\",\"type\":\"scatter\"},{\"fillpattern\":{\"shape\":\"\"},\"hovertemplate\":\"Marca=Giselle\\u003cbr\\u003eCategoria=%{x}\\u003cbr\\u003eDesconto=%{y}\\u003cextra\\u003e\\u003c\\u002fextra\\u003e\",\"legendgroup\":\"Giselle\",\"line\":{\"color\":\"#B6E880\"},\"marker\":{\"symbol\":\"circle\"},\"mode\":\"lines\",\"name\":\"Giselle\",\"orientation\":\"v\",\"showlegend\":true,\"stackgroup\":\"1\",\"x\":[\"beleza-e-cuidado-pessoal\"],\"xaxis\":\"x\",\"y\":[0],\"yaxis\":\"y\",\"type\":\"scatter\"},{\"fillpattern\":{\"shape\":\"\"},\"hovertemplate\":\"Marca=Rock\\u003cbr\\u003eCategoria=%{x}\\u003cbr\\u003eDesconto=%{y}\\u003cextra\\u003e\\u003c\\u002fextra\\u003e\",\"legendgroup\":\"Rock\",\"line\":{\"color\":\"#FF97FF\"},\"marker\":{\"symbol\":\"circle\"},\"mode\":\"lines\",\"name\":\"Rock\",\"orientation\":\"v\",\"showlegend\":true,\"stackgroup\":\"1\",\"x\":[\"congelados\"],\"xaxis\":\"x\",\"y\":[0],\"yaxis\":\"y\",\"type\":\"scatter\"},{\"fillpattern\":{\"shape\":\"\"},\"hovertemplate\":\"Marca=Fiesta\\u003cbr\\u003eCategoria=%{x}\\u003cbr\\u003eDesconto=%{y}\\u003cextra\\u003e\\u003c\\u002fextra\\u003e\",\"legendgroup\":\"Fiesta\",\"line\":{\"color\":\"#FECB52\"},\"marker\":{\"symbol\":\"circle\"},\"mode\":\"lines\",\"name\":\"Fiesta\",\"orientation\":\"v\",\"showlegend\":true,\"stackgroup\":\"1\",\"x\":[\"congelados\"],\"xaxis\":\"x\",\"y\":[0],\"yaxis\":\"y\",\"type\":\"scatter\"},{\"fillpattern\":{\"shape\":\"\"},\"hovertemplate\":\"Marca=Hoffmann\\u003cbr\\u003eCategoria=%{x}\\u003cbr\\u003eDesconto=%{y}\\u003cextra\\u003e\\u003c\\u002fextra\\u003e\",\"legendgroup\":\"Hoffmann\",\"line\":{\"color\":\"#636efa\"},\"marker\":{\"symbol\":\"circle\"},\"mode\":\"lines\",\"name\":\"Hoffmann\",\"orientation\":\"v\",\"showlegend\":true,\"stackgroup\":\"1\",\"x\":[\"instantaneo-e-sopas\",\"instantaneo-e-sopas\"],\"xaxis\":\"x\",\"y\":[0,0],\"yaxis\":\"y\",\"type\":\"scatter\"},{\"fillpattern\":{\"shape\":\"\"},\"hovertemplate\":\"Marca=Deline\\u003cbr\\u003eCategoria=%{x}\\u003cbr\\u003eDesconto=%{y}\\u003cextra\\u003e\\u003c\\u002fextra\\u003e\",\"legendgroup\":\"Deline\",\"line\":{\"color\":\"#EF553B\"},\"marker\":{\"symbol\":\"circle\"},\"mode\":\"lines\",\"name\":\"Deline\",\"orientation\":\"v\",\"showlegend\":true,\"stackgroup\":\"1\",\"x\":[\"laticinios\"],\"xaxis\":\"x\",\"y\":[0],\"yaxis\":\"y\",\"type\":\"scatter\"},{\"fillpattern\":{\"shape\":\"\"},\"hovertemplate\":\"Marca=Astra\\u003cbr\\u003eCategoria=%{x}\\u003cbr\\u003eDesconto=%{y}\\u003cextra\\u003e\\u003c\\u002fextra\\u003e\",\"legendgroup\":\"Astra\",\"line\":{\"color\":\"#00cc96\"},\"marker\":{\"symbol\":\"circle\"},\"mode\":\"lines\",\"name\":\"Astra\",\"orientation\":\"v\",\"showlegend\":true,\"stackgroup\":\"1\",\"x\":[\"laticinios\"],\"xaxis\":\"x\",\"y\":[0],\"yaxis\":\"y\",\"type\":\"scatter\"},{\"fillpattern\":{\"shape\":\"\"},\"hovertemplate\":\"Marca=King\\u003cbr\\u003eCategoria=%{x}\\u003cbr\\u003eDesconto=%{y}\\u003cextra\\u003e\\u003c\\u002fextra\\u003e\",\"legendgroup\":\"King\",\"line\":{\"color\":\"#ab63fa\"},\"marker\":{\"symbol\":\"circle\"},\"mode\":\"lines\",\"name\":\"King\",\"orientation\":\"v\",\"showlegend\":true,\"stackgroup\":\"1\",\"x\":[\"congelados\",\"congelados\"],\"xaxis\":\"x\",\"y\":[0,0],\"yaxis\":\"y\",\"type\":\"scatter\"},{\"fillpattern\":{\"shape\":\"\"},\"hovertemplate\":\"Marca=Crucina\\u003cbr\\u003eCategoria=%{x}\\u003cbr\\u003eDesconto=%{y}\\u003cextra\\u003e\\u003c\\u002fextra\\u003e\",\"legendgroup\":\"Crucina\",\"line\":{\"color\":\"#FFA15A\"},\"marker\":{\"symbol\":\"circle\"},\"mode\":\"lines\",\"name\":\"Crucina\",\"orientation\":\"v\",\"showlegend\":true,\"stackgroup\":\"1\",\"x\":[\"laticinios\"],\"xaxis\":\"x\",\"y\":[0],\"yaxis\":\"y\",\"type\":\"scatter\"},{\"fillpattern\":{\"shape\":\"\"},\"hovertemplate\":\"Marca=Not Chicken\\u003cbr\\u003eCategoria=%{x}\\u003cbr\\u003eDesconto=%{y}\\u003cextra\\u003e\\u003c\\u002fextra\\u003e\",\"legendgroup\":\"Not Chicken\",\"line\":{\"color\":\"#19d3f3\"},\"marker\":{\"symbol\":\"circle\"},\"mode\":\"lines\",\"name\":\"Not Chicken\",\"orientation\":\"v\",\"showlegend\":true,\"stackgroup\":\"1\",\"x\":[\"congelados\"],\"xaxis\":\"x\",\"y\":[0],\"yaxis\":\"y\",\"type\":\"scatter\"},{\"fillpattern\":{\"shape\":\"\"},\"hovertemplate\":\"Marca=Next\\u003cbr\\u003eCategoria=%{x}\\u003cbr\\u003eDesconto=%{y}\\u003cextra\\u003e\\u003c\\u002fextra\\u003e\",\"legendgroup\":\"Next\",\"line\":{\"color\":\"#FF6692\"},\"marker\":{\"symbol\":\"circle\"},\"mode\":\"lines\",\"name\":\"Next\",\"orientation\":\"v\",\"showlegend\":true,\"stackgroup\":\"1\",\"x\":[\"laticinios\",\"laticinios\",\"laticinios\",\"laticinios\"],\"xaxis\":\"x\",\"y\":[0,0,0,0],\"yaxis\":\"y\",\"type\":\"scatter\"},{\"fillpattern\":{\"shape\":\"\"},\"hovertemplate\":\"Marca=Carozzi\\u003cbr\\u003eCategoria=%{x}\\u003cbr\\u003eDesconto=%{y}\\u003cextra\\u003e\\u003c\\u002fextra\\u003e\",\"legendgroup\":\"Carozzi\",\"line\":{\"color\":\"#B6E880\"},\"marker\":{\"symbol\":\"circle\"},\"mode\":\"lines\",\"name\":\"Carozzi\",\"orientation\":\"v\",\"showlegend\":true,\"stackgroup\":\"1\",\"x\":[\"instantaneo-e-sopas\"],\"xaxis\":\"x\",\"y\":[0],\"yaxis\":\"y\",\"type\":\"scatter\"},{\"fillpattern\":{\"shape\":\"\"},\"hovertemplate\":\"Marca=Naturezza\\u003cbr\\u003eCategoria=%{x}\\u003cbr\\u003eDesconto=%{y}\\u003cextra\\u003e\\u003c\\u002fextra\\u003e\",\"legendgroup\":\"Naturezza\",\"line\":{\"color\":\"#FF97FF\"},\"marker\":{\"symbol\":\"circle\"},\"mode\":\"lines\",\"name\":\"Naturezza\",\"orientation\":\"v\",\"showlegend\":true,\"stackgroup\":\"1\",\"x\":[\"instantaneo-e-sopas\",\"instantaneo-e-sopas\",\"instantaneo-e-sopas\",\"instantaneo-e-sopas\",\"instantaneo-e-sopas\",\"instantaneo-e-sopas\",\"instantaneo-e-sopas\"],\"xaxis\":\"x\",\"y\":[0,0,0,0,0,0,0],\"yaxis\":\"y\",\"type\":\"scatter\"},{\"fillpattern\":{\"shape\":\"\"},\"hovertemplate\":\"Marca=Frutas Y Verduras Santa Isabel\\u003cbr\\u003eCategoria=%{x}\\u003cbr\\u003eDesconto=%{y}\\u003cextra\\u003e\\u003c\\u002fextra\\u003e\",\"legendgroup\":\"Frutas Y Verduras Santa Isabel\",\"line\":{\"color\":\"#FECB52\"},\"marker\":{\"symbol\":\"circle\"},\"mode\":\"lines\",\"name\":\"Frutas Y Verduras Santa Isabel\",\"orientation\":\"v\",\"showlegend\":true,\"stackgroup\":\"1\",\"x\":[\"frutas\"],\"xaxis\":\"x\",\"y\":[0],\"yaxis\":\"y\",\"type\":\"scatter\"},{\"fillpattern\":{\"shape\":\"\"},\"hovertemplate\":\"Marca=Copacabana\\u003cbr\\u003eCategoria=%{x}\\u003cbr\\u003eDesconto=%{y}\\u003cextra\\u003e\\u003c\\u002fextra\\u003e\",\"legendgroup\":\"Copacabana\",\"line\":{\"color\":\"#636efa\"},\"marker\":{\"symbol\":\"circle\"},\"mode\":\"lines\",\"name\":\"Copacabana\",\"orientation\":\"v\",\"showlegend\":true,\"stackgroup\":\"1\",\"x\":[\"laticinios\"],\"xaxis\":\"x\",\"y\":[0],\"yaxis\":\"y\",\"type\":\"scatter\"},{\"fillpattern\":{\"shape\":\"\"},\"hovertemplate\":\"Marca=Super Cerdo\\u003cbr\\u003eCategoria=%{x}\\u003cbr\\u003eDesconto=%{y}\\u003cextra\\u003e\\u003c\\u002fextra\\u003e\",\"legendgroup\":\"Super Cerdo\",\"line\":{\"color\":\"#EF553B\"},\"marker\":{\"symbol\":\"circle\"},\"mode\":\"lines\",\"name\":\"Super Cerdo\",\"orientation\":\"v\",\"showlegend\":true,\"stackgroup\":\"1\",\"x\":[\"congelados\"],\"xaxis\":\"x\",\"y\":[0],\"yaxis\":\"y\",\"type\":\"scatter\"},{\"fillpattern\":{\"shape\":\"\"},\"hovertemplate\":\"Marca=Mister Veggie\\u003cbr\\u003eCategoria=%{x}\\u003cbr\\u003eDesconto=%{y}\\u003cextra\\u003e\\u003c\\u002fextra\\u003e\",\"legendgroup\":\"Mister Veggie\",\"line\":{\"color\":\"#00cc96\"},\"marker\":{\"symbol\":\"circle\"},\"mode\":\"lines\",\"name\":\"Mister Veggie\",\"orientation\":\"v\",\"showlegend\":true,\"stackgroup\":\"1\",\"x\":[\"congelados\",\"congelados\",\"congelados\"],\"xaxis\":\"x\",\"y\":[0,0,0],\"yaxis\":\"y\",\"type\":\"scatter\"},{\"fillpattern\":{\"shape\":\"\"},\"hovertemplate\":\"Marca=Marco Polo\\u003cbr\\u003eCategoria=%{x}\\u003cbr\\u003eDesconto=%{y}\\u003cextra\\u003e\\u003c\\u002fextra\\u003e\",\"legendgroup\":\"Marco Polo\",\"line\":{\"color\":\"#ab63fa\"},\"marker\":{\"symbol\":\"circle\"},\"mode\":\"lines\",\"name\":\"Marco Polo\",\"orientation\":\"v\",\"showlegend\":true,\"stackgroup\":\"1\",\"x\":[\"laticinios\"],\"xaxis\":\"x\",\"y\":[0],\"yaxis\":\"y\",\"type\":\"scatter\"},{\"fillpattern\":{\"shape\":\"\"},\"hovertemplate\":\"Marca=Gourmet\\u003cbr\\u003eCategoria=%{x}\\u003cbr\\u003eDesconto=%{y}\\u003cextra\\u003e\\u003c\\u002fextra\\u003e\",\"legendgroup\":\"Gourmet\",\"line\":{\"color\":\"#FFA15A\"},\"marker\":{\"symbol\":\"circle\"},\"mode\":\"lines\",\"name\":\"Gourmet\",\"orientation\":\"v\",\"showlegend\":true,\"stackgroup\":\"1\",\"x\":[\"instantaneo-e-sopas\",\"instantaneo-e-sopas\",\"instantaneo-e-sopas\",\"instantaneo-e-sopas\"],\"xaxis\":\"x\",\"y\":[0,0,0,0],\"yaxis\":\"y\",\"type\":\"scatter\"},{\"fillpattern\":{\"shape\":\"\"},\"hovertemplate\":\"Marca=Oikos\\u003cbr\\u003eCategoria=%{x}\\u003cbr\\u003eDesconto=%{y}\\u003cextra\\u003e\\u003c\\u002fextra\\u003e\",\"legendgroup\":\"Oikos\",\"line\":{\"color\":\"#19d3f3\"},\"marker\":{\"symbol\":\"circle\"},\"mode\":\"lines\",\"name\":\"Oikos\",\"orientation\":\"v\",\"showlegend\":true,\"stackgroup\":\"1\",\"x\":[\"laticinios\",\"laticinios\",\"laticinios\",\"laticinios\",\"laticinios\",\"laticinios\",\"laticinios\",\"laticinios\",\"laticinios\"],\"xaxis\":\"x\",\"y\":[0,0,0,0,0,0,0,0,0],\"yaxis\":\"y\",\"type\":\"scatter\"},{\"fillpattern\":{\"shape\":\"\"},\"hovertemplate\":\"Marca=Collico\\u003cbr\\u003eCategoria=%{x}\\u003cbr\\u003eDesconto=%{y}\\u003cextra\\u003e\\u003c\\u002fextra\\u003e\",\"legendgroup\":\"Collico\",\"line\":{\"color\":\"#FF6692\"},\"marker\":{\"symbol\":\"circle\"},\"mode\":\"lines\",\"name\":\"Collico\",\"orientation\":\"v\",\"showlegend\":true,\"stackgroup\":\"1\",\"x\":[\"laticinios\"],\"xaxis\":\"x\",\"y\":[0],\"yaxis\":\"y\",\"type\":\"scatter\"},{\"fillpattern\":{\"shape\":\"\"},\"hovertemplate\":\"Marca=Cotidian\\u003cbr\\u003eCategoria=%{x}\\u003cbr\\u003eDesconto=%{y}\\u003cextra\\u003e\\u003c\\u002fextra\\u003e\",\"legendgroup\":\"Cotidian\",\"line\":{\"color\":\"#B6E880\"},\"marker\":{\"symbol\":\"circle\"},\"mode\":\"lines\",\"name\":\"Cotidian\",\"orientation\":\"v\",\"showlegend\":true,\"stackgroup\":\"1\",\"x\":[\"beleza-e-cuidado-pessoal\",\"beleza-e-cuidado-pessoal\"],\"xaxis\":\"x\",\"y\":[0,0],\"yaxis\":\"y\",\"type\":\"scatter\"},{\"fillpattern\":{\"shape\":\"\"},\"hovertemplate\":\"Marca=T\\u00edo Nacho\\u003cbr\\u003eCategoria=%{x}\\u003cbr\\u003eDesconto=%{y}\\u003cextra\\u003e\\u003c\\u002fextra\\u003e\",\"legendgroup\":\"T\\u00edo Nacho\",\"line\":{\"color\":\"#FF97FF\"},\"marker\":{\"symbol\":\"circle\"},\"mode\":\"lines\",\"name\":\"T\\u00edo Nacho\",\"orientation\":\"v\",\"showlegend\":true,\"stackgroup\":\"1\",\"x\":[\"beleza-e-cuidado-pessoal\",\"beleza-e-cuidado-pessoal\"],\"xaxis\":\"x\",\"y\":[0,0],\"yaxis\":\"y\",\"type\":\"scatter\"},{\"fillpattern\":{\"shape\":\"\"},\"hovertemplate\":\"Marca=Herbal Essences\\u003cbr\\u003eCategoria=%{x}\\u003cbr\\u003eDesconto=%{y}\\u003cextra\\u003e\\u003c\\u002fextra\\u003e\",\"legendgroup\":\"Herbal Essences\",\"line\":{\"color\":\"#FECB52\"},\"marker\":{\"symbol\":\"circle\"},\"mode\":\"lines\",\"name\":\"Herbal Essences\",\"orientation\":\"v\",\"showlegend\":true,\"stackgroup\":\"1\",\"x\":[\"beleza-e-cuidado-pessoal\",\"beleza-e-cuidado-pessoal\",\"beleza-e-cuidado-pessoal\"],\"xaxis\":\"x\",\"y\":[0,0,0],\"yaxis\":\"y\",\"type\":\"scatter\"},{\"fillpattern\":{\"shape\":\"\"},\"hovertemplate\":\"Marca=Not Ice Cream\\u003cbr\\u003eCategoria=%{x}\\u003cbr\\u003eDesconto=%{y}\\u003cextra\\u003e\\u003c\\u002fextra\\u003e\",\"legendgroup\":\"Not Ice Cream\",\"line\":{\"color\":\"#636efa\"},\"marker\":{\"symbol\":\"circle\"},\"mode\":\"lines\",\"name\":\"Not Ice Cream\",\"orientation\":\"v\",\"showlegend\":true,\"stackgroup\":\"1\",\"x\":[\"congelados\",\"congelados\",\"congelados\",\"congelados\",\"congelados\",\"congelados\"],\"xaxis\":\"x\",\"y\":[0,0,0,0,0,0],\"yaxis\":\"y\",\"type\":\"scatter\"},{\"fillpattern\":{\"shape\":\"\"},\"hovertemplate\":\"Marca=Sedal\\u003cbr\\u003eCategoria=%{x}\\u003cbr\\u003eDesconto=%{y}\\u003cextra\\u003e\\u003c\\u002fextra\\u003e\",\"legendgroup\":\"Sedal\",\"line\":{\"color\":\"#EF553B\"},\"marker\":{\"symbol\":\"circle\"},\"mode\":\"lines\",\"name\":\"Sedal\",\"orientation\":\"v\",\"showlegend\":true,\"stackgroup\":\"1\",\"x\":[\"beleza-e-cuidado-pessoal\",\"beleza-e-cuidado-pessoal\",\"beleza-e-cuidado-pessoal\"],\"xaxis\":\"x\",\"y\":[0,0,0],\"yaxis\":\"y\",\"type\":\"scatter\"},{\"fillpattern\":{\"shape\":\"\"},\"hovertemplate\":\"Marca=Vanart\\u003cbr\\u003eCategoria=%{x}\\u003cbr\\u003eDesconto=%{y}\\u003cextra\\u003e\\u003c\\u002fextra\\u003e\",\"legendgroup\":\"Vanart\",\"line\":{\"color\":\"#00cc96\"},\"marker\":{\"symbol\":\"circle\"},\"mode\":\"lines\",\"name\":\"Vanart\",\"orientation\":\"v\",\"showlegend\":true,\"stackgroup\":\"1\",\"x\":[\"beleza-e-cuidado-pessoal\",\"beleza-e-cuidado-pessoal\",\"beleza-e-cuidado-pessoal\"],\"xaxis\":\"x\",\"y\":[0,0,0],\"yaxis\":\"y\",\"type\":\"scatter\"},{\"fillpattern\":{\"shape\":\"\"},\"hovertemplate\":\"Marca=Nivea For Men\\u003cbr\\u003eCategoria=%{x}\\u003cbr\\u003eDesconto=%{y}\\u003cextra\\u003e\\u003c\\u002fextra\\u003e\",\"legendgroup\":\"Nivea For Men\",\"line\":{\"color\":\"#ab63fa\"},\"marker\":{\"symbol\":\"circle\"},\"mode\":\"lines\",\"name\":\"Nivea For Men\",\"orientation\":\"v\",\"showlegend\":true,\"stackgroup\":\"1\",\"x\":[\"beleza-e-cuidado-pessoal\"],\"xaxis\":\"x\",\"y\":[0],\"yaxis\":\"y\",\"type\":\"scatter\"},{\"fillpattern\":{\"shape\":\"\"},\"hovertemplate\":\"Marca=Elite\\u003cbr\\u003eCategoria=%{x}\\u003cbr\\u003eDesconto=%{y}\\u003cextra\\u003e\\u003c\\u002fextra\\u003e\",\"legendgroup\":\"Elite\",\"line\":{\"color\":\"#FFA15A\"},\"marker\":{\"symbol\":\"circle\"},\"mode\":\"lines\",\"name\":\"Elite\",\"orientation\":\"v\",\"showlegend\":true,\"stackgroup\":\"1\",\"x\":[\"beleza-e-cuidado-pessoal\",\"beleza-e-cuidado-pessoal\",\"beleza-e-cuidado-pessoal\"],\"xaxis\":\"x\",\"y\":[0,0,0],\"yaxis\":\"y\",\"type\":\"scatter\"},{\"fillpattern\":{\"shape\":\"\"},\"hovertemplate\":\"Marca=1+1 Soprole\\u003cbr\\u003eCategoria=%{x}\\u003cbr\\u003eDesconto=%{y}\\u003cextra\\u003e\\u003c\\u002fextra\\u003e\",\"legendgroup\":\"1+1 Soprole\",\"line\":{\"color\":\"#19d3f3\"},\"marker\":{\"symbol\":\"circle\"},\"mode\":\"lines\",\"name\":\"1+1 Soprole\",\"orientation\":\"v\",\"showlegend\":true,\"stackgroup\":\"1\",\"x\":[\"laticinios\"],\"xaxis\":\"x\",\"y\":[0],\"yaxis\":\"y\",\"type\":\"scatter\"},{\"fillpattern\":{\"shape\":\"\"},\"hovertemplate\":\"Marca=Herbal\\u003cbr\\u003eCategoria=%{x}\\u003cbr\\u003eDesconto=%{y}\\u003cextra\\u003e\\u003c\\u002fextra\\u003e\",\"legendgroup\":\"Herbal\",\"line\":{\"color\":\"#FF6692\"},\"marker\":{\"symbol\":\"circle\"},\"mode\":\"lines\",\"name\":\"Herbal\",\"orientation\":\"v\",\"showlegend\":true,\"stackgroup\":\"1\",\"x\":[\"beleza-e-cuidado-pessoal\"],\"xaxis\":\"x\",\"y\":[0],\"yaxis\":\"y\",\"type\":\"scatter\"},{\"fillpattern\":{\"shape\":\"\"},\"hovertemplate\":\"Marca=Sensodyne\\u003cbr\\u003eCategoria=%{x}\\u003cbr\\u003eDesconto=%{y}\\u003cextra\\u003e\\u003c\\u002fextra\\u003e\",\"legendgroup\":\"Sensodyne\",\"line\":{\"color\":\"#B6E880\"},\"marker\":{\"symbol\":\"circle\"},\"mode\":\"lines\",\"name\":\"Sensodyne\",\"orientation\":\"v\",\"showlegend\":true,\"stackgroup\":\"1\",\"x\":[\"beleza-e-cuidado-pessoal\"],\"xaxis\":\"x\",\"y\":[0],\"yaxis\":\"y\",\"type\":\"scatter\"},{\"fillpattern\":{\"shape\":\"\"},\"hovertemplate\":\"Marca=Carte Dor\\u003cbr\\u003eCategoria=%{x}\\u003cbr\\u003eDesconto=%{y}\\u003cextra\\u003e\\u003c\\u002fextra\\u003e\",\"legendgroup\":\"Carte Dor\",\"line\":{\"color\":\"#FF97FF\"},\"marker\":{\"symbol\":\"circle\"},\"mode\":\"lines\",\"name\":\"Carte Dor\",\"orientation\":\"v\",\"showlegend\":true,\"stackgroup\":\"1\",\"x\":[\"congelados\",\"congelados\"],\"xaxis\":\"x\",\"y\":[0,715],\"yaxis\":\"y\",\"type\":\"scatter\"},{\"fillpattern\":{\"shape\":\"\"},\"hovertemplate\":\"Marca=Soprole Activ\\u003cbr\\u003eCategoria=%{x}\\u003cbr\\u003eDesconto=%{y}\\u003cextra\\u003e\\u003c\\u002fextra\\u003e\",\"legendgroup\":\"Soprole Activ\",\"line\":{\"color\":\"#FECB52\"},\"marker\":{\"symbol\":\"circle\"},\"mode\":\"lines\",\"name\":\"Soprole Activ\",\"orientation\":\"v\",\"showlegend\":true,\"stackgroup\":\"1\",\"x\":[\"laticinios\",\"laticinios\",\"laticinios\"],\"xaxis\":\"x\",\"y\":[0,0,0],\"yaxis\":\"y\",\"type\":\"scatter\"},{\"fillpattern\":{\"shape\":\"\"},\"hovertemplate\":\"Marca=Dole\\u003cbr\\u003eCategoria=%{x}\\u003cbr\\u003eDesconto=%{y}\\u003cextra\\u003e\\u003c\\u002fextra\\u003e\",\"legendgroup\":\"Dole\",\"line\":{\"color\":\"#636efa\"},\"marker\":{\"symbol\":\"circle\"},\"mode\":\"lines\",\"name\":\"Dole\",\"orientation\":\"v\",\"showlegend\":true,\"stackgroup\":\"1\",\"x\":[\"verduras\",\"verduras\",\"verduras\"],\"xaxis\":\"x\",\"y\":[0,0,0],\"yaxis\":\"y\",\"type\":\"scatter\"},{\"fillpattern\":{\"shape\":\"\"},\"hovertemplate\":\"Marca=Traverso\\u003cbr\\u003eCategoria=%{x}\\u003cbr\\u003eDesconto=%{y}\\u003cextra\\u003e\\u003c\\u002fextra\\u003e\",\"legendgroup\":\"Traverso\",\"line\":{\"color\":\"#EF553B\"},\"marker\":{\"symbol\":\"circle\"},\"mode\":\"lines\",\"name\":\"Traverso\",\"orientation\":\"v\",\"showlegend\":true,\"stackgroup\":\"1\",\"x\":[\"instantaneo-e-sopas\",\"instantaneo-e-sopas\"],\"xaxis\":\"x\",\"y\":[0,0],\"yaxis\":\"y\",\"type\":\"scatter\"},{\"fillpattern\":{\"shape\":\"\"},\"hovertemplate\":\"Marca=Super Beef\\u003cbr\\u003eCategoria=%{x}\\u003cbr\\u003eDesconto=%{y}\\u003cextra\\u003e\\u003c\\u002fextra\\u003e\",\"legendgroup\":\"Super Beef\",\"line\":{\"color\":\"#00cc96\"},\"marker\":{\"symbol\":\"circle\"},\"mode\":\"lines\",\"name\":\"Super Beef\",\"orientation\":\"v\",\"showlegend\":true,\"stackgroup\":\"1\",\"x\":[\"congelados\"],\"xaxis\":\"x\",\"y\":[120],\"yaxis\":\"y\",\"type\":\"scatter\"},{\"fillpattern\":{\"shape\":\"\"},\"hovertemplate\":\"Marca=Not Milk\\u003cbr\\u003eCategoria=%{x}\\u003cbr\\u003eDesconto=%{y}\\u003cextra\\u003e\\u003c\\u002fextra\\u003e\",\"legendgroup\":\"Not Milk\",\"line\":{\"color\":\"#ab63fa\"},\"marker\":{\"symbol\":\"circle\"},\"mode\":\"lines\",\"name\":\"Not Milk\",\"orientation\":\"v\",\"showlegend\":true,\"stackgroup\":\"1\",\"x\":[\"laticinios\"],\"xaxis\":\"x\",\"y\":[160],\"yaxis\":\"y\",\"type\":\"scatter\"},{\"fillpattern\":{\"shape\":\"\"},\"hovertemplate\":\"Marca=Not Burger\\u003cbr\\u003eCategoria=%{x}\\u003cbr\\u003eDesconto=%{y}\\u003cextra\\u003e\\u003c\\u002fextra\\u003e\",\"legendgroup\":\"Not Burger\",\"line\":{\"color\":\"#FFA15A\"},\"marker\":{\"symbol\":\"circle\"},\"mode\":\"lines\",\"name\":\"Not Burger\",\"orientation\":\"v\",\"showlegend\":true,\"stackgroup\":\"1\",\"x\":[\"congelados\"],\"xaxis\":\"x\",\"y\":[210],\"yaxis\":\"y\",\"type\":\"scatter\"},{\"fillpattern\":{\"shape\":\"\"},\"hovertemplate\":\"Marca=Simonds\\u003cbr\\u003eCategoria=%{x}\\u003cbr\\u003eDesconto=%{y}\\u003cextra\\u003e\\u003c\\u002fextra\\u003e\",\"legendgroup\":\"Simonds\",\"line\":{\"color\":\"#19d3f3\"},\"marker\":{\"symbol\":\"circle\"},\"mode\":\"lines\",\"name\":\"Simonds\",\"orientation\":\"v\",\"showlegend\":true,\"stackgroup\":\"1\",\"x\":[\"beleza-e-cuidado-pessoal\"],\"xaxis\":\"x\",\"y\":[300],\"yaxis\":\"y\",\"type\":\"scatter\"},{\"fillpattern\":{\"shape\":\"\"},\"hovertemplate\":\"Marca=Viennetta Bresler\\u003cbr\\u003eCategoria=%{x}\\u003cbr\\u003eDesconto=%{y}\\u003cextra\\u003e\\u003c\\u002fextra\\u003e\",\"legendgroup\":\"Viennetta Bresler\",\"line\":{\"color\":\"#FF6692\"},\"marker\":{\"symbol\":\"circle\"},\"mode\":\"lines\",\"name\":\"Viennetta Bresler\",\"orientation\":\"v\",\"showlegend\":true,\"stackgroup\":\"1\",\"x\":[\"congelados\",\"congelados\",\"congelados\"],\"xaxis\":\"x\",\"y\":[546,546,546],\"yaxis\":\"y\",\"type\":\"scatter\"},{\"fillpattern\":{\"shape\":\"\"},\"hovertemplate\":\"Marca=Axe\\u003cbr\\u003eCategoria=%{x}\\u003cbr\\u003eDesconto=%{y}\\u003cextra\\u003e\\u003c\\u002fextra\\u003e\",\"legendgroup\":\"Axe\",\"line\":{\"color\":\"#B6E880\"},\"marker\":{\"symbol\":\"circle\"},\"mode\":\"lines\",\"name\":\"Axe\",\"orientation\":\"v\",\"showlegend\":true,\"stackgroup\":\"1\",\"x\":[\"beleza-e-cuidado-pessoal\"],\"xaxis\":\"x\",\"y\":[590],\"yaxis\":\"y\",\"type\":\"scatter\"},{\"fillpattern\":{\"shape\":\"\"},\"hovertemplate\":\"Marca=BiO\\u003cbr\\u003eCategoria=%{x}\\u003cbr\\u003eDesconto=%{y}\\u003cextra\\u003e\\u003c\\u002fextra\\u003e\",\"legendgroup\":\"BiO\",\"line\":{\"color\":\"#FF97FF\"},\"marker\":{\"symbol\":\"circle\"},\"mode\":\"lines\",\"name\":\"BiO\",\"orientation\":\"v\",\"showlegend\":true,\"stackgroup\":\"1\",\"x\":[\"beleza-e-cuidado-pessoal\",\"beleza-e-cuidado-pessoal\",\"beleza-e-cuidado-pessoal\",\"beleza-e-cuidado-pessoal\"],\"xaxis\":\"x\",\"y\":[650,650,650,650],\"yaxis\":\"y\",\"type\":\"scatter\"},{\"fillpattern\":{\"shape\":\"\"},\"hovertemplate\":\"Marca=Mega\\u003cbr\\u003eCategoria=%{x}\\u003cbr\\u003eDesconto=%{y}\\u003cextra\\u003e\\u003c\\u002fextra\\u003e\",\"legendgroup\":\"Mega\",\"line\":{\"color\":\"#FECB52\"},\"marker\":{\"symbol\":\"circle\"},\"mode\":\"lines\",\"name\":\"Mega\",\"orientation\":\"v\",\"showlegend\":true,\"stackgroup\":\"1\",\"x\":[\"congelados\"],\"xaxis\":\"x\",\"y\":[657],\"yaxis\":\"y\",\"type\":\"scatter\"},{\"fillpattern\":{\"shape\":\"\"},\"hovertemplate\":\"Marca=Rexona\\u003cbr\\u003eCategoria=%{x}\\u003cbr\\u003eDesconto=%{y}\\u003cextra\\u003e\\u003c\\u002fextra\\u003e\",\"legendgroup\":\"Rexona\",\"line\":{\"color\":\"#636efa\"},\"marker\":{\"symbol\":\"circle\"},\"mode\":\"lines\",\"name\":\"Rexona\",\"orientation\":\"v\",\"showlegend\":true,\"stackgroup\":\"1\",\"x\":[\"beleza-e-cuidado-pessoal\"],\"xaxis\":\"x\",\"y\":[660],\"yaxis\":\"y\",\"type\":\"scatter\"},{\"fillpattern\":{\"shape\":\"\"},\"hovertemplate\":\"Marca=Rexona Men\\u003cbr\\u003eCategoria=%{x}\\u003cbr\\u003eDesconto=%{y}\\u003cextra\\u003e\\u003c\\u002fextra\\u003e\",\"legendgroup\":\"Rexona Men\",\"line\":{\"color\":\"#EF553B\"},\"marker\":{\"symbol\":\"circle\"},\"mode\":\"lines\",\"name\":\"Rexona Men\",\"orientation\":\"v\",\"showlegend\":true,\"stackgroup\":\"1\",\"x\":[\"beleza-e-cuidado-pessoal\"],\"xaxis\":\"x\",\"y\":[660],\"yaxis\":\"y\",\"type\":\"scatter\"},{\"fillpattern\":{\"shape\":\"\"},\"hovertemplate\":\"Marca=Rexona Clinical\\u003cbr\\u003eCategoria=%{x}\\u003cbr\\u003eDesconto=%{y}\\u003cextra\\u003e\\u003c\\u002fextra\\u003e\",\"legendgroup\":\"Rexona Clinical\",\"line\":{\"color\":\"#00cc96\"},\"marker\":{\"symbol\":\"circle\"},\"mode\":\"lines\",\"name\":\"Rexona Clinical\",\"orientation\":\"v\",\"showlegend\":true,\"stackgroup\":\"1\",\"x\":[\"beleza-e-cuidado-pessoal\",\"beleza-e-cuidado-pessoal\"],\"xaxis\":\"x\",\"y\":[795,795],\"yaxis\":\"y\",\"type\":\"scatter\"},{\"fillpattern\":{\"shape\":\"\"},\"hovertemplate\":\"Marca=Rexona Men Clinical\\u003cbr\\u003eCategoria=%{x}\\u003cbr\\u003eDesconto=%{y}\\u003cextra\\u003e\\u003c\\u002fextra\\u003e\",\"legendgroup\":\"Rexona Men Clinical\",\"line\":{\"color\":\"#ab63fa\"},\"marker\":{\"symbol\":\"circle\"},\"mode\":\"lines\",\"name\":\"Rexona Men Clinical\",\"orientation\":\"v\",\"showlegend\":true,\"stackgroup\":\"1\",\"x\":[\"beleza-e-cuidado-pessoal\"],\"xaxis\":\"x\",\"y\":[795],\"yaxis\":\"y\",\"type\":\"scatter\"},{\"fillpattern\":{\"shape\":\"\"},\"hovertemplate\":\"Marca=Oral Fresh\\u003cbr\\u003eCategoria=%{x}\\u003cbr\\u003eDesconto=%{y}\\u003cextra\\u003e\\u003c\\u002fextra\\u003e\",\"legendgroup\":\"Oral Fresh\",\"line\":{\"color\":\"#FFA15A\"},\"marker\":{\"symbol\":\"circle\"},\"mode\":\"lines\",\"name\":\"Oral Fresh\",\"orientation\":\"v\",\"showlegend\":true,\"stackgroup\":\"1\",\"x\":[\"beleza-e-cuidado-pessoal\"],\"xaxis\":\"x\",\"y\":[797],\"yaxis\":\"y\",\"type\":\"scatter\"},{\"fillpattern\":{\"shape\":\"\"},\"hovertemplate\":\"Marca=Magnum\\u003cbr\\u003eCategoria=%{x}\\u003cbr\\u003eDesconto=%{y}\\u003cextra\\u003e\\u003c\\u002fextra\\u003e\",\"legendgroup\":\"Magnum\",\"line\":{\"color\":\"#19d3f3\"},\"marker\":{\"symbol\":\"circle\"},\"mode\":\"lines\",\"name\":\"Magnum\",\"orientation\":\"v\",\"showlegend\":true,\"stackgroup\":\"1\",\"x\":[\"congelados\",\"congelados\",\"congelados\",\"congelados\"],\"xaxis\":\"x\",\"y\":[840,840,1070,1070],\"yaxis\":\"y\",\"type\":\"scatter\"}],                        {\"template\":{\"data\":{\"histogram2dcontour\":[{\"type\":\"histogram2dcontour\",\"colorbar\":{\"outlinewidth\":0,\"ticks\":\"\"},\"colorscale\":[[0.0,\"#0d0887\"],[0.1111111111111111,\"#46039f\"],[0.2222222222222222,\"#7201a8\"],[0.3333333333333333,\"#9c179e\"],[0.4444444444444444,\"#bd3786\"],[0.5555555555555556,\"#d8576b\"],[0.6666666666666666,\"#ed7953\"],[0.7777777777777778,\"#fb9f3a\"],[0.8888888888888888,\"#fdca26\"],[1.0,\"#f0f921\"]]}],\"choropleth\":[{\"type\":\"choropleth\",\"colorbar\":{\"outlinewidth\":0,\"ticks\":\"\"}}],\"histogram2d\":[{\"type\":\"histogram2d\",\"colorbar\":{\"outlinewidth\":0,\"ticks\":\"\"},\"colorscale\":[[0.0,\"#0d0887\"],[0.1111111111111111,\"#46039f\"],[0.2222222222222222,\"#7201a8\"],[0.3333333333333333,\"#9c179e\"],[0.4444444444444444,\"#bd3786\"],[0.5555555555555556,\"#d8576b\"],[0.6666666666666666,\"#ed7953\"],[0.7777777777777778,\"#fb9f3a\"],[0.8888888888888888,\"#fdca26\"],[1.0,\"#f0f921\"]]}],\"heatmap\":[{\"type\":\"heatmap\",\"colorbar\":{\"outlinewidth\":0,\"ticks\":\"\"},\"colorscale\":[[0.0,\"#0d0887\"],[0.1111111111111111,\"#46039f\"],[0.2222222222222222,\"#7201a8\"],[0.3333333333333333,\"#9c179e\"],[0.4444444444444444,\"#bd3786\"],[0.5555555555555556,\"#d8576b\"],[0.6666666666666666,\"#ed7953\"],[0.7777777777777778,\"#fb9f3a\"],[0.8888888888888888,\"#fdca26\"],[1.0,\"#f0f921\"]]}],\"heatmapgl\":[{\"type\":\"heatmapgl\",\"colorbar\":{\"outlinewidth\":0,\"ticks\":\"\"},\"colorscale\":[[0.0,\"#0d0887\"],[0.1111111111111111,\"#46039f\"],[0.2222222222222222,\"#7201a8\"],[0.3333333333333333,\"#9c179e\"],[0.4444444444444444,\"#bd3786\"],[0.5555555555555556,\"#d8576b\"],[0.6666666666666666,\"#ed7953\"],[0.7777777777777778,\"#fb9f3a\"],[0.8888888888888888,\"#fdca26\"],[1.0,\"#f0f921\"]]}],\"contourcarpet\":[{\"type\":\"contourcarpet\",\"colorbar\":{\"outlinewidth\":0,\"ticks\":\"\"}}],\"contour\":[{\"type\":\"contour\",\"colorbar\":{\"outlinewidth\":0,\"ticks\":\"\"},\"colorscale\":[[0.0,\"#0d0887\"],[0.1111111111111111,\"#46039f\"],[0.2222222222222222,\"#7201a8\"],[0.3333333333333333,\"#9c179e\"],[0.4444444444444444,\"#bd3786\"],[0.5555555555555556,\"#d8576b\"],[0.6666666666666666,\"#ed7953\"],[0.7777777777777778,\"#fb9f3a\"],[0.8888888888888888,\"#fdca26\"],[1.0,\"#f0f921\"]]}],\"surface\":[{\"type\":\"surface\",\"colorbar\":{\"outlinewidth\":0,\"ticks\":\"\"},\"colorscale\":[[0.0,\"#0d0887\"],[0.1111111111111111,\"#46039f\"],[0.2222222222222222,\"#7201a8\"],[0.3333333333333333,\"#9c179e\"],[0.4444444444444444,\"#bd3786\"],[0.5555555555555556,\"#d8576b\"],[0.6666666666666666,\"#ed7953\"],[0.7777777777777778,\"#fb9f3a\"],[0.8888888888888888,\"#fdca26\"],[1.0,\"#f0f921\"]]}],\"mesh3d\":[{\"type\":\"mesh3d\",\"colorbar\":{\"outlinewidth\":0,\"ticks\":\"\"}}],\"scatter\":[{\"fillpattern\":{\"fillmode\":\"overlay\",\"size\":10,\"solidity\":0.2},\"type\":\"scatter\"}],\"parcoords\":[{\"type\":\"parcoords\",\"line\":{\"colorbar\":{\"outlinewidth\":0,\"ticks\":\"\"}}}],\"scatterpolargl\":[{\"type\":\"scatterpolargl\",\"marker\":{\"colorbar\":{\"outlinewidth\":0,\"ticks\":\"\"}}}],\"bar\":[{\"error_x\":{\"color\":\"#2a3f5f\"},\"error_y\":{\"color\":\"#2a3f5f\"},\"marker\":{\"line\":{\"color\":\"#E5ECF6\",\"width\":0.5},\"pattern\":{\"fillmode\":\"overlay\",\"size\":10,\"solidity\":0.2}},\"type\":\"bar\"}],\"scattergeo\":[{\"type\":\"scattergeo\",\"marker\":{\"colorbar\":{\"outlinewidth\":0,\"ticks\":\"\"}}}],\"scatterpolar\":[{\"type\":\"scatterpolar\",\"marker\":{\"colorbar\":{\"outlinewidth\":0,\"ticks\":\"\"}}}],\"histogram\":[{\"marker\":{\"pattern\":{\"fillmode\":\"overlay\",\"size\":10,\"solidity\":0.2}},\"type\":\"histogram\"}],\"scattergl\":[{\"type\":\"scattergl\",\"marker\":{\"colorbar\":{\"outlinewidth\":0,\"ticks\":\"\"}}}],\"scatter3d\":[{\"type\":\"scatter3d\",\"line\":{\"colorbar\":{\"outlinewidth\":0,\"ticks\":\"\"}},\"marker\":{\"colorbar\":{\"outlinewidth\":0,\"ticks\":\"\"}}}],\"scattermapbox\":[{\"type\":\"scattermapbox\",\"marker\":{\"colorbar\":{\"outlinewidth\":0,\"ticks\":\"\"}}}],\"scatterternary\":[{\"type\":\"scatterternary\",\"marker\":{\"colorbar\":{\"outlinewidth\":0,\"ticks\":\"\"}}}],\"scattercarpet\":[{\"type\":\"scattercarpet\",\"marker\":{\"colorbar\":{\"outlinewidth\":0,\"ticks\":\"\"}}}],\"carpet\":[{\"aaxis\":{\"endlinecolor\":\"#2a3f5f\",\"gridcolor\":\"white\",\"linecolor\":\"white\",\"minorgridcolor\":\"white\",\"startlinecolor\":\"#2a3f5f\"},\"baxis\":{\"endlinecolor\":\"#2a3f5f\",\"gridcolor\":\"white\",\"linecolor\":\"white\",\"minorgridcolor\":\"white\",\"startlinecolor\":\"#2a3f5f\"},\"type\":\"carpet\"}],\"table\":[{\"cells\":{\"fill\":{\"color\":\"#EBF0F8\"},\"line\":{\"color\":\"white\"}},\"header\":{\"fill\":{\"color\":\"#C8D4E3\"},\"line\":{\"color\":\"white\"}},\"type\":\"table\"}],\"barpolar\":[{\"marker\":{\"line\":{\"color\":\"#E5ECF6\",\"width\":0.5},\"pattern\":{\"fillmode\":\"overlay\",\"size\":10,\"solidity\":0.2}},\"type\":\"barpolar\"}],\"pie\":[{\"automargin\":true,\"type\":\"pie\"}]},\"layout\":{\"autotypenumbers\":\"strict\",\"colorway\":[\"#636efa\",\"#EF553B\",\"#00cc96\",\"#ab63fa\",\"#FFA15A\",\"#19d3f3\",\"#FF6692\",\"#B6E880\",\"#FF97FF\",\"#FECB52\"],\"font\":{\"color\":\"#2a3f5f\"},\"hovermode\":\"closest\",\"hoverlabel\":{\"align\":\"left\"},\"paper_bgcolor\":\"white\",\"plot_bgcolor\":\"#E5ECF6\",\"polar\":{\"bgcolor\":\"#E5ECF6\",\"angularaxis\":{\"gridcolor\":\"white\",\"linecolor\":\"white\",\"ticks\":\"\"},\"radialaxis\":{\"gridcolor\":\"white\",\"linecolor\":\"white\",\"ticks\":\"\"}},\"ternary\":{\"bgcolor\":\"#E5ECF6\",\"aaxis\":{\"gridcolor\":\"white\",\"linecolor\":\"white\",\"ticks\":\"\"},\"baxis\":{\"gridcolor\":\"white\",\"linecolor\":\"white\",\"ticks\":\"\"},\"caxis\":{\"gridcolor\":\"white\",\"linecolor\":\"white\",\"ticks\":\"\"}},\"coloraxis\":{\"colorbar\":{\"outlinewidth\":0,\"ticks\":\"\"}},\"colorscale\":{\"sequential\":[[0.0,\"#0d0887\"],[0.1111111111111111,\"#46039f\"],[0.2222222222222222,\"#7201a8\"],[0.3333333333333333,\"#9c179e\"],[0.4444444444444444,\"#bd3786\"],[0.5555555555555556,\"#d8576b\"],[0.6666666666666666,\"#ed7953\"],[0.7777777777777778,\"#fb9f3a\"],[0.8888888888888888,\"#fdca26\"],[1.0,\"#f0f921\"]],\"sequentialminus\":[[0.0,\"#0d0887\"],[0.1111111111111111,\"#46039f\"],[0.2222222222222222,\"#7201a8\"],[0.3333333333333333,\"#9c179e\"],[0.4444444444444444,\"#bd3786\"],[0.5555555555555556,\"#d8576b\"],[0.6666666666666666,\"#ed7953\"],[0.7777777777777778,\"#fb9f3a\"],[0.8888888888888888,\"#fdca26\"],[1.0,\"#f0f921\"]],\"diverging\":[[0,\"#8e0152\"],[0.1,\"#c51b7d\"],[0.2,\"#de77ae\"],[0.3,\"#f1b6da\"],[0.4,\"#fde0ef\"],[0.5,\"#f7f7f7\"],[0.6,\"#e6f5d0\"],[0.7,\"#b8e186\"],[0.8,\"#7fbc41\"],[0.9,\"#4d9221\"],[1,\"#276419\"]]},\"xaxis\":{\"gridcolor\":\"white\",\"linecolor\":\"white\",\"ticks\":\"\",\"title\":{\"standoff\":15},\"zerolinecolor\":\"white\",\"automargin\":true,\"zerolinewidth\":2},\"yaxis\":{\"gridcolor\":\"white\",\"linecolor\":\"white\",\"ticks\":\"\",\"title\":{\"standoff\":15},\"zerolinecolor\":\"white\",\"automargin\":true,\"zerolinewidth\":2},\"scene\":{\"xaxis\":{\"backgroundcolor\":\"#E5ECF6\",\"gridcolor\":\"white\",\"linecolor\":\"white\",\"showbackground\":true,\"ticks\":\"\",\"zerolinecolor\":\"white\",\"gridwidth\":2},\"yaxis\":{\"backgroundcolor\":\"#E5ECF6\",\"gridcolor\":\"white\",\"linecolor\":\"white\",\"showbackground\":true,\"ticks\":\"\",\"zerolinecolor\":\"white\",\"gridwidth\":2},\"zaxis\":{\"backgroundcolor\":\"#E5ECF6\",\"gridcolor\":\"white\",\"linecolor\":\"white\",\"showbackground\":true,\"ticks\":\"\",\"zerolinecolor\":\"white\",\"gridwidth\":2}},\"shapedefaults\":{\"line\":{\"color\":\"#2a3f5f\"}},\"annotationdefaults\":{\"arrowcolor\":\"#2a3f5f\",\"arrowhead\":0,\"arrowwidth\":1},\"geo\":{\"bgcolor\":\"white\",\"landcolor\":\"#E5ECF6\",\"subunitcolor\":\"white\",\"showland\":true,\"showlakes\":true,\"lakecolor\":\"white\"},\"title\":{\"x\":0.05},\"mapbox\":{\"style\":\"light\"}}},\"xaxis\":{\"anchor\":\"y\",\"domain\":[0.0,1.0],\"title\":{\"text\":\"Categoria\"}},\"yaxis\":{\"anchor\":\"x\",\"domain\":[0.0,1.0],\"title\":{\"text\":\"Desconto\"}},\"legend\":{\"title\":{\"text\":\"Marca\"},\"tracegroupgap\":0},\"margin\":{\"t\":60}},                        {\"responsive\": true}                    ).then(function(){\n",
       "                            \n",
       "var gd = document.getElementById('704a1eb0-1c5f-45d3-9047-6e8368303d2a');\n",
       "var x = new MutationObserver(function (mutations, observer) {{\n",
       "        var display = window.getComputedStyle(gd).display;\n",
       "        if (!display || display === 'none') {{\n",
       "            console.log([gd, 'removed!']);\n",
       "            Plotly.purge(gd);\n",
       "            observer.disconnect();\n",
       "        }}\n",
       "}});\n",
       "\n",
       "// Listen for the removal of the full notebook cells\n",
       "var notebookContainer = gd.closest('#notebook-container');\n",
       "if (notebookContainer) {{\n",
       "    x.observe(notebookContainer, {childList: true});\n",
       "}}\n",
       "\n",
       "// Listen for the clearing of the current output cell\n",
       "var outputEl = gd.closest('.output');\n",
       "if (outputEl) {{\n",
       "    x.observe(outputEl, {childList: true});\n",
       "}}\n",
       "\n",
       "                        })                };                });            </script>        </div>"
      ]
     },
     "metadata": {},
     "output_type": "display_data"
    }
   ],
   "source": [
    "# Seu código aqui\n",
    "fig = px.area(df, x=\"Categoria\", y=\"Desconto\", color=\"Marca\", line_group=\"Marca\")\n",
    "fig.show()"
   ]
  }
 ],
 "metadata": {
  "colab": {
   "provenance": []
  },
  "kernelspec": {
   "display_name": "Python 3 (ipykernel)",
   "language": "python",
   "name": "python3"
  },
  "language_info": {
   "codemirror_mode": {
    "name": "ipython",
    "version": 3
   },
   "file_extension": ".py",
   "mimetype": "text/x-python",
   "name": "python",
   "nbconvert_exporter": "python",
   "pygments_lexer": "ipython3",
   "version": "3.12.4"
  }
 },
 "nbformat": 4,
 "nbformat_minor": 4
}
